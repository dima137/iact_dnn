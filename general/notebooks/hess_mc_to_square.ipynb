{
 "cells": [
  {
   "cell_type": "code",
   "execution_count": 54,
   "id": "1ab313ca",
   "metadata": {},
   "outputs": [],
   "source": [
    "# example derived from /home/woody/caph/mpp228/ML/CTA/dl1-data-handler_stage1/notebooks/dl1reading_stage1.ipynb\n",
    "# conda activate dl1dh_s1\n",
    "import numpy as np\n",
    "import matplotlib.pyplot as plt\n",
    "import os\n",
    "import h5py\n",
    "import time\n",
    "import sys\n",
    "sys.path.append(\"../../\") # go to parent dir\n",
    "import iact_dnn_utils as utils\n",
    "import tables as tb\n",
    "\n",
    "from dl1_data_handler.reader import DL1DataReaderSTAGE1, DL1DataReaderDL1DH"
   ]
  },
  {
   "cell_type": "code",
   "execution_count": 55,
   "id": "0c5026d7",
   "metadata": {},
   "outputs": [
    {
     "data": {
      "text/plain": [
       "<module 'iact_dnn_utils' from '/home/woody/caph/mpp228/ML/iact_dnn/general/notebooks/../../iact_dnn_utils.py'>"
      ]
     },
     "execution_count": 55,
     "metadata": {},
     "output_type": "execute_result"
    }
   ],
   "source": [
    "import importlib\n",
    "importlib.reload(utils)"
   ]
  },
  {
   "cell_type": "code",
   "execution_count": 56,
   "id": "77f33a52",
   "metadata": {},
   "outputs": [],
   "source": [
    "cdict = {'mode':'mono',\n",
    "         #'tel':'MST_MST_FlashCam',\n",
    "         #'tel':'LST_LST_LSTCam',\n",
    "        'Etrue_min':0.3,\n",
    "         #'Etrue_min':None,\n",
    "        'n_events':10**4,\n",
    "         'n_events_tot':10**6,\n",
    "         'folder_dl1':'/home/saturn/caph/mpp228/HESS_data/HESS_data_MC/sim_telarray/phase2d/NSB1.00\\\n",
    "/Desert/Proton_Electron_Gamma-diffuse/20deg/180deg/0.0deg-ws0/Data_h5/',\n",
    "         'folder_square':'/home/saturn/caph/mpp228/HESS_data/HESS_data_MC/sim_telarray/phase2d/NSB1.00\\\n",
    "/Desert/Proton_Electron_Gamma-diffuse/20deg/180deg/0.0deg-ws0/Data_square/',\n",
    "         'event_type':'proton', # 'proton', 'gamma', 'electron',\n",
    "         'mapping_settings': {'camera_types':['HESS-I']},\n",
    "        }"
   ]
  },
  {
   "cell_type": "code",
   "execution_count": 57,
   "id": "c227a171",
   "metadata": {
    "scrolled": true
   },
   "outputs": [
    {
     "name": "stdout",
     "output_type": "stream",
     "text": [
      "10000 mono\n",
      "361 proton_20deg_180deg_run20526___phase2d2_desert-ws0-nsb1.00.h5\n",
      "input folder: /home/saturn/caph/mpp228/HESS_data/HESS_data_MC/sim_telarray/phase2d/NSB1.00/Desert/Proton_Electron_Gamma-diffuse/20deg/180deg/0.0deg-ws0/Data_h5/\n",
      "output folder: /home/saturn/caph/mpp228/HESS_data/HESS_data_MC/sim_telarray/phase2d/NSB1.00/Desert/Proton_Electron_Gamma-diffuse/20deg/180deg/0.0deg-ws0/Data_square/\n",
      "['image', 'image_mask', 'peak_time'] ['obs_id', 'event_id', 'tel_id', 'camera_frame_hillas_intensity', 'camera_frame_hillas_x', 'camera_frame_hillas_y', 'camera_frame_hillas_width', 'camera_frame_hillas_length', 'camera_frame_hillas_psi', 'camera_frame_hillas_skewness', 'camera_frame_hillas_kurtosis', 'camera_frame_hillas_r', 'camera_frame_hillas_phi', 'morphology_num_pixels', 'morphology_num_medium_islands', 'morphology_num_large_islands', 'leakage_pixels_width_1', 'leakage_pixels_width_2', 'leakage_intensity_width_1', 'leakage_intensity_width_2', 'intensity_mean'] ['true_energy', 'true_alt', 'true_az']\n"
     ]
    }
   ],
   "source": [
    "test = False\n",
    "if test:\n",
    "    cdict['n_events'] = 1000\n",
    "    cdict['n_events_tot'] = 2000\n",
    "    \n",
    "event_type = cdict['event_type'] # 'proton', 'gamma-diffuse', 'electron'\n",
    "evt = event_type.split('-')[0]\n",
    "mode = cdict['mode'] # 'mono', 'stereo'\n",
    "if mode == 'mono':\n",
    "    ntels = 1\n",
    "else:\n",
    "    ntels = 4 # generalize in the future?\n",
    "\n",
    "mapping_settings = cdict['mapping_settings']\n",
    "\n",
    "Etrue_min = cdict['Etrue_min']\n",
    "if Etrue_min is not None:\n",
    "    event_selection = [{'col_name': \"true_energy\", 'min_value':Etrue_min}]\n",
    "else:\n",
    "    event_selection = None\n",
    "\n",
    "#n_events = 1000 #10**4\n",
    "n_events = cdict['n_events'] # events per file\n",
    "n_events_tot = cdict['n_events_tot'] # total number of events\n",
    "print(n_events, mode)\n",
    "\n",
    "#folder = '/home/saturn/caph/mpp228/CTA_data/Prod5_GRID/'\n",
    "#folder_in = folder + 'Prod5_Paranal_AdvancedBaseline_NSB1x_%s_North_20deg_ctapipe_v0.10.5_DL1/' % event_type\n",
    "folder_in = cdict['folder_dl1'].replace('EventPlaceholder', event_type)\n",
    "fns = os.listdir(folder_in)\n",
    "fns = [fn for fn in fns if fn.endswith('h5') and fn.startswith(event_type)]\n",
    "print(len(fns), fns[0])\n",
    "\n",
    "folder_out = cdict['folder_square']\n",
    "if not os.path.isdir(folder_out):\n",
    "    os.mkdir(folder_out)\n",
    "    \n",
    "fn_out = folder_out + utils.get_square_images_fn(cdict)\n",
    "\n",
    "print('input folder:', folder_in)\n",
    "print('output folder:', folder_out)\n",
    "\n",
    "channels_list = ['image', 'image_mask', 'peak_time',]\n",
    "tel_pars_list = ['obs_id', 'event_id', 'tel_id', \n",
    "                 'camera_frame_hillas_intensity', 'camera_frame_hillas_x', 'camera_frame_hillas_y', \n",
    "                 'camera_frame_hillas_width', 'camera_frame_hillas_length',\n",
    "                 'camera_frame_hillas_psi', 'camera_frame_hillas_skewness', 'camera_frame_hillas_kurtosis', \n",
    "                 'camera_frame_hillas_r', 'camera_frame_hillas_phi',\n",
    "            'morphology_num_pixels', 'morphology_num_medium_islands', 'morphology_num_large_islands',\n",
    "            'leakage_pixels_width_1', 'leakage_pixels_width_2', \n",
    "            'leakage_intensity_width_1', 'leakage_intensity_width_2',\n",
    "            'intensity_mean'] # tel parameters in cta-pipe .h5\n",
    "if mode == 'stereo':\n",
    "    tel_pars_list_extra = ['tel_trigger'] # tel parameters in cta-pipe .h5\n",
    "else:\n",
    "    tel_pars_list_extra = []\n",
    "mc_info_list = [\"true_energy\", \"true_alt\", \"true_az\"] # mc parameters\n",
    "groups = ['mc_pars', 'tel_pars', 'tel_pars_extra']\n",
    "\n",
    "print(channels_list, tel_pars_list, mc_info_list)\n",
    "\n",
    "def fn2reader(fn, mode='mono'):\n",
    "    return DL1DataReaderSTAGE1([fn],\n",
    "                             mode=mode,\n",
    "                             #example_identifiers_file=\"./examples.h5\",\n",
    "                             #selected_telescope_types=selected_telescope_types,\n",
    "                             mapping_settings=mapping_settings,\n",
    "                             #selected_telescope_ids={\"LST_LST_LSTCam\": LSTcams},\n",
    "                             #image_channels = ['image', 'peak_time', 'image_mask'],\n",
    "                             image_channels=channels_list,\n",
    "                             parameter_list=tel_pars_list,\n",
    "                             event_info=mc_info_list,\n",
    "                             event_selection=event_selection)"
   ]
  },
  {
   "cell_type": "code",
   "execution_count": 58,
   "id": "92db4a89",
   "metadata": {},
   "outputs": [
    {
     "name": "stdout",
     "output_type": "stream",
     "text": [
      "921\n",
      "361\n"
     ]
    }
   ],
   "source": [
    "fns0 = os.listdir(folder_in)\n",
    "fns = [fn for fn in fns0 if fn.endswith('h5') and fn.startswith(event_type)]\n",
    "print(len(fns0))\n",
    "print(len(fns))\n"
   ]
  },
  {
   "cell_type": "code",
   "execution_count": 59,
   "id": "4755721c",
   "metadata": {},
   "outputs": [],
   "source": [
    "out_dict = {key:{} for key in groups}\n",
    "for key in mc_info_list:\n",
    "    out_dict['mc_pars'][key] = np.zeros(n_events)\n",
    "for key in tel_pars_list:\n",
    "    out_dict['tel_pars'][key] = np.zeros((n_events, ntels))\n",
    "for key in tel_pars_list_extra:\n",
    "    out_dict['tel_pars_extra'][key] = np.zeros((n_events, ntels))"
   ]
  },
  {
   "cell_type": "code",
   "execution_count": 60,
   "id": "fc04cd29",
   "metadata": {},
   "outputs": [],
   "source": [
    "if test:\n",
    "    fn = folder_in + fns[0]\n",
    "    reader = fn2reader(fn, mode=mode)\n",
    "    print(len(reader), mode)\n",
    "    if mode == 'mono':\n",
    "        print(reader[0][0].shape)\n",
    "    else:\n",
    "        print(reader[0][1].shape)\n"
   ]
  },
  {
   "cell_type": "code",
   "execution_count": 61,
   "id": "2c453587",
   "metadata": {},
   "outputs": [],
   "source": [
    "# there seems to be memory leakage in DL1DH: it cannot read more than about 500 files\n",
    "# one needs to write the last filenumber for input and output here and restart the kernel\n",
    "# the calculation will start with these files + 1\n",
    "# for the initial run put i = -1, out_file_number = 0\n",
    "if event_type == 'proton':\n",
    "    i = 357\n",
    "    out_file_number = 38\n",
    "elif event_type == 'gamma':\n",
    "    i = 330\n",
    "    out_file_number = 51\n",
    "elif event_type == 'electron':\n",
    "    i = 194\n",
    "    out_file_number = 30\n",
    "\n",
    "nout = 0\n",
    "nout_tot = 0\n",
    "finish = False"
   ]
  },
  {
   "cell_type": "code",
   "execution_count": 62,
   "id": "e9cb69ac",
   "metadata": {
    "scrolled": false
   },
   "outputs": [
    {
     "name": "stdout",
     "output_type": "stream",
     "text": [
      "300 files, 8733 events, 3.70 s to read, 34.19 s past\n",
      "write 10000 events to file:\n",
      "i = 301\n",
      "/home/saturn/caph/mpp228/HESS_data/HESS_data_MC/sim_telarray/phase2d/NSB1.00/Desert/Proton_Electron_Gamma-diffuse/20deg/180deg/0.0deg-ws0/Data_square/proton_10000_images_mono_Etrue_min0.3TeV_file32.h5\n",
      "310 files, 19162 events, 8.55 s to read, 77.06 s past\n",
      "write 10000 events to file:\n",
      "i = 310\n",
      "/home/saturn/caph/mpp228/HESS_data/HESS_data_MC/sim_telarray/phase2d/NSB1.00/Desert/Proton_Electron_Gamma-diffuse/20deg/180deg/0.0deg-ws0/Data_square/proton_10000_images_mono_Etrue_min0.3TeV_file33.h5\n",
      "320 files, 29743 events, 13.12 s to read, 119.87 s past\n",
      "write 10000 events to file:\n",
      "i = 320\n",
      "/home/saturn/caph/mpp228/HESS_data/HESS_data_MC/sim_telarray/phase2d/NSB1.00/Desert/Proton_Electron_Gamma-diffuse/20deg/180deg/0.0deg-ws0/Data_square/proton_10000_images_mono_Etrue_min0.3TeV_file34.h5\n",
      "write 10000 events to file:\n",
      "i = 329\n",
      "/home/saturn/caph/mpp228/HESS_data/HESS_data_MC/sim_telarray/phase2d/NSB1.00/Desert/Proton_Electron_Gamma-diffuse/20deg/180deg/0.0deg-ws0/Data_square/proton_10000_images_mono_Etrue_min0.3TeV_file35.h5\n",
      "330 files, 40851 events, 17.98 s to read, 167.43 s past\n",
      "write 10000 events to file:\n",
      "i = 338\n",
      "/home/saturn/caph/mpp228/HESS_data/HESS_data_MC/sim_telarray/phase2d/NSB1.00/Desert/Proton_Electron_Gamma-diffuse/20deg/180deg/0.0deg-ws0/Data_square/proton_10000_images_mono_Etrue_min0.3TeV_file36.h5\n",
      "340 files, 51720 events, 22.57 s to read, 211.29 s past\n",
      "write 10000 events to file:\n",
      "i = 347\n",
      "/home/saturn/caph/mpp228/HESS_data/HESS_data_MC/sim_telarray/phase2d/NSB1.00/Desert/Proton_Electron_Gamma-diffuse/20deg/180deg/0.0deg-ws0/Data_square/proton_10000_images_mono_Etrue_min0.3TeV_file37.h5\n",
      "350 files, 62056 events, 29.86 s to read, 256.93 s past\n",
      "write 10000 events to file:\n",
      "i = 357\n",
      "/home/saturn/caph/mpp228/HESS_data/HESS_data_MC/sim_telarray/phase2d/NSB1.00/Desert/Proton_Electron_Gamma-diffuse/20deg/180deg/0.0deg-ws0/Data_square/proton_10000_images_mono_Etrue_min0.3TeV_file38.h5\n",
      "360 files, 72964 events, 34.35 s to read, 301.17 s past\n",
      "CPU times: user 4min 49s, sys: 7.37 s, total: 4min 56s\n",
      "Wall time: 5min 5s\n"
     ]
    }
   ],
   "source": [
    "%%time\n",
    "t0 = time.time()\n",
    "t_read = 0.\n",
    "\n",
    "if mode == 'mono':\n",
    "    i0 = 0\n",
    "else:\n",
    "    i0 = 1\n",
    "\n",
    "i += 1\n",
    "while nout_tot < n_events_tot or finish:\n",
    "    fn = folder_in + fns[i]\n",
    "    t_read0 = time.time()\n",
    "    \n",
    "    skip = False\n",
    "    try:\n",
    "        reader = fn2reader(fn, mode=mode)\n",
    "    except tb.NoSuchNodeError:\n",
    "        print('problem with file:')\n",
    "        print(fn)\n",
    "        print('skipping it\\n')\n",
    "        skip = True\n",
    "        #break\n",
    "        #finish = True\n",
    "    except:\n",
    "        print('problem with file:')\n",
    "        print(fn)\n",
    "        print(i)\n",
    "        break\n",
    "        #finish = True\n",
    "        \n",
    "    if not skip:\n",
    "        t_read += time.time() - t_read0\n",
    "        if 'image' not in out_dict:\n",
    "            im_dims = reader[0][i0].shape[i0:i0+2]\n",
    "            for key in channels_list:\n",
    "                if mode == 'stereo':\n",
    "                    out_dict[key] = np.zeros((n_events, im_dims[0], im_dims[1], ntels), dtype=np.float32)\n",
    "                else:\n",
    "                    out_dict[key] = np.zeros((n_events, im_dims[0], im_dims[1]), dtype=np.float32)\n",
    "        for k in range(len(reader)):\n",
    "            if nout + k == n_events:\n",
    "                nout_tot += n_events\n",
    "                nout = -k\n",
    "                out_file_number += 1\n",
    "                fn_out_running = fn_out.replace('.h5', '_file%i.h5' % out_file_number)\n",
    "                if test:\n",
    "                    fn_out_running = fn_out_running.replace('.h5', '_test.h5')\n",
    "                if os.path.isfile(fn_out_running):\n",
    "                    os.remove(fn_out_running)\n",
    "                with h5py.File(fn_out_running, 'w') as h5_out:\n",
    "                    for key in out_dict.keys():\n",
    "                        if key in h5_out:\n",
    "                            del h5_out[key]\n",
    "                        if key in groups:\n",
    "                            h5_out.create_group(key)\n",
    "                            for vkey in out_dict[key].keys():\n",
    "                                h5_out[key][vkey] = out_dict[key][vkey]\n",
    "                        else:\n",
    "                            h5_out[key] = out_dict[key]\n",
    "                print('write %i events to file:' % n_events)\n",
    "                print('i = %i' %i)\n",
    "                print(fn_out_running)\n",
    "\n",
    "            #out_dict['images'][nout + k] = reader[k][0][:,:,0]\n",
    "\n",
    "            if mode == 'stereo':\n",
    "                trigger = reader[k][0][:]\n",
    "            if channels_list:\n",
    "                images = reader[k][i0][:]\n",
    "            if tel_pars_list:\n",
    "                pars = reader[k][i0+1].T\n",
    "            if mc_info_list:\n",
    "                mc_pars = reader[k][i0+2:i0+2+len(mc_info_list)]\n",
    "\n",
    "            for m, key in enumerate(channels_list):\n",
    "                if mode == 'mono':\n",
    "                    out_dict[key][nout + k] = images[:,:,m]\n",
    "                else:\n",
    "                    out_dict[key][nout + k] = np.transpose(images.T[m], (1,0,2))\n",
    "            for m, key in enumerate(tel_pars_list):\n",
    "                out_dict['tel_pars'][key][nout + k] = pars[m]\n",
    "            for m, key in enumerate(mc_info_list):\n",
    "                out_dict['mc_pars'][key][nout + k] = mc_pars[m]\n",
    "            for key in tel_pars_list_extra:\n",
    "                if key == 'tel_trigger' and mode == 'stereo':\n",
    "                    out_dict['tel_pars_extra'][key][nout + k] = trigger\n",
    "        nout += len(reader)\n",
    "        del reader\n",
    "    i += 1\n",
    "    if i == len(fns):\n",
    "        break\n",
    "    if i % 10 == 0 or test:\n",
    "        print('%i files, %i events, %.2f s to read, %.2f s past' % \n",
    "              (i, (nout_tot + nout), t_read, time.time() - t0))\n",
    "    \n"
   ]
  },
  {
   "cell_type": "code",
   "execution_count": 63,
   "id": "185f5b43",
   "metadata": {},
   "outputs": [
    {
     "data": {
      "text/plain": [
       "(70000, 4075, 1000000)"
      ]
     },
     "execution_count": 63,
     "metadata": {},
     "output_type": "execute_result"
    }
   ],
   "source": [
    "nout_tot, nout, n_events_tot"
   ]
  },
  {
   "cell_type": "code",
   "execution_count": 64,
   "id": "9488a173",
   "metadata": {},
   "outputs": [
    {
     "data": {
      "text/plain": [
       "'/home/saturn/caph/mpp228/HESS_data/HESS_data_MC/sim_telarray/phase2d/NSB1.00/Desert/Proton_Electron_Gamma-diffuse/20deg/180deg/0.0deg-ws0/Data_square/'"
      ]
     },
     "execution_count": 64,
     "metadata": {},
     "output_type": "execute_result"
    }
   ],
   "source": [
    "folder_out"
   ]
  },
  {
   "cell_type": "code",
   "execution_count": 65,
   "id": "4176c30a",
   "metadata": {},
   "outputs": [
    {
     "data": {
      "text/plain": [
       "['proton_10000_images_mono_Etrue_min0.3TeV_file14.h5',\n",
       " 'electron_10000_images_mono_Etrue_min0.3TeV_file13.h5',\n",
       " 'proton_10000_images_mono_Etrue_min0.3TeV_file5.h5',\n",
       " 'electron_10000_images_mono_Etrue_min0.3TeV_file9.h5',\n",
       " 'electron_10000_images_mono_Etrue_min0.3TeV_file6.h5',\n",
       " 'proton_10000_images_mono_Etrue_min0.3TeV_file2.h5',\n",
       " 'electron_10000_images_mono_Etrue_min0.3TeV_file12.h5',\n",
       " 'electron_10000_images_mono_Etrue_min0.3TeV_file16.h5',\n",
       " 'proton_10000_images_mono_Etrue_min0.3TeV_file22.h5',\n",
       " 'gamma_10000_images_mono_Etrue_min0.3TeV_file24.h5',\n",
       " 'proton_10000_images_mono_Etrue_min0.3TeV_file16.h5',\n",
       " 'electron_10000_images_mono_Etrue_min0.3TeV_file5.h5',\n",
       " 'gamma_10000_images_mono_Etrue_min0.3TeV_file16.h5',\n",
       " 'proton_10000_images_mono_Etrue_min0.3TeV_file9.h5',\n",
       " 'electron_10000_images_mono_Etrue_min0.3TeV_file26.h5',\n",
       " 'gamma_10000_images_mono_Etrue_min0.3TeV_file50.h5',\n",
       " 'gamma_10000_images_mono_Etrue_min0.3TeV_file31.h5',\n",
       " 'electron_10000_images_mono_Etrue_min0.3TeV_file1.h5',\n",
       " 'gamma_10000_images_mono_Etrue_min0.3TeV_file2.h5',\n",
       " 'gamma_10000_images_mono_Etrue_min0.3TeV_file4.h5',\n",
       " 'gamma_10000_images_mono_Etrue_min0.3TeV_file30.h5',\n",
       " 'electron_10000_images_mono_Etrue_min0.3TeV_file7.h5',\n",
       " 'electron_10000_images_mono_Etrue_min0.3TeV_file23.h5',\n",
       " 'gamma_10000_images_mono_Etrue_min0.3TeV_file41.h5',\n",
       " 'electron_10000_images_mono_Etrue_min0.3TeV_file18.h5',\n",
       " 'gamma_10000_images_mono_Etrue_min0.3TeV_file12.h5',\n",
       " 'proton_10000_images_mono_Etrue_min0.3TeV_file6.h5',\n",
       " 'gamma_10000_images_mono_Etrue_min0.3TeV_file33.h5',\n",
       " 'proton_10000_images_mono_Etrue_min0.3TeV_file31.h5',\n",
       " 'electron_10000_images_mono_Etrue_min0.3TeV_file21.h5',\n",
       " 'gamma_10000_images_mono_Etrue_min0.3TeV_file37.h5',\n",
       " 'gamma_10000_images_mono_Etrue_min0.3TeV_file26.h5',\n",
       " 'gamma_10000_images_mono_Etrue_min0.3TeV_file21.h5',\n",
       " 'proton_10000_images_mono_Etrue_min0.3TeV_file28.h5',\n",
       " 'gamma_10000_images_mono_Etrue_min0.3TeV_file45.h5',\n",
       " 'electron_10000_images_mono_Etrue_min0.3TeV_file28.h5',\n",
       " 'gamma_10000_images_mono_Etrue_min0.3TeV_file32.h5',\n",
       " 'proton_10000_images_mono_Etrue_min0.3TeV_file21.h5',\n",
       " 'gamma_10000_images_mono_Etrue_min0.3TeV_file5.h5',\n",
       " 'gamma_10000_images_mono_Etrue_min0.3TeV_file28.h5',\n",
       " 'proton_10000_images_mono_Etrue_min0.3TeV_file24.h5',\n",
       " 'gamma_10000_images_mono_Etrue_min0.3TeV_file43.h5',\n",
       " 'gamma_10000_images_mono_Etrue_min0.3TeV_file9.h5',\n",
       " 'gamma_10000_images_mono_Etrue_min0.3TeV_file42.h5',\n",
       " 'electron_10000_images_mono_Etrue_min0.3TeV_file22.h5',\n",
       " 'gamma_10000_images_mono_Etrue_min0.3TeV_file39.h5',\n",
       " 'gamma_10000_images_mono_Etrue_min0.3TeV_file36.h5',\n",
       " 'proton_10000_images_mono_Etrue_min0.3TeV_file20.h5',\n",
       " 'proton_10000_images_mono_Etrue_min0.3TeV_file37.h5',\n",
       " 'gamma_10000_images_mono_Etrue_min0.3TeV_file14.h5',\n",
       " 'proton_10000_images_mono_Etrue_min0.3TeV_file3.h5',\n",
       " 'proton_10000_images_mono_Etrue_min0.3TeV_file11.h5',\n",
       " 'gamma_10000_images_mono_Etrue_min0.3TeV_file40.h5',\n",
       " 'proton_10000_images_mono_Etrue_min0.3TeV_file18.h5',\n",
       " 'proton_10000_images_mono_Etrue_min0.3TeV_file32.h5',\n",
       " 'gamma_10000_images_mono_Etrue_min0.3TeV_file17.h5',\n",
       " 'gamma_10000_images_mono_Etrue_min0.3TeV_file1.h5',\n",
       " 'proton_10000_images_mono_Etrue_min0.3TeV_file15.h5',\n",
       " 'gamma_10000_images_mono_Etrue_min0.3TeV_file10.h5',\n",
       " 'electron_10000_images_mono_Etrue_min0.3TeV_file19.h5',\n",
       " 'gamma_10000_images_mono_Etrue_min0.3TeV_file38.h5',\n",
       " 'electron_10000_images_mono_Etrue_min0.3TeV_file30.h5',\n",
       " 'electron_10000_images_mono_Etrue_min0.3TeV_file2.h5',\n",
       " 'gamma_10000_images_mono_Etrue_min0.3TeV_file49.h5',\n",
       " 'gamma_10000_images_mono_Etrue_min0.3TeV_file3.h5',\n",
       " 'proton_10000_images_mono_Etrue_min0.3TeV_file13.h5',\n",
       " 'gamma_10000_images_mono_Etrue_min0.3TeV_file46.h5',\n",
       " 'electron_10000_images_mono_Etrue_min0.3TeV_file29.h5',\n",
       " 'proton_10000_images_mono_Etrue_min0.3TeV_file10.h5',\n",
       " 'gamma_10000_images_mono_Etrue_min0.3TeV_file29.h5',\n",
       " 'electron_10000_images_mono_Etrue_min0.3TeV_file10.h5',\n",
       " 'gamma_10000_images_mono_Etrue_min0.3TeV_file27.h5',\n",
       " 'proton_10000_images_mono_Etrue_min0.3TeV_file19.h5',\n",
       " 'gamma_10000_images_mono_Etrue_min0.3TeV_file51.h5',\n",
       " 'electron_10000_images_mono_Etrue_min0.3TeV_file24.h5',\n",
       " 'gamma_10000_images_mono_Etrue_min0.3TeV_file44.h5',\n",
       " 'gamma_10000_images_mono_Etrue_min0.3TeV_file48.h5',\n",
       " 'proton_10000_images_mono_Etrue_min0.3TeV_file33.h5',\n",
       " 'proton_10000_images_mono_Etrue_min0.3TeV_file1.h5',\n",
       " 'proton_10000_images_mono_Etrue_min0.3TeV_file27.h5',\n",
       " 'proton_10000_images_mono_Etrue_min0.3TeV_file36.h5',\n",
       " 'gamma_10000_images_mono_Etrue_min0.3TeV_file7.h5',\n",
       " 'gamma_10000_images_mono_Etrue_min0.3TeV_file11.h5',\n",
       " 'proton_10000_images_mono_Etrue_min0.3TeV_file35.h5',\n",
       " 'gamma_10000_images_mono_Etrue_min0.3TeV_file13.h5',\n",
       " 'proton_10000_images_mono_Etrue_min0.3TeV_file8.h5',\n",
       " 'proton_10000_images_mono_Etrue_min0.3TeV_file12.h5',\n",
       " 'gamma_10000_images_mono_Etrue_min0.3TeV_file6.h5',\n",
       " 'gamma_10000_images_mono_Etrue_min0.3TeV_file35.h5',\n",
       " 'electron_10000_images_mono_Etrue_min0.3TeV_file27.h5',\n",
       " 'proton_10000_images_mono_Etrue_min0.3TeV_file34.h5',\n",
       " 'electron_10000_images_mono_Etrue_min0.3TeV_file3.h5',\n",
       " 'gamma_10000_images_mono_Etrue_min0.3TeV_file22.h5',\n",
       " 'proton_10000_images_mono_Etrue_min0.3TeV_file38.h5',\n",
       " 'proton_10000_images_mono_Etrue_min0.3TeV_file29.h5',\n",
       " 'gamma_10000_images_mono_Etrue_min0.3TeV_file23.h5',\n",
       " 'gamma_10000_images_mono_Etrue_min0.3TeV_file34.h5',\n",
       " 'gamma_10000_images_mono_Etrue_min0.3TeV_file19.h5',\n",
       " 'gamma_10000_images_mono_Etrue_min0.3TeV_file20.h5',\n",
       " 'electron_10000_images_mono_Etrue_min0.3TeV_file14.h5',\n",
       " 'electron_10000_images_mono_Etrue_min0.3TeV_file17.h5',\n",
       " 'gamma_10000_images_mono_Etrue_min0.3TeV_file47.h5',\n",
       " 'electron_10000_images_mono_Etrue_min0.3TeV_file15.h5',\n",
       " 'electron_10000_images_mono_Etrue_min0.3TeV_file4.h5',\n",
       " 'electron_10000_images_mono_Etrue_min0.3TeV_file8.h5',\n",
       " 'proton_10000_images_mono_Etrue_min0.3TeV_file23.h5',\n",
       " 'electron_10000_images_mono_Etrue_min0.3TeV_file20.h5',\n",
       " 'proton_10000_images_mono_Etrue_min0.3TeV_file25.h5',\n",
       " 'proton_10000_images_mono_Etrue_min0.3TeV_file26.h5',\n",
       " 'electron_10000_images_mono_Etrue_min0.3TeV_file11.h5',\n",
       " 'gamma_10000_images_mono_Etrue_min0.3TeV_file18.h5',\n",
       " 'gamma_10000_images_mono_Etrue_min0.3TeV_file15.h5',\n",
       " 'proton_10000_images_mono_Etrue_min0.3TeV_file30.h5',\n",
       " 'proton_10000_images_mono_Etrue_min0.3TeV_file17.h5',\n",
       " 'proton_10000_images_mono_Etrue_min0.3TeV_file7.h5',\n",
       " 'electron_10000_images_mono_Etrue_min0.3TeV_file25.h5',\n",
       " 'proton_10000_images_mono_Etrue_min0.3TeV_file4.h5',\n",
       " 'gamma_10000_images_mono_Etrue_min0.3TeV_file8.h5',\n",
       " 'gamma_10000_images_mono_Etrue_min0.3TeV_file25.h5']"
      ]
     },
     "execution_count": 65,
     "metadata": {},
     "output_type": "execute_result"
    }
   ],
   "source": [
    "os.listdir(folder_out)"
   ]
  },
  {
   "cell_type": "code",
   "execution_count": 66,
   "id": "44a53762",
   "metadata": {},
   "outputs": [
    {
     "ename": "IndexError",
     "evalue": "list index out of range",
     "output_type": "error",
     "traceback": [
      "\u001b[0;31m---------------------------------------------------------------------------\u001b[0m",
      "\u001b[0;31mIndexError\u001b[0m                                Traceback (most recent call last)",
      "\u001b[0;32m/tmp/ipykernel_3466/999180882.py\u001b[0m in \u001b[0;36m<module>\u001b[0;34m\u001b[0m\n\u001b[1;32m      1\u001b[0m \u001b[0;32mif\u001b[0m \u001b[0;36m1\u001b[0m\u001b[0;34m:\u001b[0m\u001b[0;34m\u001b[0m\u001b[0;34m\u001b[0m\u001b[0m\n\u001b[0;32m----> 2\u001b[0;31m     \u001b[0mfn_test2\u001b[0m \u001b[0;34m=\u001b[0m \u001b[0mfolder_in\u001b[0m \u001b[0;34m+\u001b[0m \u001b[0mfns\u001b[0m\u001b[0;34m[\u001b[0m\u001b[0mi\u001b[0m\u001b[0;34m]\u001b[0m\u001b[0;34m\u001b[0m\u001b[0;34m\u001b[0m\u001b[0m\n\u001b[0m\u001b[1;32m      3\u001b[0m     \u001b[0mprint\u001b[0m\u001b[0;34m(\u001b[0m\u001b[0mfn_test2\u001b[0m\u001b[0;34m)\u001b[0m\u001b[0;34m\u001b[0m\u001b[0;34m\u001b[0m\u001b[0m\n\u001b[1;32m      4\u001b[0m     \u001b[0mreader\u001b[0m \u001b[0;34m=\u001b[0m \u001b[0mfn2reader\u001b[0m\u001b[0;34m(\u001b[0m\u001b[0mfn_test2\u001b[0m\u001b[0;34m,\u001b[0m \u001b[0mmode\u001b[0m\u001b[0;34m=\u001b[0m\u001b[0mmode\u001b[0m\u001b[0;34m)\u001b[0m\u001b[0;34m\u001b[0m\u001b[0;34m\u001b[0m\u001b[0m\n\u001b[1;32m      5\u001b[0m     \u001b[0;31m#del reader\u001b[0m\u001b[0;34m\u001b[0m\u001b[0;34m\u001b[0m\u001b[0;34m\u001b[0m\u001b[0m\n",
      "\u001b[0;31mIndexError\u001b[0m: list index out of range"
     ]
    }
   ],
   "source": [
    "if 1:\n",
    "    fn_test2 = folder_in + fns[i]\n",
    "    print(fn_test2)\n",
    "    reader = fn2reader(fn_test2, mode=mode)\n",
    "    #del reader\n",
    "    if 0:\n",
    "        try:\n",
    "            reader = fn2reader(fn_test2, mode=mode)\n",
    "        except:\n",
    "            print('skip')"
   ]
  },
  {
   "cell_type": "code",
   "execution_count": null,
   "id": "d875e288",
   "metadata": {},
   "outputs": [],
   "source": [
    "len(fns)"
   ]
  },
  {
   "cell_type": "code",
   "execution_count": null,
   "id": "f2948118",
   "metadata": {},
   "outputs": [],
   "source": []
  },
  {
   "cell_type": "code",
   "execution_count": null,
   "id": "d9340e0d",
   "metadata": {},
   "outputs": [],
   "source": [
    "test_output = 1\n",
    "if test_output:\n",
    "    with h5py.File(fn_out_running, 'r') as h5_test:\n",
    "        print(h5_test.keys())\n",
    "        print(h5_test['tel_pars'].keys())\n",
    "        print(h5_test['mc_pars'].keys())\n",
    "        print(h5_test['image'].shape)\n",
    "        tel_ids = np.array(h5_test['tel_pars']['tel_id'], dtype=int)\n"
   ]
  },
  {
   "cell_type": "code",
   "execution_count": null,
   "id": "46d5ca37",
   "metadata": {},
   "outputs": [],
   "source": [
    "#tel_ids = tel_ids[:,0]\n",
    "plt.hist(tel_ids, bins=np.arange(4.5, 29.5, 1))"
   ]
  },
  {
   "cell_type": "code",
   "execution_count": null,
   "id": "87575914",
   "metadata": {},
   "outputs": [],
   "source": [
    "if test:\n",
    "    if 'image' in out_dict:\n",
    "        plt.imshow(out_dict['image'][0,:,:,0])"
   ]
  },
  {
   "cell_type": "code",
   "execution_count": null,
   "id": "ca62e267",
   "metadata": {},
   "outputs": [],
   "source": [
    "if test:\n",
    "    with h5py.File(fn_out_running, 'r') as h5_test:\n",
    "        plt.imshow(h5_test['image'][0,:,:,0])"
   ]
  },
  {
   "cell_type": "code",
   "execution_count": null,
   "id": "9d216f79",
   "metadata": {},
   "outputs": [],
   "source": [
    "if test:\n",
    "    with h5py.File(fn_out_running, 'r') as h5_test:\n",
    "        plt.imshow(h5_test['image_mask'][0,:,:,0])"
   ]
  },
  {
   "cell_type": "code",
   "execution_count": null,
   "id": "18ff9956",
   "metadata": {},
   "outputs": [],
   "source": [
    "if test:\n",
    "    h5_test = h5py.File(fn_out_running, 'r')"
   ]
  },
  {
   "cell_type": "code",
   "execution_count": null,
   "id": "aae8879c",
   "metadata": {},
   "outputs": [],
   "source": [
    "if test:\n",
    "    for i in range(5):\n",
    "        EE = h5_test['mc_pars']['true_energy'][i]\n",
    "        hi = h5_test['tel_pars']['hillas_intensity'][i]\n",
    "        hx = h5_test['tel_pars']['hillas_x'][i]\n",
    "        print('%i, Energy %.3f' % (i, EE))\n",
    "        print('hillas intensity %s' % hi)\n",
    "        print('hillas x %s' % hx)\n"
   ]
  },
  {
   "cell_type": "code",
   "execution_count": null,
   "id": "79e2050f",
   "metadata": {},
   "outputs": [],
   "source": [
    "if test:\n",
    "    i = 9\n",
    "    xi = 110 * (1 + h5_test['tel_pars']['hillas_x'][i]) / 2\n",
    "    yi = 110 * (1 + h5_test['tel_pars']['hillas_y'][i]) / 2\n",
    "    plt.plot(xi, yi, marker='s')"
   ]
  },
  {
   "cell_type": "code",
   "execution_count": null,
   "id": "d4ec3864",
   "metadata": {},
   "outputs": [],
   "source": [
    "if test:\n",
    "    h5_test.close()"
   ]
  },
  {
   "cell_type": "code",
   "execution_count": null,
   "id": "770d8864",
   "metadata": {},
   "outputs": [],
   "source": [
    "if test:\n",
    "    # remove test files\n",
    "    for fn in os.listdir(folder_out):\n",
    "        if fn.find('_test.h5') > 0:\n",
    "            os.remove(folder_out + fn)"
   ]
  },
  {
   "cell_type": "code",
   "execution_count": null,
   "id": "1024ff78",
   "metadata": {},
   "outputs": [],
   "source": []
  }
 ],
 "metadata": {
  "kernelspec": {
   "display_name": "Python 3 (ipykernel)",
   "language": "python",
   "name": "python3"
  },
  "language_info": {
   "codemirror_mode": {
    "name": "ipython",
    "version": 3
   },
   "file_extension": ".py",
   "mimetype": "text/x-python",
   "name": "python",
   "nbconvert_exporter": "python",
   "pygments_lexer": "ipython3",
   "version": "3.8.12"
  }
 },
 "nbformat": 4,
 "nbformat_minor": 5
}
