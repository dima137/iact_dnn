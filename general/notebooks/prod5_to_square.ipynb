{
 "cells": [
  {
   "cell_type": "code",
   "execution_count": 1,
   "id": "1ab313ca",
   "metadata": {},
   "outputs": [],
   "source": [
    "# example derived from /home/woody/caph/mpp228/ML/CTA/dl1-data-handler_stage1/notebooks/dl1reading_stage1.ipynb\n",
    "# conda activate dl1dh_s1\n",
    "import numpy as np\n",
    "import matplotlib.pyplot as plt\n",
    "import os\n",
    "import h5py\n",
    "import time\n",
    "import sys\n",
    "sys.path.append(\"../../\") # go to parent dir\n",
    "import iact_dnn_utils as utils\n",
    "import tables as tb\n",
    "\n",
    "from dl1_data_handler.reader import DL1DataReaderSTAGE1, DL1DataReaderDL1DH"
   ]
  },
  {
   "cell_type": "code",
   "execution_count": 2,
   "id": "0c5026d7",
   "metadata": {},
   "outputs": [
    {
     "data": {
      "text/plain": [
       "<module 'iact_dnn_utils' from '/home/woody/caph/mpp228/ML/iact_dnn/general/noteobooks/../../iact_dnn_utils.py'>"
      ]
     },
     "execution_count": 2,
     "metadata": {},
     "output_type": "execute_result"
    }
   ],
   "source": [
    "import importlib\n",
    "importlib.reload(utils)"
   ]
  },
  {
   "cell_type": "code",
   "execution_count": 3,
   "id": "77f33a52",
   "metadata": {},
   "outputs": [],
   "source": [
    "cdict = {'mode':'mono',\n",
    "         'tel':'MST_MST_FlashCam',\n",
    "         #'tel':'LST_LST_LSTCam',\n",
    "        'Etrue_min':0.3,\n",
    "         #'Etrue_min':None,\n",
    "        'n_events':10**5,\n",
    "         'n_events_tot':10**6,\n",
    "         'folder_dl1':'/home/saturn/caph/mpp228/CTA_data/Prod5_GRID/\\\n",
    "Prod5_Paranal_AdvancedBaseline_NSB1x_EventPlaceholder_North_20deg_ctapipe_v0.10.5_DL1/',\n",
    "         'folder_square': '/home/saturn/caph/mpp228/CTA_data/Prod5_GRID/Prod5_square_images/',\n",
    "         'event_type':'electron' # 'proton', 'gamma-diffuse', 'electron'\n",
    "        }"
   ]
  },
  {
   "cell_type": "code",
   "execution_count": 4,
   "id": "c227a171",
   "metadata": {},
   "outputs": [
    {
     "name": "stdout",
     "output_type": "stream",
     "text": [
      "100000 mono\n",
      "electron_20deg_0deg_run1398___cta-prod5-paranal_desert-2147m-Paranal-dark_merged.DL1.h5\n",
      "/home/saturn/caph/mpp228/CTA_data/Prod5_GRID/Prod5_Paranal_AdvancedBaseline_NSB1x_electron_North_20deg_ctapipe_v0.10.5_DL1/\n",
      "/home/saturn/caph/mpp228/CTA_data/Prod5_GRID/Prod5_square_images/electron_100000_images_mono_Etrue_min0.3TeV_MST_MST_FlashCam.h5\n",
      "['image', 'image_mask', 'peak_time'] ['obs_id', 'event_id', 'tel_id', 'hillas_intensity', 'hillas_x', 'hillas_y', 'hillas_width', 'hillas_length', 'hillas_psi', 'hillas_skewness', 'hillas_kurtosis', 'hillas_r', 'hillas_phi', 'morphology_num_pixels', 'morphology_num_medium_islands', 'morphology_num_large_islands', 'leakage_pixels_width_1', 'leakage_pixels_width_2', 'leakage_intensity_width_1', 'leakage_intensity_width_2', 'intensity_mean'] ['true_energy', 'true_alt', 'true_az']\n"
     ]
    }
   ],
   "source": [
    "test = False\n",
    "if test:\n",
    "    cdict['n_events'] = 1000\n",
    "    cdict['n_events_tot'] = 2000\n",
    "    \n",
    "event_type = cdict['event_type'] # 'proton', 'gamma-diffuse', 'electron'\n",
    "evt = event_type.split('-')[0]\n",
    "mode = cdict['mode'] # 'mono', 'stereo'\n",
    "if mode == 'mono':\n",
    "    ntels = 1\n",
    "    #LSTcams = [2]\n",
    "    #LSTcams = [1, 2, 3, 4]\n",
    "    selected_telescope_types = [cdict['tel']]\n",
    "else:\n",
    "    ntels = 4 # generalize in the future - for now these are the four LSTs\n",
    "    #LSTcams = [1, 2, 3, 4]\n",
    "    selected_telescope_types = [cdict['tel']]\n",
    "    \n",
    "\n",
    "Etrue_min = cdict['Etrue_min']\n",
    "if Etrue_min is not None:\n",
    "    event_selection = [{'col_name': \"true_energy\", 'min_value':Etrue_min}]\n",
    "else:\n",
    "    event_selection = None\n",
    "\n",
    "#n_events = 1000 #10**4\n",
    "n_events = cdict['n_events'] # events per file\n",
    "n_events_tot = cdict['n_events_tot'] # total number of events\n",
    "print(n_events, mode)\n",
    "\n",
    "#folder = '/home/saturn/caph/mpp228/CTA_data/Prod5_GRID/'\n",
    "#folder_in = folder + 'Prod5_Paranal_AdvancedBaseline_NSB1x_%s_North_20deg_ctapipe_v0.10.5_DL1/' % event_type\n",
    "folder_in = cdict['folder_dl1'].replace('EventPlaceholder', event_type)\n",
    "fns = os.listdir(folder_in)\n",
    "fns = [fn for fn in fns if fn.endswith('h5')]\n",
    "print(fns[0])\n",
    "\n",
    "folder_out = cdict['folder_square']\n",
    "if not os.path.isdir(folder_out):\n",
    "    os.mkdir(folder_out)\n",
    "    \n",
    "fn_out = folder_out + utils.get_square_images_fn(cdict)\n",
    "\n",
    "print(folder_in)\n",
    "print(fn_out)\n",
    "\n",
    "channels_list = ['image', 'image_mask', 'peak_time',]\n",
    "tel_pars_list = ['obs_id', 'event_id', 'tel_id', \n",
    "            'hillas_intensity', 'hillas_x', 'hillas_y', 'hillas_width', 'hillas_length',\n",
    "            'hillas_psi', 'hillas_skewness', 'hillas_kurtosis', 'hillas_r', 'hillas_phi',\n",
    "            'morphology_num_pixels', 'morphology_num_medium_islands', 'morphology_num_large_islands',\n",
    "            'leakage_pixels_width_1', 'leakage_pixels_width_2', \n",
    "            'leakage_intensity_width_1', 'leakage_intensity_width_2',\n",
    "            'intensity_mean'] # tel parameters in cta-pipe .h5\n",
    "if mode == 'stereo':\n",
    "    tel_pars_list_extra = ['tel_trigger'] # tel parameters in cta-pipe .h5\n",
    "else:\n",
    "    tel_pars_list_extra = []\n",
    "mc_info_list = [\"true_energy\", \"true_alt\", \"true_az\"] # mc parameters\n",
    "groups = ['mc_pars', 'tel_pars', 'tel_pars_extra']\n",
    "\n",
    "print(channels_list, tel_pars_list, mc_info_list)\n",
    "\n",
    "def fn2reader(fn, mode='mono'):\n",
    "    return DL1DataReaderSTAGE1([fn],\n",
    "                             mode=mode,\n",
    "                             #example_identifiers_file=\"./examples.h5\",\n",
    "                             selected_telescope_types=selected_telescope_types,\n",
    "                             #selected_telescope_ids={\"LST_LST_LSTCam\": LSTcams},\n",
    "                             #image_channels = ['image', 'peak_time', 'image_mask'],\n",
    "                             image_channels=channels_list,\n",
    "                             parameter_list=tel_pars_list,\n",
    "                             event_info=mc_info_list,\n",
    "                             event_selection=event_selection)"
   ]
  },
  {
   "cell_type": "code",
   "execution_count": 5,
   "id": "4755721c",
   "metadata": {},
   "outputs": [],
   "source": [
    "out_dict = {key:{} for key in groups}\n",
    "for key in mc_info_list:\n",
    "    out_dict['mc_pars'][key] = np.zeros(n_events)\n",
    "for key in tel_pars_list:\n",
    "    out_dict['tel_pars'][key] = np.zeros((n_events, ntels))\n",
    "for key in tel_pars_list_extra:\n",
    "    out_dict['tel_pars_extra'][key] = np.zeros((n_events, ntels))"
   ]
  },
  {
   "cell_type": "code",
   "execution_count": 6,
   "id": "fc04cd29",
   "metadata": {},
   "outputs": [],
   "source": [
    "if test:\n",
    "    fn = folder_in + fns[0]\n",
    "    reader = fn2reader(fn, mode=mode)\n",
    "    print(len(reader), mode)\n",
    "    if mode == 'mono':\n",
    "        print(reader[0][0].shape)\n",
    "    else:\n",
    "        print(reader[0][1].shape)\n"
   ]
  },
  {
   "cell_type": "code",
   "execution_count": 7,
   "id": "2c453587",
   "metadata": {},
   "outputs": [],
   "source": [
    "# there seems to be memory leakage in DL1DH: it cannot read more than about 500 files\n",
    "# one needs to write the last filenumber for input and output here and restart the kernel\n",
    "# the calculation will start with these files + 1\n",
    "# for the initial run put i = -1, out_file_number = 0\n",
    "if event_type == 'proton':\n",
    "    i = 205\n",
    "    out_file_number = 10\n",
    "elif event_type == 'gamma-diffuse':\n",
    "    i = 115\n",
    "    out_file_number = 7\n",
    "elif event_type == 'electron':\n",
    "    i = 48\n",
    "    out_file_number = 3\n",
    "\n",
    "nout = 0\n",
    "nout_tot = 0\n",
    "finish = False"
   ]
  },
  {
   "cell_type": "code",
   "execution_count": 8,
   "id": "e9cb69ac",
   "metadata": {},
   "outputs": [
    {
     "name": "stdout",
     "output_type": "stream",
     "text": [
      "10 files, 61817 events, 60.88 s to read, 274.03 s past\n",
      "write 100000 events to file:\n",
      "i = 16\n",
      "/home/saturn/caph/mpp228/CTA_data/Prod5_GRID/Prod5_square_images/electron_100000_images_mono_Etrue_min0.3TeV_MST_MST_FlashCam_file1.h5\n",
      "20 files, 125093 events, 92.56 s to read, 557.65 s past\n",
      "30 files, 186947 events, 123.76 s to read, 810.32 s past\n",
      "write 100000 events to file:\n",
      "i = 32\n",
      "/home/saturn/caph/mpp228/CTA_data/Prod5_GRID/Prod5_square_images/electron_100000_images_mono_Etrue_min0.3TeV_MST_MST_FlashCam_file2.h5\n",
      "40 files, 248315 events, 156.24 s to read, 1101.06 s past\n",
      "write 100000 events to file:\n",
      "i = 48\n",
      "/home/saturn/caph/mpp228/CTA_data/Prod5_GRID/Prod5_square_images/electron_100000_images_mono_Etrue_min0.3TeV_MST_MST_FlashCam_file3.h5\n",
      "50 files, 308516 events, 192.58 s to read, 1408.25 s past\n"
     ]
    },
    {
     "ename": "KeyboardInterrupt",
     "evalue": "",
     "output_type": "error",
     "traceback": [
      "\u001b[0;31m---------------------------------------------------------------------------\u001b[0m",
      "\u001b[0;31mKeyboardInterrupt\u001b[0m                         Traceback (most recent call last)",
      "\u001b[0;32m<timed exec>\u001b[0m in \u001b[0;36m<module>\u001b[0;34m\u001b[0m\n",
      "\u001b[0;32m/home/woody/caph/mpp228/apps/anaconda3/envs/dl1dh_s1/lib/python3.8/site-packages/dl1_data_handler-0.10.0-py3.8.egg/dl1_data_handler/reader.py\u001b[0m in \u001b[0;36m__getitem__\u001b[0;34m(self, idx)\u001b[0m\n\u001b[1;32m    879\u001b[0m                     \u001b[0;32mwith\u001b[0m \u001b[0mlock\u001b[0m\u001b[0;34m:\u001b[0m\u001b[0;34m\u001b[0m\u001b[0;34m\u001b[0m\u001b[0m\n\u001b[1;32m    880\u001b[0m                         \u001b[0mtel_table\u001b[0m \u001b[0;34m=\u001b[0m \u001b[0;34m\"tel_{:03d}\"\u001b[0m\u001b[0;34m.\u001b[0m\u001b[0mformat\u001b[0m\u001b[0;34m(\u001b[0m\u001b[0mtel_id\u001b[0m\u001b[0;34m)\u001b[0m\u001b[0;34m\u001b[0m\u001b[0;34m\u001b[0m\u001b[0m\n\u001b[0;32m--> 881\u001b[0;31m                         \u001b[0mchild\u001b[0m \u001b[0;34m=\u001b[0m \u001b[0mself\u001b[0m\u001b[0;34m.\u001b[0m\u001b[0mfiles\u001b[0m\u001b[0;34m[\u001b[0m\u001b[0mfilename\u001b[0m\u001b[0;34m]\u001b[0m\u001b[0;34m.\u001b[0m\u001b[0mroot\u001b[0m\u001b[0;34m.\u001b[0m\u001b[0mdl1\u001b[0m\u001b[0;34m.\u001b[0m\u001b[0mevent\u001b[0m\u001b[0;34m.\u001b[0m\u001b[0mtelescope\u001b[0m\u001b[0;34m.\u001b[0m\u001b[0mparameters\u001b[0m\u001b[0;34m.\u001b[0m\u001b[0m_f_get_child\u001b[0m\u001b[0;34m(\u001b[0m\u001b[0mtel_table\u001b[0m\u001b[0;34m)\u001b[0m\u001b[0;34m\u001b[0m\u001b[0;34m\u001b[0m\u001b[0m\n\u001b[0m\u001b[1;32m    882\u001b[0m                     \u001b[0mparameter_list\u001b[0m \u001b[0;34m=\u001b[0m \u001b[0mchild\u001b[0m\u001b[0;34m[\u001b[0m\u001b[0mindex\u001b[0m\u001b[0;34m]\u001b[0m\u001b[0;34m[\u001b[0m\u001b[0mself\u001b[0m\u001b[0;34m.\u001b[0m\u001b[0mparameter_list\u001b[0m\u001b[0;34m]\u001b[0m\u001b[0;34m\u001b[0m\u001b[0;34m\u001b[0m\u001b[0m\n\u001b[1;32m    883\u001b[0m                     \u001b[0mexample\u001b[0m\u001b[0;34m.\u001b[0m\u001b[0mappend\u001b[0m\u001b[0;34m(\u001b[0m\u001b[0mnp\u001b[0m\u001b[0;34m.\u001b[0m\u001b[0marray\u001b[0m\u001b[0;34m(\u001b[0m\u001b[0mlist\u001b[0m\u001b[0;34m(\u001b[0m\u001b[0mparameter_list\u001b[0m\u001b[0;34m)\u001b[0m\u001b[0;34m,\u001b[0m \u001b[0mdtype\u001b[0m\u001b[0;34m=\u001b[0m\u001b[0mnp\u001b[0m\u001b[0;34m.\u001b[0m\u001b[0mfloat32\u001b[0m\u001b[0;34m)\u001b[0m\u001b[0;34m)\u001b[0m\u001b[0;34m\u001b[0m\u001b[0;34m\u001b[0m\u001b[0m\n",
      "\u001b[0;32m/home/woody/caph/mpp228/apps/anaconda3/envs/dl1dh_s1/lib/python3.8/site-packages/tables-3.6.1-py3.8-linux-x86_64.egg/tables/group.py\u001b[0m in \u001b[0;36m__getattr__\u001b[0;34m(self, name)\u001b[0m\n\u001b[1;32m    834\u001b[0m             \u001b[0mself\u001b[0m\u001b[0;34m.\u001b[0m\u001b[0m_g_add_children_names\u001b[0m\u001b[0;34m(\u001b[0m\u001b[0;34m)\u001b[0m\u001b[0;34m\u001b[0m\u001b[0;34m\u001b[0m\u001b[0m\n\u001b[1;32m    835\u001b[0m             \u001b[0;32mreturn\u001b[0m \u001b[0mself\u001b[0m\u001b[0;34m.\u001b[0m\u001b[0m__dict__\u001b[0m\u001b[0;34m[\u001b[0m\u001b[0mname\u001b[0m\u001b[0;34m]\u001b[0m\u001b[0;34m\u001b[0m\u001b[0;34m\u001b[0m\u001b[0m\n\u001b[0;32m--> 836\u001b[0;31m         \u001b[0;32mreturn\u001b[0m \u001b[0mself\u001b[0m\u001b[0;34m.\u001b[0m\u001b[0m_f_get_child\u001b[0m\u001b[0;34m(\u001b[0m\u001b[0mname\u001b[0m\u001b[0;34m)\u001b[0m\u001b[0;34m\u001b[0m\u001b[0;34m\u001b[0m\u001b[0m\n\u001b[0m\u001b[1;32m    837\u001b[0m \u001b[0;34m\u001b[0m\u001b[0m\n\u001b[1;32m    838\u001b[0m     \u001b[0;32mdef\u001b[0m \u001b[0m__setattr__\u001b[0m\u001b[0;34m(\u001b[0m\u001b[0mself\u001b[0m\u001b[0;34m,\u001b[0m \u001b[0mname\u001b[0m\u001b[0;34m,\u001b[0m \u001b[0mvalue\u001b[0m\u001b[0;34m)\u001b[0m\u001b[0;34m:\u001b[0m\u001b[0;34m\u001b[0m\u001b[0;34m\u001b[0m\u001b[0m\n",
      "\u001b[0;32m/home/woody/caph/mpp228/apps/anaconda3/envs/dl1dh_s1/lib/python3.8/site-packages/tables-3.6.1-py3.8-linux-x86_64.egg/tables/group.py\u001b[0m in \u001b[0;36m_f_get_child\u001b[0;34m(self, childname)\u001b[0m\n\u001b[1;32m    709\u001b[0m \u001b[0;34m\u001b[0m\u001b[0m\n\u001b[1;32m    710\u001b[0m         \u001b[0mchildpath\u001b[0m \u001b[0;34m=\u001b[0m \u001b[0mjoin_path\u001b[0m\u001b[0;34m(\u001b[0m\u001b[0mself\u001b[0m\u001b[0;34m.\u001b[0m\u001b[0m_v_pathname\u001b[0m\u001b[0;34m,\u001b[0m \u001b[0mchildname\u001b[0m\u001b[0;34m)\u001b[0m\u001b[0;34m\u001b[0m\u001b[0;34m\u001b[0m\u001b[0m\n\u001b[0;32m--> 711\u001b[0;31m         \u001b[0;32mreturn\u001b[0m \u001b[0mself\u001b[0m\u001b[0;34m.\u001b[0m\u001b[0m_v_file\u001b[0m\u001b[0;34m.\u001b[0m\u001b[0m_get_node\u001b[0m\u001b[0;34m(\u001b[0m\u001b[0mchildpath\u001b[0m\u001b[0;34m)\u001b[0m\u001b[0;34m\u001b[0m\u001b[0;34m\u001b[0m\u001b[0m\n\u001b[0m\u001b[1;32m    712\u001b[0m \u001b[0;34m\u001b[0m\u001b[0m\n\u001b[1;32m    713\u001b[0m \u001b[0;34m\u001b[0m\u001b[0m\n",
      "\u001b[0;32m/home/woody/caph/mpp228/apps/anaconda3/envs/dl1dh_s1/lib/python3.8/site-packages/tables-3.6.1-py3.8-linux-x86_64.egg/tables/file.py\u001b[0m in \u001b[0;36m_get_node\u001b[0;34m(self, nodepath)\u001b[0m\n\u001b[1;32m   1588\u001b[0m             \u001b[0;32mreturn\u001b[0m \u001b[0mself\u001b[0m\u001b[0;34m.\u001b[0m\u001b[0mroot\u001b[0m\u001b[0;34m\u001b[0m\u001b[0;34m\u001b[0m\u001b[0m\n\u001b[1;32m   1589\u001b[0m \u001b[0;34m\u001b[0m\u001b[0m\n\u001b[0;32m-> 1590\u001b[0;31m         \u001b[0mnode\u001b[0m \u001b[0;34m=\u001b[0m \u001b[0mself\u001b[0m\u001b[0;34m.\u001b[0m\u001b[0m_node_manager\u001b[0m\u001b[0;34m.\u001b[0m\u001b[0mget_node\u001b[0m\u001b[0;34m(\u001b[0m\u001b[0mnodepath\u001b[0m\u001b[0;34m)\u001b[0m\u001b[0;34m\u001b[0m\u001b[0;34m\u001b[0m\u001b[0m\n\u001b[0m\u001b[1;32m   1591\u001b[0m         \u001b[0;32massert\u001b[0m \u001b[0mnode\u001b[0m \u001b[0;32mis\u001b[0m \u001b[0;32mnot\u001b[0m \u001b[0;32mNone\u001b[0m\u001b[0;34m,\u001b[0m \u001b[0;34m\"unable to instantiate node ``%s``\"\u001b[0m \u001b[0;34m%\u001b[0m \u001b[0mnodepath\u001b[0m\u001b[0;34m\u001b[0m\u001b[0;34m\u001b[0m\u001b[0m\n\u001b[1;32m   1592\u001b[0m \u001b[0;34m\u001b[0m\u001b[0m\n",
      "\u001b[0;32m/home/woody/caph/mpp228/apps/anaconda3/envs/dl1dh_s1/lib/python3.8/site-packages/tables-3.6.1-py3.8-linux-x86_64.egg/tables/file.py\u001b[0m in \u001b[0;36mget_node\u001b[0;34m(self, key)\u001b[0m\n\u001b[1;32m    406\u001b[0m         \u001b[0;32mif\u001b[0m \u001b[0mnode\u001b[0m \u001b[0;32mis\u001b[0m \u001b[0;32mnot\u001b[0m \u001b[0;32mNone\u001b[0m\u001b[0;34m:\u001b[0m\u001b[0;34m\u001b[0m\u001b[0;34m\u001b[0m\u001b[0m\n\u001b[1;32m    407\u001b[0m             \u001b[0;32mif\u001b[0m \u001b[0mnode\u001b[0m\u001b[0;34m.\u001b[0m\u001b[0m_v_isopen\u001b[0m\u001b[0;34m:\u001b[0m\u001b[0;34m\u001b[0m\u001b[0;34m\u001b[0m\u001b[0m\n\u001b[0;32m--> 408\u001b[0;31m                 \u001b[0mself\u001b[0m\u001b[0;34m.\u001b[0m\u001b[0mcache_node\u001b[0m\u001b[0;34m(\u001b[0m\u001b[0mnode\u001b[0m\u001b[0;34m,\u001b[0m \u001b[0mkey\u001b[0m\u001b[0;34m)\u001b[0m\u001b[0;34m\u001b[0m\u001b[0;34m\u001b[0m\u001b[0m\n\u001b[0m\u001b[1;32m    409\u001b[0m                 \u001b[0;32mreturn\u001b[0m \u001b[0mnode\u001b[0m\u001b[0;34m\u001b[0m\u001b[0;34m\u001b[0m\u001b[0m\n\u001b[1;32m    410\u001b[0m             \u001b[0;32melse\u001b[0m\u001b[0;34m:\u001b[0m\u001b[0;34m\u001b[0m\u001b[0;34m\u001b[0m\u001b[0m\n",
      "\u001b[0;32m/home/woody/caph/mpp228/apps/anaconda3/envs/dl1dh_s1/lib/python3.8/site-packages/tables-3.6.1-py3.8-linux-x86_64.egg/tables/file.py\u001b[0m in \u001b[0;36mcache_node\u001b[0;34m(self, node, key)\u001b[0m\n\u001b[1;32m    394\u001b[0m \u001b[0;34m\u001b[0m\u001b[0m\n\u001b[1;32m    395\u001b[0m         \u001b[0mself\u001b[0m\u001b[0;34m.\u001b[0m\u001b[0mregister_node\u001b[0m\u001b[0;34m(\u001b[0m\u001b[0mnode\u001b[0m\u001b[0;34m,\u001b[0m \u001b[0mkey\u001b[0m\u001b[0;34m)\u001b[0m\u001b[0;34m\u001b[0m\u001b[0;34m\u001b[0m\u001b[0m\n\u001b[0;32m--> 396\u001b[0;31m         \u001b[0;32mif\u001b[0m \u001b[0mkey\u001b[0m \u001b[0;32min\u001b[0m \u001b[0mself\u001b[0m\u001b[0;34m.\u001b[0m\u001b[0mcache\u001b[0m\u001b[0;34m:\u001b[0m\u001b[0;34m\u001b[0m\u001b[0;34m\u001b[0m\u001b[0m\n\u001b[0m\u001b[1;32m    397\u001b[0m             \u001b[0moldnode\u001b[0m \u001b[0;34m=\u001b[0m \u001b[0mself\u001b[0m\u001b[0;34m.\u001b[0m\u001b[0mcache\u001b[0m\u001b[0;34m.\u001b[0m\u001b[0mpop\u001b[0m\u001b[0;34m(\u001b[0m\u001b[0mkey\u001b[0m\u001b[0;34m)\u001b[0m\u001b[0;34m\u001b[0m\u001b[0;34m\u001b[0m\u001b[0m\n\u001b[1;32m    398\u001b[0m             \u001b[0;32mif\u001b[0m \u001b[0moldnode\u001b[0m \u001b[0;32mis\u001b[0m \u001b[0;32mnot\u001b[0m \u001b[0mnode\u001b[0m \u001b[0;32mand\u001b[0m \u001b[0moldnode\u001b[0m\u001b[0;34m.\u001b[0m\u001b[0m_v_isopen\u001b[0m\u001b[0;34m:\u001b[0m\u001b[0;34m\u001b[0m\u001b[0;34m\u001b[0m\u001b[0m\n",
      "\u001b[0;31mKeyboardInterrupt\u001b[0m: "
     ]
    }
   ],
   "source": [
    "%%time\n",
    "t0 = time.time()\n",
    "t_read = 0.\n",
    "\n",
    "if mode == 'mono':\n",
    "    i0 = 0\n",
    "else:\n",
    "    i0 = 1\n",
    "\n",
    "i += 1\n",
    "while nout_tot < n_events_tot or finish:\n",
    "    fn = folder_in + fns[i]\n",
    "    t_read0 = time.time()\n",
    "    \n",
    "    skip = False\n",
    "    try:\n",
    "        reader = fn2reader(fn, mode=mode)\n",
    "    except tb.NoSuchNodeError:\n",
    "        print('problem with file:')\n",
    "        print(fn)\n",
    "        print('skipping it\\n')\n",
    "        skip = True\n",
    "        #break\n",
    "        #finish = True\n",
    "    except:\n",
    "        print('problem with file:')\n",
    "        print(fn)\n",
    "        print(i)\n",
    "        break\n",
    "        #finish = True\n",
    "        \n",
    "    if not skip:\n",
    "        t_read += time.time() - t_read0\n",
    "        if 'image' not in out_dict:\n",
    "            im_dims = reader[0][i0].shape[i0:i0+2]\n",
    "            for key in channels_list:\n",
    "                if mode == 'stereo':\n",
    "                    out_dict[key] = np.zeros((n_events, im_dims[0], im_dims[1], ntels), dtype=np.float32)\n",
    "                else:\n",
    "                    out_dict[key] = np.zeros((n_events, im_dims[0], im_dims[1]), dtype=np.float32)\n",
    "        for k in range(len(reader)):\n",
    "            if nout + k == n_events:\n",
    "                nout_tot += n_events\n",
    "                nout = -k\n",
    "                out_file_number += 1\n",
    "                fn_out_running = fn_out.replace('.h5', '_file%i.h5' % out_file_number)\n",
    "                if test:\n",
    "                    fn_out_running = fn_out_running.replace('.h5', '_test.h5')\n",
    "                if os.path.isfile(fn_out_running):\n",
    "                    os.remove(fn_out_running)\n",
    "                with h5py.File(fn_out_running, 'w') as h5_out:\n",
    "                    for key in out_dict.keys():\n",
    "                        if key in h5_out:\n",
    "                            del h5_out[key]\n",
    "                        if key in groups:\n",
    "                            h5_out.create_group(key)\n",
    "                            for vkey in out_dict[key].keys():\n",
    "                                h5_out[key][vkey] = out_dict[key][vkey]\n",
    "                        else:\n",
    "                            h5_out[key] = out_dict[key]\n",
    "                print('write %i events to file:' % n_events)\n",
    "                print('i = %i' %i)\n",
    "                print(fn_out_running)\n",
    "\n",
    "            #out_dict['images'][nout + k] = reader[k][0][:,:,0]\n",
    "\n",
    "            if mode == 'stereo':\n",
    "                trigger = reader[k][0][:]\n",
    "            if channels_list:\n",
    "                images = reader[k][i0][:]\n",
    "            if tel_pars_list:\n",
    "                pars = reader[k][i0+1].T\n",
    "            if mc_info_list:\n",
    "                mc_pars = reader[k][i0+2:i0+2+len(mc_info_list)]\n",
    "\n",
    "            for m, key in enumerate(channels_list):\n",
    "                if mode == 'mono':\n",
    "                    out_dict[key][nout + k] = images[:,:,m]\n",
    "                else:\n",
    "                    out_dict[key][nout + k] = np.transpose(images.T[m], (1,0,2))\n",
    "            for m, key in enumerate(tel_pars_list):\n",
    "                out_dict['tel_pars'][key][nout + k] = pars[m]\n",
    "            for m, key in enumerate(mc_info_list):\n",
    "                out_dict['mc_pars'][key][nout + k] = mc_pars[m]\n",
    "            for key in tel_pars_list_extra:\n",
    "                if key == 'tel_trigger' and mode == 'stereo':\n",
    "                    out_dict['tel_pars_extra'][key][nout + k] = trigger\n",
    "        nout += len(reader)\n",
    "        del reader\n",
    "    i += 1\n",
    "    if i == len(fns):\n",
    "        break\n",
    "    if i % 10 == 0 or test:\n",
    "        print('%i files, %i events, %.2f s to read, %.2f s past' % \n",
    "              (i, (nout_tot + nout), t_read, time.time() - t0))\n",
    "    \n"
   ]
  },
  {
   "cell_type": "code",
   "execution_count": 9,
   "id": "4176c30a",
   "metadata": {},
   "outputs": [
    {
     "data": {
      "text/plain": [
       "False"
      ]
     },
     "execution_count": 9,
     "metadata": {},
     "output_type": "execute_result"
    }
   ],
   "source": [
    "test"
   ]
  },
  {
   "cell_type": "code",
   "execution_count": 10,
   "id": "44a53762",
   "metadata": {},
   "outputs": [
    {
     "name": "stdout",
     "output_type": "stream",
     "text": [
      "/home/saturn/caph/mpp228/CTA_data/Prod5_GRID/Prod5_Paranal_AdvancedBaseline_NSB1x_electron_North_20deg_ctapipe_v0.10.5_DL1/electron_20deg_0deg_run1127___cta-prod5-paranal_desert-2147m-Paranal-dark_merged.DL1.h5\n"
     ]
    }
   ],
   "source": [
    "if 1:\n",
    "    fn_test2 = folder_in + fns[i]\n",
    "    print(fn_test2)\n",
    "    reader = fn2reader(fn_test2, mode=mode)\n",
    "    #del reader\n",
    "    if 0:\n",
    "        try:\n",
    "            reader = fn2reader(fn_test2, mode=mode)\n",
    "        except:\n",
    "            print('skip')"
   ]
  },
  {
   "cell_type": "code",
   "execution_count": 11,
   "id": "d875e288",
   "metadata": {},
   "outputs": [
    {
     "data": {
      "text/plain": [
       "379"
      ]
     },
     "execution_count": 11,
     "metadata": {},
     "output_type": "execute_result"
    }
   ],
   "source": [
    "len(fns)"
   ]
  },
  {
   "cell_type": "code",
   "execution_count": null,
   "id": "f2948118",
   "metadata": {},
   "outputs": [],
   "source": []
  },
  {
   "cell_type": "code",
   "execution_count": 12,
   "id": "d9340e0d",
   "metadata": {},
   "outputs": [
    {
     "name": "stdout",
     "output_type": "stream",
     "text": [
      "<KeysViewHDF5 ['image', 'image_mask', 'mc_pars', 'peak_time', 'tel_pars', 'tel_pars_extra']>\n",
      "<KeysViewHDF5 ['event_id', 'hillas_intensity', 'hillas_kurtosis', 'hillas_length', 'hillas_phi', 'hillas_psi', 'hillas_r', 'hillas_skewness', 'hillas_width', 'hillas_x', 'hillas_y', 'intensity_mean', 'leakage_intensity_width_1', 'leakage_intensity_width_2', 'leakage_pixels_width_1', 'leakage_pixels_width_2', 'morphology_num_large_islands', 'morphology_num_medium_islands', 'morphology_num_pixels', 'obs_id', 'tel_id']>\n",
      "(100000, 112, 112)\n"
     ]
    }
   ],
   "source": [
    "test_output = 1\n",
    "if test_output:\n",
    "    with h5py.File(fn_out_running, 'r') as h5_test:\n",
    "        print(h5_test.keys())\n",
    "        print(h5_test['tel_pars'].keys())\n",
    "        print(h5_test['image'].shape)\n",
    "        tel_ids = np.array(h5_test['tel_pars']['tel_id'], dtype=int)\n"
   ]
  },
  {
   "cell_type": "code",
   "execution_count": 13,
   "id": "46d5ca37",
   "metadata": {},
   "outputs": [
    {
     "data": {
      "text/plain": [
       "(array([3488., 3473., 3471., 3495., 3724., 3811., 3786., 3730., 3673.,\n",
       "        3708., 3678., 3685., 3730., 3697., 3776., 3763., 3636., 3422.,\n",
       "        3356., 3458., 3482., 3396., 3396., 3397.]),\n",
       " array([ 4.5,  5.5,  6.5,  7.5,  8.5,  9.5, 10.5, 11.5, 12.5, 13.5, 14.5,\n",
       "        15.5, 16.5, 17.5, 18.5, 19.5, 20.5, 21.5, 22.5, 23.5, 24.5, 25.5,\n",
       "        26.5, 27.5, 28.5]),\n",
       " <BarContainer object of 24 artists>)"
      ]
     },
     "execution_count": 13,
     "metadata": {},
     "output_type": "execute_result"
    },
    {
     "data": {
      "image/png": "[encoded data removed]",
      "text/plain": [
       "<Figure size 432x288 with 1 Axes>"
      ]
     },
     "metadata": {
      "needs_background": "light"
     },
     "output_type": "display_data"
    }
   ],
   "source": [
    "#tel_ids = tel_ids[:,0]\n",
    "plt.hist(tel_ids, bins=np.arange(4.5, 29.5, 1))"
   ]
  },
  {
   "cell_type": "code",
   "execution_count": 14,
   "id": "87575914",
   "metadata": {},
   "outputs": [],
   "source": [
    "if test:\n",
    "    if 'image' in out_dict:\n",
    "        plt.imshow(out_dict['image'][0,:,:,0])"
   ]
  },
  {
   "cell_type": "code",
   "execution_count": 15,
   "id": "ca62e267",
   "metadata": {},
   "outputs": [],
   "source": [
    "if test:\n",
    "    with h5py.File(fn_out_running, 'r') as h5_test:\n",
    "        plt.imshow(h5_test['image'][0,:,:,0])"
   ]
  },
  {
   "cell_type": "code",
   "execution_count": 16,
   "id": "9d216f79",
   "metadata": {},
   "outputs": [],
   "source": [
    "if test:\n",
    "    with h5py.File(fn_out_running, 'r') as h5_test:\n",
    "        plt.imshow(h5_test['image_mask'][0,:,:,0])"
   ]
  },
  {
   "cell_type": "code",
   "execution_count": 17,
   "id": "18ff9956",
   "metadata": {},
   "outputs": [],
   "source": [
    "if test:\n",
    "    h5_test = h5py.File(fn_out_running, 'r')"
   ]
  },
  {
   "cell_type": "code",
   "execution_count": 18,
   "id": "aae8879c",
   "metadata": {},
   "outputs": [],
   "source": [
    "if test:\n",
    "    for i in range(5):\n",
    "        EE = h5_test['mc_pars']['true_energy'][i]\n",
    "        hi = h5_test['tel_pars']['hillas_intensity'][i]\n",
    "        hx = h5_test['tel_pars']['hillas_x'][i]\n",
    "        print('%i, Energy %.3f' % (i, EE))\n",
    "        print('hillas intensity %s' % hi)\n",
    "        print('hillas x %s' % hx)\n"
   ]
  },
  {
   "cell_type": "code",
   "execution_count": 19,
   "id": "79e2050f",
   "metadata": {},
   "outputs": [],
   "source": [
    "if test:\n",
    "    i = 9\n",
    "    xi = 110 * (1 + h5_test['tel_pars']['hillas_x'][i]) / 2\n",
    "    yi = 110 * (1 + h5_test['tel_pars']['hillas_y'][i]) / 2\n",
    "    plt.plot(xi, yi, marker='s')"
   ]
  },
  {
   "cell_type": "code",
   "execution_count": 20,
   "id": "d4ec3864",
   "metadata": {},
   "outputs": [],
   "source": [
    "if test:\n",
    "    h5_test.close()"
   ]
  },
  {
   "cell_type": "code",
   "execution_count": 21,
   "id": "770d8864",
   "metadata": {},
   "outputs": [],
   "source": [
    "if test:\n",
    "    # remove test files\n",
    "    for fn in os.listdir(folder_out):\n",
    "        if fn.find('_test.h5') > 0:\n",
    "            os.remove(folder_out + fn)"
   ]
  },
  {
   "cell_type": "code",
   "execution_count": null,
   "id": "1024ff78",
   "metadata": {},
   "outputs": [],
   "source": []
  }
 ],
 "metadata": {
  "kernelspec": {
   "display_name": "Python 3 (ipykernel)",
   "language": "python",
   "name": "python3"
  },
  "language_info": {
   "codemirror_mode": {
    "name": "ipython",
    "version": 3
   },
   "file_extension": ".py",
   "mimetype": "text/x-python",
   "name": "python",
   "nbconvert_exporter": "python",
   "pygments_lexer": "ipython3",
   "version": "3.8.12"
  }
 },
 "nbformat": 4,
 "nbformat_minor": 5
}
