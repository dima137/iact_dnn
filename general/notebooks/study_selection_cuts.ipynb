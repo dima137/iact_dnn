{
 "cells": [
  {
   "cell_type": "code",
   "execution_count": 1,
   "id": "a6737cae",
   "metadata": {},
   "outputs": [],
   "source": [
    "import numpy as np\n",
    "import h5py\n",
    "import os\n",
    "from matplotlib import pyplot as plt\n",
    "\n",
    "import sys\n",
    "sys.path.append(\"../../\") # go to parent dir\n",
    "\n",
    "\n",
    "import iact_dnn_utils as utils"
   ]
  },
  {
   "cell_type": "code",
   "execution_count": 37,
   "id": "6ad99e9a",
   "metadata": {},
   "outputs": [
    {
     "name": "stdout",
     "output_type": "stream",
     "text": [
      "['gamma-diffuse_1000_images_mono_Etrue_min0.3TeV_MST_MST_FlashCam_file5_test.h5', 'gamma-diffuse_100000_images_mono_Etrue_min0.3TeV_MST_MST_FlashCam_file6.h5', 'gamma-diffuse_1000_images_mono_Etrue_min0.3TeV_MST_MST_FlashCam_file4_test.h5', 'proton_100000_images_mono_Etrue_min0.3TeV_MST_MST_FlashCam_file3.h5', 'gamma-diffuse_100000_images_mono_Etrue_min0.3TeV_MST_MST_FlashCam_file3.h5', 'proton_100000_images_mono_Etrue_min0.3TeV_MST_MST_FlashCam_file4.h5', 'gamma-diffuse_1000_images_mono_Etrue_min0.3TeV_MST_MST_FlashCam_file2_test.h5', 'gamma-diffuse_1000_images_mono_Etrue_min0.3TeV_MST_MST_FlashCam_file6_test.h5', 'gamma-diffuse_100000_images_mono_Etrue_min0.3TeV_MST_MST_FlashCam_file7.h5', 'gamma-diffuse_100000_images_mono_Etrue_min0.3TeV_MST_MST_FlashCam_file2.h5', 'gamma-diffuse_1000_images_mono_Etrue_min0.3TeV_MST_MST_FlashCam_file3_test.h5', 'proton_100000_images_mono_Etrue_min0.3TeV_MST_MST_FlashCam_file5.h5', 'gamma-diffuse_100000_images_mono_Etrue_min0.3TeV_MST_MST_FlashCam_file1.h5', 'gamma-diffuse_100000_images_mono_Etrue_min0.3TeV_MST_MST_FlashCam_file4.h5', 'proton_100000_images_mono_Etrue_min0.3TeV_MST_MST_FlashCam_file2.h5', 'gamma-diffuse_100000_images_mono_Etrue_min0.3TeV_MST_MST_FlashCam_file5.h5', 'proton_100000_images_mono_Etrue_min0.3TeV_MST_MST_FlashCam_file1.h5', 'gamma-diffuse_1000_images_mono_Etrue_min0.3TeV_MST_MST_FlashCam_file1_test.h5']\n"
     ]
    }
   ],
   "source": [
    "folder = '/home/saturn/caph/mpp228/CTA_data/Prod5_GRID/Prod5_square_images/'\n",
    "fls = [fn for fn in os.listdir(folder) if fn.endswith('.h5')]\n",
    "fls = [fn for fn in fls if fn.find('MST') > -1]\n",
    "print(fls)"
   ]
  },
  {
   "cell_type": "code",
   "execution_count": 47,
   "id": "b49cc3b4",
   "metadata": {},
   "outputs": [
    {
     "name": "stdout",
     "output_type": "stream",
     "text": [
      "gamma-diffuse_100000_images_mono_Etrue_min0.3TeV_MST_MST_FlashCam_file6.h5\n"
     ]
    }
   ],
   "source": [
    "k = 1\n",
    "h5 = h5py.File(folder + fls[k], 'r')\n",
    "print(fls[k])"
   ]
  },
  {
   "cell_type": "code",
   "execution_count": 48,
   "id": "2f256db5",
   "metadata": {},
   "outputs": [
    {
     "data": {
      "text/plain": [
       "<KeysViewHDF5 ['event_id', 'hillas_intensity', 'hillas_kurtosis', 'hillas_length', 'hillas_phi', 'hillas_psi', 'hillas_r', 'hillas_skewness', 'hillas_width', 'hillas_x', 'hillas_y', 'intensity_mean', 'leakage_intensity_width_1', 'leakage_intensity_width_2', 'leakage_pixels_width_1', 'leakage_pixels_width_2', 'morphology_num_large_islands', 'morphology_num_medium_islands', 'morphology_num_pixels', 'obs_id', 'tel_id']>"
      ]
     },
     "execution_count": 48,
     "metadata": {},
     "output_type": "execute_result"
    }
   ],
   "source": [
    "h5['tel_pars'].keys()"
   ]
  },
  {
   "cell_type": "code",
   "execution_count": 49,
   "id": "3bcd1fe9",
   "metadata": {},
   "outputs": [
    {
     "data": {
      "image/png": "[encoded data removed]",
      "text/plain": [
       "<Figure size 432x288 with 1 Axes>"
      ]
     },
     "metadata": {
      "needs_background": "light"
     },
     "output_type": "display_data"
    }
   ],
   "source": [
    "key = 'hillas_r' # 'leakage_pixels_width_2'\n",
    "values = np.array(h5['tel_pars'][key]).flatten()\n",
    "nan_mask = ~np.isnan(values)\n",
    "plt.hist(values[nan_mask], bins=30);\n",
    "#plt.hist(values, bins=np.arange(0, 2, 0.1));"
   ]
  },
  {
   "cell_type": "code",
   "execution_count": 54,
   "id": "8b978de4",
   "metadata": {},
   "outputs": [
    {
     "name": "stdout",
     "output_type": "stream",
     "text": [
      "(100000,)\n"
     ]
    },
    {
     "data": {
      "image/png": "[encoded data removed]",
      "text/plain": [
       "<Figure size 432x288 with 1 Axes>"
      ]
     },
     "metadata": {
      "needs_background": "light"
     },
     "output_type": "display_data"
    }
   ],
   "source": [
    "key2 = 'hillas_intensity'\n",
    "values2 = np.array(h5['tel_pars'][key2]).flatten()\n",
    "nan_mask2 = ~np.isnan(values2)\n",
    "print(nan_mask2.shape)\n",
    "plt.hist(values2[nan_mask2], bins=np.arange(0, 1000, 10));"
   ]
  },
  {
   "cell_type": "code",
   "execution_count": 59,
   "id": "b122fbc9",
   "metadata": {},
   "outputs": [
    {
     "data": {
      "text/plain": [
       "(100000, 112, 112)"
      ]
     },
     "execution_count": 59,
     "metadata": {},
     "output_type": "execute_result"
    }
   ],
   "source": [
    "images = np.array(h5['image_mask'])\n",
    "images.shape"
   ]
  },
  {
   "cell_type": "code",
   "execution_count": 60,
   "id": "8a80ed6f",
   "metadata": {},
   "outputs": [],
   "source": [
    "if 0:\n",
    "    %%time\n",
    "    images = utils.flatten_tel_images(images)"
   ]
  },
  {
   "cell_type": "code",
   "execution_count": 61,
   "id": "b1a22fcb",
   "metadata": {},
   "outputs": [
    {
     "name": "stdout",
     "output_type": "stream",
     "text": [
      "True\n",
      "CPU times: user 707 ms, sys: 1.22 s, total: 1.93 s\n",
      "Wall time: 1.93 s\n"
     ]
    }
   ],
   "source": [
    "%%time\n",
    "images_sel = images[nan_mask2]"
   ]
  },
  {
   "cell_type": "code",
   "execution_count": 62,
   "id": "ee878623",
   "metadata": {},
   "outputs": [
    {
     "ename": "IndexError",
     "evalue": "too many indices for array: array is 3-dimensional, but 4 were indexed",
     "output_type": "error",
     "traceback": [
      "\u001b[0;31m---------------------------------------------------------------------------\u001b[0m",
      "\u001b[0;31mIndexError\u001b[0m                                Traceback (most recent call last)",
      "\u001b[0;32m<ipython-input-62-b427c9ce2aa7>\u001b[0m in \u001b[0;36m<module>\u001b[0;34m\u001b[0m\n\u001b[1;32m     13\u001b[0m \u001b[0;32mfor\u001b[0m \u001b[0mm\u001b[0m \u001b[0;32min\u001b[0m \u001b[0mrange\u001b[0m\u001b[0;34m(\u001b[0m\u001b[0mlen\u001b[0m\u001b[0;34m(\u001b[0m\u001b[0mv_bins\u001b[0m\u001b[0;34m)\u001b[0m \u001b[0;34m-\u001b[0m \u001b[0;36m1\u001b[0m\u001b[0;34m)\u001b[0m\u001b[0;34m:\u001b[0m\u001b[0;34m\u001b[0m\u001b[0;34m\u001b[0m\u001b[0m\n\u001b[1;32m     14\u001b[0m     \u001b[0mmask1\u001b[0m \u001b[0;34m=\u001b[0m \u001b[0;34m(\u001b[0m\u001b[0mvalues\u001b[0m \u001b[0;34m>=\u001b[0m \u001b[0mv_bins\u001b[0m\u001b[0;34m[\u001b[0m\u001b[0mm\u001b[0m\u001b[0;34m]\u001b[0m\u001b[0;34m)\u001b[0m \u001b[0;34m&\u001b[0m \u001b[0;34m(\u001b[0m\u001b[0mvalues\u001b[0m \u001b[0;34m<\u001b[0m \u001b[0mv_bins\u001b[0m\u001b[0;34m[\u001b[0m\u001b[0mm\u001b[0m \u001b[0;34m+\u001b[0m \u001b[0;36m1\u001b[0m\u001b[0;34m]\u001b[0m\u001b[0;34m)\u001b[0m\u001b[0;34m\u001b[0m\u001b[0;34m\u001b[0m\u001b[0m\n\u001b[0;32m---> 15\u001b[0;31m     \u001b[0mimages_sel\u001b[0m \u001b[0;34m=\u001b[0m \u001b[0mimages\u001b[0m\u001b[0;34m[\u001b[0m\u001b[0mmask1\u001b[0m \u001b[0;34m&\u001b[0m \u001b[0mmask2\u001b[0m\u001b[0;34m]\u001b[0m\u001b[0;34m[\u001b[0m\u001b[0;34m:\u001b[0m\u001b[0;34m,\u001b[0m\u001b[0;34m:\u001b[0m\u001b[0;34m,\u001b[0m\u001b[0;34m:\u001b[0m\u001b[0;34m,\u001b[0m\u001b[0;36m0\u001b[0m\u001b[0;34m]\u001b[0m\u001b[0;34m\u001b[0m\u001b[0;34m\u001b[0m\u001b[0m\n\u001b[0m\u001b[1;32m     16\u001b[0m     \u001b[0mfig\u001b[0m \u001b[0;34m=\u001b[0m \u001b[0mplt\u001b[0m\u001b[0;34m.\u001b[0m\u001b[0mfigure\u001b[0m\u001b[0;34m(\u001b[0m\u001b[0mfigsize\u001b[0m\u001b[0;34m=\u001b[0m\u001b[0;34m(\u001b[0m\u001b[0msize\u001b[0m\u001b[0;34m*\u001b[0m\u001b[0mncol\u001b[0m\u001b[0;34m,\u001b[0m \u001b[0msize\u001b[0m\u001b[0;34m*\u001b[0m\u001b[0mnraw\u001b[0m\u001b[0;34m)\u001b[0m\u001b[0;34m)\u001b[0m\u001b[0;34m\u001b[0m\u001b[0;34m\u001b[0m\u001b[0m\n\u001b[1;32m     17\u001b[0m     \u001b[0;32mif\u001b[0m \u001b[0mlen\u001b[0m\u001b[0;34m(\u001b[0m\u001b[0mimages_sel\u001b[0m\u001b[0;34m)\u001b[0m \u001b[0;34m<\u001b[0m \u001b[0mnplot\u001b[0m\u001b[0;34m:\u001b[0m\u001b[0;34m\u001b[0m\u001b[0;34m\u001b[0m\u001b[0m\n",
      "\u001b[0;31mIndexError\u001b[0m: too many indices for array: array is 3-dimensional, but 4 were indexed"
     ]
    }
   ],
   "source": [
    "if key == 'hillas_r':\n",
    "    v_bins = np.arange(0, 1.26, 0.25)\n",
    "elif key == 'leakage_pixels_width_2':\n",
    "    v_bins = np.arange(0, 0.041, 0.005)\n",
    "v2_min = 50\n",
    "v2_max = 200\n",
    "nraw = 2\n",
    "ncol = 4\n",
    "nplot = nraw * ncol\n",
    "size = 2.5\n",
    "mask2 = (values2 > v2_min) & (values2 < v2_max)\n",
    "\n",
    "for m in range(len(v_bins) - 1):\n",
    "    mask1 = (values >= v_bins[m]) & (values < v_bins[m + 1])\n",
    "    images_sel = images[mask1 & mask2][:,:,:,0]\n",
    "    fig = plt.figure(figsize=(size*ncol, size*nraw))\n",
    "    if len(images_sel) < nplot:\n",
    "        print(len(images_sel))\n",
    "        continue\n",
    "    plot_inds = np.random.choice(len(images_sel), size=nplot, replace=False)\n",
    "    for i, ind in enumerate(plot_inds):\n",
    "        plt.subplot(nraw, ncol, i + 1)\n",
    "        plt.imshow(images_sel[ind], cmap='gray', vmin=0)\n",
    "        plt.axis('off')\n",
    "    plt.suptitle('Value in (%.3f, %.3f)' % (v_bins[m], v_bins[m+1]));"
   ]
  },
  {
   "cell_type": "code",
   "execution_count": null,
   "id": "5ff404a7",
   "metadata": {},
   "outputs": [],
   "source": []
  }
 ],
 "metadata": {
  "kernelspec": {
   "display_name": "Python 3",
   "language": "python",
   "name": "python3"
  },
  "language_info": {
   "codemirror_mode": {
    "name": "ipython",
    "version": 3
   },
   "file_extension": ".py",
   "mimetype": "text/x-python",
   "name": "python",
   "nbconvert_exporter": "python",
   "pygments_lexer": "ipython3",
   "version": "3.6.9"
  }
 },
 "nbformat": 4,
 "nbformat_minor": 5
}
