{
 "cells": [
  {
   "cell_type": "code",
   "execution_count": 14,
   "id": "d56e50c9",
   "metadata": {},
   "outputs": [],
   "source": [
    "import numpy as np\n",
    "import os\n",
    "import h5py\n",
    "import time\n",
    "from matplotlib import pyplot"
   ]
  },
  {
   "cell_type": "code",
   "execution_count": 15,
   "id": "16c13b08",
   "metadata": {},
   "outputs": [],
   "source": [
    "if 0:\n",
    "    alt = 70\n",
    "    folder_in = '/home/saturn/caph/mpp228/HESS_data/HESS_data_MC/sim_telarray/\\\n",
    "    phase2d/sim_telarray/phase2d/alt%i_h5/' % alt\n",
    "else:\n",
    "    folder_in = '/home/saturn/caph/mpp228/HESS_data/HESS_data_MC/sim_telarray/\\\n",
    "phase2d/NSB1.00/Desert/Proton/20deg/180deg/0.0deg-ws0/Data/Data_h5/'\n",
    "fns_in = os.listdir(folder_in)"
   ]
  },
  {
   "cell_type": "code",
   "execution_count": 16,
   "id": "cdc25920",
   "metadata": {},
   "outputs": [
    {
     "name": "stdout",
     "output_type": "stream",
     "text": [
      "2 0 2\n"
     ]
    }
   ],
   "source": [
    "pfns_in = list(np.sort([fn for fn in fns_in if fn.find('proton') > -1]))\n",
    "gfns_in = list(np.sort([fn for fn in fns_in if fn.find('gamma') > -1]))\n",
    "print(len(pfns_in), len(gfns_in), len(fns_in))"
   ]
  },
  {
   "cell_type": "code",
   "execution_count": 18,
   "id": "9ab28f92",
   "metadata": {},
   "outputs": [],
   "source": [
    "#pfns_in[0], gfns_in[0]"
   ]
  },
  {
   "cell_type": "code",
   "execution_count": 19,
   "id": "00ee4947",
   "metadata": {},
   "outputs": [],
   "source": [
    "from dl1_data_handler.reader import DL1DataReaderSTAGE1, DL1DataReaderDL1DH\n",
    "if 1:\n",
    "    channels_list = ['image']\n",
    "    tel_pars_list = ['obs_id',] \n",
    "    mc_info_list = [\"true_alt\", \"true_az\"] # mc parameters\n",
    "else:\n",
    "    channels_list = ['image', 'image_mask', 'peak_time',]\n",
    "    tel_pars_list = ['obs_id', 'event_id', 'tel_id', \n",
    "                     'camera_frame_hillas_intensity', 'camera_frame_hillas_x', 'camera_frame_hillas_y', \n",
    "                     'camera_frame_hillas_width', 'camera_frame_hillas_length',\n",
    "                     'camera_frame_hillas_psi', 'camera_frame_hillas_skewness', 'camera_frame_hillas_kurtosis', \n",
    "                     'camera_frame_hillas_r', 'camera_frame_hillas_phi',\n",
    "                'morphology_num_pixels', 'morphology_num_medium_islands', 'morphology_num_large_islands',\n",
    "                'leakage_pixels_width_1', 'leakage_pixels_width_2', \n",
    "                'leakage_intensity_width_1', 'leakage_intensity_width_2',\n",
    "                'intensity_mean'] # tel parameters in cta-pipe .h5\n",
    "    \n",
    "    mc_info_list = [\"true_energy\", \"true_alt\", \"true_az\"] # mc parameters\n",
    "groups = ['mc_pars', 'tel_pars', 'tel_pars_extra']\n",
    "mapping_settings = {'camera_types':['HESS-I']}\n",
    "event_selection = None\n",
    "def fn2reader(fn, mode='mono'):\n",
    "    return DL1DataReaderSTAGE1([fn],\n",
    "                             mode=mode,\n",
    "                             #example_identifiers_file=\"./examples.h5\",\n",
    "                             #selected_telescope_types=selected_telescope_types,\n",
    "                             mapping_settings=mapping_settings,\n",
    "                             #selected_telescope_ids={\"LST_LST_LSTCam\": LSTcams},\n",
    "                             #image_channels = ['image', 'peak_time', 'image_mask'],\n",
    "                             image_channels=channels_list,\n",
    "                             parameter_list=tel_pars_list,\n",
    "                             event_info=mc_info_list,\n",
    "                             event_selection=event_selection)"
   ]
  },
  {
   "cell_type": "code",
   "execution_count": 20,
   "id": "10d5adb0",
   "metadata": {},
   "outputs": [],
   "source": [
    "fn = folder_in + pfns_in[0]\n",
    "reader = fn2reader(fn)"
   ]
  },
  {
   "cell_type": "code",
   "execution_count": 21,
   "id": "b6b3a943",
   "metadata": {},
   "outputs": [
    {
     "name": "stdout",
     "output_type": "stream",
     "text": [
      "CPU times: user 157 ms, sys: 6.94 ms, total: 164 ms\n",
      "Wall time: 161 ms\n"
     ]
    }
   ],
   "source": [
    "%%time\n",
    "alt_az_p = np.array([r[2:] for r in reader]).T\n"
   ]
  },
  {
   "cell_type": "code",
   "execution_count": 22,
   "id": "a803ca06",
   "metadata": {},
   "outputs": [
    {
     "data": {
      "text/plain": [
       "Text(0.5, 1.0, 'Proton')"
      ]
     },
     "execution_count": 22,
     "metadata": {},
     "output_type": "execute_result"
    },
    {
     "data": {
      "image/png": "[encoded data removed]",
      "text/plain": [
       "<Figure size 432x288 with 1 Axes>"
      ]
     },
     "metadata": {
      "needs_background": "light"
     },
     "output_type": "display_data"
    }
   ],
   "source": [
    "pyplot.hist(alt_az_p[0], bins=100);\n",
    "pyplot.title('Proton')"
   ]
  },
  {
   "cell_type": "code",
   "execution_count": 23,
   "id": "6dbc2ce1",
   "metadata": {},
   "outputs": [
    {
     "data": {
      "text/plain": [
       "Text(0.5, 1.0, 'Proton')"
      ]
     },
     "execution_count": 23,
     "metadata": {},
     "output_type": "execute_result"
    },
    {
     "data": {
      "image/png": "[encoded data removed]",
      "text/plain": [
       "<Figure size 432x288 with 1 Axes>"
      ]
     },
     "metadata": {
      "needs_background": "light"
     },
     "output_type": "display_data"
    }
   ],
   "source": [
    "pyplot.hist(alt_az_p[1], bins=100);\n",
    "pyplot.title('Proton')"
   ]
  },
  {
   "cell_type": "code",
   "execution_count": 24,
   "id": "f9b8f9ca",
   "metadata": {},
   "outputs": [
    {
     "ename": "IndexError",
     "evalue": "list index out of range",
     "output_type": "error",
     "traceback": [
      "\u001b[0;31m---------------------------------------------------------------------------\u001b[0m",
      "\u001b[0;31mIndexError\u001b[0m                                Traceback (most recent call last)",
      "\u001b[0;32m<timed exec>\u001b[0m in \u001b[0;36m<module>\u001b[0;34m\u001b[0m\n",
      "\u001b[0;31mIndexError\u001b[0m: list index out of range"
     ]
    }
   ],
   "source": [
    "%%time\n",
    "fn = folder_in + gfns_in[0]\n",
    "reader = fn2reader(fn)\n",
    "alt_az_g = np.array([r[2:] for r in reader]).T\n"
   ]
  },
  {
   "cell_type": "code",
   "execution_count": 12,
   "id": "93eec2fe",
   "metadata": {},
   "outputs": [
    {
     "data": {
      "text/plain": [
       "Text(0.5, 1.0, 'Gamma')"
      ]
     },
     "execution_count": 12,
     "metadata": {},
     "output_type": "execute_result"
    },
    {
     "data": {
      "image/png": "[encoded data removed]",
      "text/plain": [
       "<Figure size 432x288 with 1 Axes>"
      ]
     },
     "metadata": {
      "needs_background": "light"
     },
     "output_type": "display_data"
    }
   ],
   "source": [
    "pyplot.hist(alt_az_g[0], bins=100);\n",
    "pyplot.title('Gamma')"
   ]
  },
  {
   "cell_type": "code",
   "execution_count": 13,
   "id": "90bc068f",
   "metadata": {},
   "outputs": [
    {
     "data": {
      "text/plain": [
       "Text(0.5, 1.0, 'Gamma')"
      ]
     },
     "execution_count": 13,
     "metadata": {},
     "output_type": "execute_result"
    },
    {
     "data": {
      "image/png": "[encoded data removed]",
      "text/plain": [
       "<Figure size 432x288 with 1 Axes>"
      ]
     },
     "metadata": {
      "needs_background": "light"
     },
     "output_type": "display_data"
    }
   ],
   "source": [
    "pyplot.hist(alt_az_g[1], bins=100);\n",
    "pyplot.title('Gamma')"
   ]
  },
  {
   "cell_type": "code",
   "execution_count": 31,
   "id": "3788f724",
   "metadata": {},
   "outputs": [],
   "source": [
    "image = reader[0][0].T[0]"
   ]
  },
  {
   "cell_type": "code",
   "execution_count": 32,
   "id": "ebc57af7",
   "metadata": {},
   "outputs": [
    {
     "data": {
      "text/plain": [
       "<matplotlib.image.AxesImage at 0x7f1262fff2e0>"
      ]
     },
     "execution_count": 32,
     "metadata": {},
     "output_type": "execute_result"
    },
    {
     "data": {
      "image/png": "[encoded data removed]",
      "text/plain": [
       "<Figure size 432x288 with 1 Axes>"
      ]
     },
     "metadata": {
      "needs_background": "light"
     },
     "output_type": "display_data"
    }
   ],
   "source": [
    "pyplot.imshow(image)"
   ]
  },
  {
   "cell_type": "code",
   "execution_count": null,
   "id": "056cfbcf",
   "metadata": {},
   "outputs": [],
   "source": []
  }
 ],
 "metadata": {
  "kernelspec": {
   "display_name": "Python 3 (ipykernel)",
   "language": "python",
   "name": "python3"
  },
  "language_info": {
   "codemirror_mode": {
    "name": "ipython",
    "version": 3
   },
   "file_extension": ".py",
   "mimetype": "text/x-python",
   "name": "python",
   "nbconvert_exporter": "python",
   "pygments_lexer": "ipython3",
   "version": "3.8.12"
  }
 },
 "nbformat": 4,
 "nbformat_minor": 5
}
