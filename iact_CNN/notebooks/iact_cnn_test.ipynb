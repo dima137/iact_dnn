{
 "cells": [
  {
   "cell_type": "code",
   "execution_count": 1,
   "id": "5e637f58",
   "metadata": {},
   "outputs": [],
   "source": [
    "# general modules\n",
    "import numpy as np\n",
    "import h5py\n",
    "import time\n",
    "import matplotlib.pyplot as plt\n",
    "import os\n",
    "import datetime\n",
    "\n",
    "# ML modules\n",
    "import tensorflow as tf\n",
    "#%load_ext tensorboard\n",
    "from tensorflow.keras import datasets, layers, models\n",
    "import tensorflow_addons as tfa\n",
    "from sklearn.metrics import roc_curve, auc\n",
    "\n",
    "# own modules\n",
    "import sys\n",
    "sys.path.append(\"../../\") # go to parent dir\n",
    "import iact_dnn_utils as utils\n",
    "import dio3\n",
    "import plot_utils\n"
   ]
  },
  {
   "cell_type": "code",
   "execution_count": 2,
   "id": "dd981f5c",
   "metadata": {},
   "outputs": [
    {
     "data": {
      "text/plain": [
       "<module 'iact_dnn_utils' from '../../iact_dnn_utils.py'>"
      ]
     },
     "execution_count": 2,
     "metadata": {},
     "output_type": "execute_result"
    }
   ],
   "source": [
    "import importlib\n",
    "importlib.reload(utils)"
   ]
  },
  {
   "cell_type": "code",
   "execution_count": 52,
   "id": "949f1e1e",
   "metadata": {},
   "outputs": [],
   "source": [
    "def get_max_Q(fpr, tpr):\n",
    "    ind_mask = fpr > 1.e-10\n",
    "    imax = np.argmax(tpr[ind_mask]/np.sqrt(fpr[ind_mask]))\n",
    "    imax = np.arange(len(tpr), dtype=int)[imax]\n",
    "    Rg = tpr[imax]\n",
    "    Rp = fpr[imax]\n",
    "    Qmax = Rg / np.sqrt(Rp)\n",
    "    return imax, Rg, Rp, Qmax"
   ]
  },
  {
   "cell_type": "code",
   "execution_count": 101,
   "id": "6198bc28",
   "metadata": {},
   "outputs": [],
   "source": [
    "case = 22\n",
    "# temporary hack - in future load dicts for different cases\n",
    "# baseline model for E > 1 TeV\n",
    "cdict = {'mode':'mono',\n",
    "         'tel':'MST_MST_FlashCam',\n",
    "         #'tel':'LST_LST_LSTCam',\n",
    "         'flatten':1,\n",
    "        'Etrue_min':0.3,\n",
    "        'n_events':10**5,\n",
    "         #'n_events_gamma-diffuse':10**5,\n",
    "         'folder_dl1':'/home/saturn/caph/mpp228/CTA_data/Prod5_GRID/\\\n",
    "Prod5_Paranal_AdvancedBaseline_NSB1x_EventPlaceholder_North_20deg_ctapipe_v0.10.5_DL1/',\n",
    "         'folder_square': '/home/saturn/caph/mpp228/CTA_data/Prod5_GRID/Prod5_square_images/',\n",
    "         'folder_zeta': '/home/saturn/caph/mpp228/CTA_results/Prod5_GRID/Prod5_square_images_zeta/case1/',\n",
    "         #'event_type':'proton',\n",
    "         'model_events':{'proton':8*10**4, 'gamma-diffuse':8*10**4}, # 'proton', 'gamma-diffuse', 'electron'\n",
    "         'data_key':'image_mask',\n",
    "         'image_size':'None',\n",
    "         'epochs': 10,\n",
    "         #'mask_keys': ['hillas_intensity', 'leakage_pixels_width_2'],\n",
    "         'mask_dict': {'hillas_intensity':{'min':200, 'max':10000, 'collapse_method':np.mean},\n",
    "                        #'leakage_pixels_width_2':{'min':-1, 'max':1.5/110., 'collapse_method':np.min},\n",
    "                       'hillas_r':{'min':0, 'max':1, 'collapse_method':np.mean},\n",
    "                       'true_energy':{'min':1., 'max':4., 'collapse_method':np.mean},\n",
    "                      },\n",
    "         'load_model': None, #'case1',\n",
    "         'zeta_mask': None,\n",
    "         'two_step': 0,\n",
    "         'dropout_rate': 0.,\n",
    "        }\n",
    "if case == 1:\n",
    "    # train for 20 epochs without focal loss\n",
    "    cdict['epochs'] = 20\n",
    "    #cdict['load_model'] = 'case1'\n",
    "if case == 2:\n",
    "    cdict['epochs'] = 10\n",
    "    gamma = 2\n",
    "    alpha = 0.25\n",
    "    cdict['gamma'] = gamma\n",
    "    cdict['alpha'] = alpha\n",
    "    cdict['two_step'] = 1\n",
    "    cdict['load_model'] = 'case2'\n",
    "if case == 3:\n",
    "    cdict['epochs'] = 20\n",
    "    cdict['mask_dict']['true_energy'] = {'min':10., 'max':1000., 'collapse_method':np.mean}\n",
    "    cdict['mask_dict']['hillas_r'] = {'min':0, 'max':0.8, 'collapse_method':np.mean}\n",
    "    cdict['model_events'] = {'proton':5*10**4, 'gamma-diffuse':5*10**4}\n",
    "    cdict['load_model'] = None\n",
    "    gamma = 0.5\n",
    "    alpha = 0.4\n",
    "    cdict['gamma'] = gamma\n",
    "    cdict['alpha'] = alpha\n",
    "    cdict['two_step'] = 1\n",
    "if case == 4:\n",
    "    cdict['epochs'] = 10\n",
    "    cdict['dropout_rate'] = 0.2\n",
    "    cdict['load_model'] = 'case4_part3' #'case4_part1'\n",
    "    cdict['mask_dict']['hillas_r'] = {'min':0, 'max':0.9, 'collapse_method':np.mean}\n",
    "    cdict['two_step'] = 1\n",
    "    gamma = 0.1\n",
    "    alpha = 0.4\n",
    "    cdict['gamma'] = gamma\n",
    "    cdict['alpha'] = alpha\n",
    "    \n",
    "if case == 10:\n",
    "    # refinement for E > 10 TeV and a zeta cut on case 1\n",
    "    cdict['zeta_mask'] = {'name':'case1', 'min':0.5, 'max':1.}\n",
    "    cdict['load_model'] = 'case1'\n",
    "\n",
    "if case == 21:\n",
    "    cdict['tel'] = None\n",
    "    cdict['epochs'] = 20\n",
    "    cdict['dropout_rate'] = 0.2\n",
    "    cdict['load_model'] = None\n",
    "    cdict['n_events'] = 10**4\n",
    "    cdict['mask_dict'] = {'camera_frame_hillas_intensity':{'min':200, 'max':10000, 'collapse_method':np.mean},\n",
    "                       'camera_frame_hillas_r':{'min':0, 'max':1, 'collapse_method':np.mean},\n",
    "                       'true_energy':{'min':1., 'max':4., 'collapse_method':np.mean},}\n",
    "    cdict['two_step'] = 0\n",
    "    cdict['model_events'] = {'proton':7*10**4, 'electron':7*10**4} # 'proton', 'gamma-diffuse', 'electron'\n",
    "    cdict['folder_square'] = '/home/saturn/caph/mpp228/HESS_data/HESS_data_MC/sim_telarray/phase2d/NSB1.00/\\\n",
    "Desert/Proton_Electron_Gamma-diffuse/20deg/180deg/0.0deg-ws0/Data_square/'\n",
    "if case == 22:\n",
    "    # the same as 21 but with min size of 160 as in zeta_hard configuration in S.Ohms thesis\n",
    "    cdict['tel'] = None\n",
    "    cdict['epochs'] = 20\n",
    "    cdict['dropout_rate'] = 0.2\n",
    "    cdict['load_model'] = None\n",
    "    cdict['n_events'] = 10**4\n",
    "    cdict['mask_dict'] = {'camera_frame_hillas_intensity':{'min':160, 'max':10000, 'collapse_method':np.mean},\n",
    "                       'camera_frame_hillas_r':{'min':0, 'max':1, 'collapse_method':np.mean},\n",
    "                       'true_energy':{'min':1., 'max':4., 'collapse_method':np.mean},}\n",
    "    cdict['two_step'] = 0\n",
    "    cdict['model_events'] = {'proton':7*10**4, 'electron':7*10**4} # 'proton', 'gamma-diffuse', 'electron'\n",
    "    cdict['folder_square'] = '/home/saturn/caph/mpp228/HESS_data/HESS_data_MC/sim_telarray/phase2d/NSB1.00/\\\n",
    "Desert/Proton_Electron_Gamma-diffuse/20deg/180deg/0.0deg-ws0/Data_square/'\n",
    "\n",
    "#date = datetime.datetime.now().strftime(\"%Y%m%d-%H%M%S\")\n",
    "#date = log_dir.split('/')[-1]"
   ]
  },
  {
   "cell_type": "code",
   "execution_count": 102,
   "id": "52b1781d",
   "metadata": {},
   "outputs": [
    {
     "name": "stdout",
     "output_type": "stream",
     "text": [
      "save dict to file:\n",
      "../config/cdict_case22.yaml\n"
     ]
    }
   ],
   "source": [
    "cdict_fn = '../config/cdict_case%i.yaml' % case\n",
    "#cdict['folder_zeta'] += 'case%i/' % case\n",
    "dio3.savedict(cdict, cdict_fn, expand=True)\n",
    "\n",
    "plot_ROC_only = False\n",
    "if plot_ROC_only:\n",
    "    cdict['mask_dict']['true_energy'] = {'min':10., 'max':100., 'collapse_method':np.mean}\n",
    "    cdict['model_events'] = {'proton':10**4, 'gamma-diffuse':10**4}\n",
    "    cdict['load_model'] = 'case%i' % case\n"
   ]
  },
  {
   "cell_type": "code",
   "execution_count": 103,
   "id": "2fee8618",
   "metadata": {},
   "outputs": [
    {
     "name": "stdout",
     "output_type": "stream",
     "text": [
      "['CR_type', 'true_energy', 'camera_frame_hillas_intensity', 'camera_frame_hillas_r', 'true_energy']\n"
     ]
    }
   ],
   "source": [
    "# common parameters\n",
    "image_keys = ['image', 'image_mask']\n",
    "pars_keys = ['CR_type', 'true_energy'] # to be extended from .h5 file\n",
    "epochs = cdict['epochs']\n",
    "dropout_rate = cdict['dropout_rate']\n",
    "\n",
    "image_size = cdict['image_size'] # 40 - if crop\n",
    "train_fraction = 0.6\n",
    "#mask_dict = {'hillas_intensity':{'min':200, 'max':10000, 'collapse_method':np.mean},\n",
    "#            'leakage_pixels_width_2':{'min':-1, 'max':1.5/110., 'collapse_method':np.min},}\n",
    "mask_dict = cdict['mask_dict']\n",
    "apply_mask = True\n",
    "if apply_mask:\n",
    "    pars_keys.extend(list(mask_dict.keys()))\n",
    "print(pars_keys)\n",
    "\n",
    "# selection parameters\n",
    "folder = cdict['folder_square']\n",
    "ev_types = ['proton', 'gamma-diffuse']\n",
    "n_events = cdict['n_events']\n",
    "mode = cdict['mode']\n",
    "#n_events = 1000\n",
    "data_key = cdict['data_key'] # 'image', 'image_mask'\n",
    "y_key = 'CR_type'\n",
    "\n",
    "# model description\n",
    "model_descr_str = 'case%i' % (case)\n",
    "save_model = True\n",
    "test_train = 1\n",
    "save_plots = 1\n",
    "publish_version = 0\n",
    "plot_utils.setup_figure_pars()\n",
    "\n",
    "mdl_folder = '../models'\n",
    "if not os.path.isdir(mdl_folder):\n",
    "    os.makedirs(mdl_folder)\n",
    "mdl_fn = '%s/model_%s.h5' % (mdl_folder, model_descr_str)\n",
    "\n",
    "mdl_in_fn = '%s/model_%s.h5' % (mdl_folder, cdict['load_model'])\n",
    "if cdict['load_model'] and os.path.isfile(mdl_in_fn):\n",
    "    model = tf.keras.models.load_model(mdl_in_fn)\n",
    "else:\n",
    "    model = None\n",
    "\n",
    "load_data_together = False\n",
    "plots_folder = '../plots/'"
   ]
  },
  {
   "cell_type": "code",
   "execution_count": 104,
   "id": "14eff4e3",
   "metadata": {},
   "outputs": [
    {
     "name": "stdout",
     "output_type": "stream",
     "text": [
      "logs/fit/case22\n"
     ]
    }
   ],
   "source": [
    "# setup tensorboard parameters\n",
    "#if 0: %rm -rf ./logs/\n",
    "if model is None:\n",
    "    log_dir = \"logs/fit/case%i\" % case\n",
    "    print(log_dir)\n",
    "    tensorboard_callback = tf.keras.callbacks.TensorBoard(log_dir=log_dir, histogram_freq=1)\n",
    "else:\n",
    "    tensorboard_callback = None"
   ]
  },
  {
   "cell_type": "code",
   "execution_count": 105,
   "id": "da902d2e",
   "metadata": {},
   "outputs": [],
   "source": [
    "if case == 1 and load_data_together:\n",
    "    # old style loading data - all images at once\n",
    "\n",
    "    #fn = folder + utils.get_square_images_fn(cdict, file_number=1)\n",
    "    #utils.add_meta_keys(fn, pars_keys, image_keys=image_keys)\n",
    "    cdict['pars_keys'] = pars_keys\n",
    "    pars_dict = utils.load_meta_data(folder, cdict)\n",
    "    images = utils.load_images(folder, cdict)\n",
    "    ntot0, image_size, image_size, ntel0 = images.shape\n",
    "\n",
    "    if cdict['flatten']:\n",
    "        images = utils.flatten_tel_images(images)\n",
    "        for key in pars_dict:\n",
    "            pars_dict[key] = utils.flatten_meta_data(pars_dict[key], ntel=ntel0)\n",
    "    if cdict['flatten']:\n",
    "        ntot, image_size, image_size, ntel = images.shape\n",
    "        print(ntot, image_size, image_size, ntel)\n",
    "        for key in pars_dict.keys():\n",
    "            print(pars_dict[key].shape)\n",
    "\n",
    "    crop = False\n",
    "    if crop:\n",
    "        %%time\n",
    "        cropped_images, crop_mask = utils.crop_images(images, image_size, test=True, crop_fraction=0.1)\n",
    "        print(cropped_images.shape)\n",
    "    else:\n",
    "        crop_mask = np.ones(ntot, dtype=bool)\n"
   ]
  },
  {
   "cell_type": "code",
   "execution_count": 106,
   "id": "19527e08",
   "metadata": {},
   "outputs": [],
   "source": [
    "if case == 1 and load_data_together:\n",
    "    # plot the images for the all-images loading\n",
    "    size = 2\n",
    "    v = 20\n",
    "    nraw = 2\n",
    "    ncol = 4\n",
    "    fig = plt.figure(figsize=(size*ncol, size*nraw))\n",
    "    for i in range(nraw * ncol):\n",
    "        plt.subplot(nraw, ncol, i + 1)\n",
    "        ind = ntot-i-1\n",
    "        plt.imshow(images[ind,:,:,0], cmap='gray', vmin=0)\n",
    "        plt.axis('off')\n",
    "        #plt.colorbar()\n",
    "        #plt.title(crop_mask[i])\n",
    "        plt.title(pars_dict['CR_type'][ind])\n",
    "    plt.suptitle('Input images');\n",
    "\n",
    "    if crop:\n",
    "        fig = plt.figure(figsize=(size*ncol, size*nraw))\n",
    "        for i in range(nraw * ncol):\n",
    "            plt.subplot(nraw, ncol, i + 1)\n",
    "            plt.imshow(cropped_images[i], cmap='gray', vmin=0)\n",
    "            plt.axis('off')\n",
    "            #plt.colorbar()\n",
    "            #plt.title(crop_mask[i])\n",
    "            plt.title(pars_dict['CR_type'][i])\n",
    "        plt.suptitle('Cropped images');\n",
    "        print('contained images: %.1fk, cropped image: %.1fk' % (np.sum(crop_mask)/1000., np.sum(~crop_mask)/1000.))"
   ]
  },
  {
   "cell_type": "code",
   "execution_count": 107,
   "id": "3f8db104",
   "metadata": {},
   "outputs": [],
   "source": [
    "if case == 1 and load_data_together:\n",
    "    mask = np.ones(len(images), dtype=bool)\n",
    "\n",
    "    if apply_mask:\n",
    "        #mask_dict = {'true_energy':{'min':10, 'max':100}}\n",
    "\n",
    "        for key in mask_dict.keys():\n",
    "            pars_dict[key] = np.nan_to_num(pars_dict[key], nan=0.)\n",
    "            if pars_dict[key].ndim == 1:\n",
    "                vals = pars_dict[key]\n",
    "            elif pars_dict[key].ndim == 2:\n",
    "                vals = mask_dict[key]['collapse_method'](pars_dict[key], axis=-1)\n",
    "            else:\n",
    "                print('need a 1D or 2D array for', key)\n",
    "                break\n",
    "            vmin = mask_dict[key]['min']\n",
    "            vmax = mask_dict[key].get('max', np.inf)\n",
    "            mask &= (vals > vmin) & (vals < vmax)\n",
    "        mask &= crop_mask\n",
    "        print(np.sum(mask)/len(mask))\n",
    "    ntot = np.sum(mask)"
   ]
  },
  {
   "cell_type": "code",
   "execution_count": 108,
   "id": "58593a80",
   "metadata": {},
   "outputs": [],
   "source": [
    "#data_folder = cdict['folder_square']\n",
    "#cdict['event_type'] = 'proton'\n",
    "#print(utils.get_square_images_fn(cdict, file_number=1))\n",
    "#print(os.listdir(data_folder))\n",
    "#cdict['model_events']\n",
    "#fns_dict = utils.get_images_fns(cdict, folder=data_folder, exists=True)\n",
    "#fns_dict"
   ]
  },
  {
   "cell_type": "code",
   "execution_count": 109,
   "id": "f7a4778c",
   "metadata": {},
   "outputs": [
    {
     "name": "stdout",
     "output_type": "stream",
     "text": [
      "proton\n",
      "proton file 1 out of 38\n",
      "Total number of events: 1705\n",
      "proton file 2 out of 38\n",
      "Total number of events: 3462\n",
      "proton file 3 out of 38\n",
      "Total number of events: 5175\n",
      "proton file 4 out of 38\n",
      "Total number of events: 6709\n",
      "proton file 5 out of 38\n",
      "Total number of events: 8572\n",
      "proton file 6 out of 38\n",
      "Total number of events: 10348\n",
      "proton file 7 out of 38\n",
      "Total number of events: 12028\n",
      "proton file 8 out of 38\n",
      "Total number of events: 13756\n",
      "proton file 9 out of 38\n",
      "Total number of events: 15424\n",
      "proton file 10 out of 38\n",
      "Total number of events: 17155\n",
      "proton file 11 out of 38\n",
      "Total number of events: 18985\n",
      "proton file 12 out of 38\n",
      "Total number of events: 20811\n",
      "proton file 13 out of 38\n",
      "Total number of events: 22596\n",
      "proton file 14 out of 38\n",
      "Total number of events: 24251\n",
      "proton file 15 out of 38\n",
      "Total number of events: 26013\n",
      "proton file 16 out of 38\n",
      "Total number of events: 27620\n",
      "proton file 17 out of 38\n",
      "Total number of events: 29377\n",
      "proton file 18 out of 38\n",
      "Total number of events: 31068\n",
      "proton file 19 out of 38\n",
      "Total number of events: 32841\n",
      "proton file 20 out of 38\n",
      "Total number of events: 34447\n",
      "proton file 21 out of 38\n",
      "Total number of events: 36184\n",
      "proton file 22 out of 38\n",
      "Total number of events: 37934\n",
      "proton file 23 out of 38\n",
      "Total number of events: 39755\n",
      "proton file 24 out of 38\n",
      "Total number of events: 41439\n",
      "proton file 25 out of 38\n",
      "Total number of events: 43266\n",
      "proton file 26 out of 38\n",
      "Total number of events: 45078\n",
      "proton file 27 out of 38\n",
      "Total number of events: 46841\n",
      "proton file 28 out of 38\n",
      "Total number of events: 48600\n",
      "proton file 29 out of 38\n",
      "Total number of events: 50479\n",
      "proton file 30 out of 38\n",
      "Total number of events: 52113\n",
      "proton file 31 out of 38\n",
      "Total number of events: 53856\n",
      "proton file 32 out of 38\n",
      "Total number of events: 55667\n",
      "proton file 33 out of 38\n",
      "Total number of events: 57424\n",
      "proton file 34 out of 38\n",
      "Total number of events: 59060\n",
      "proton file 35 out of 38\n",
      "Total number of events: 60894\n",
      "proton file 36 out of 38\n",
      "Total number of events: 62719\n",
      "proton file 37 out of 38\n",
      "Total number of events: 64524\n",
      "proton file 38 out of 38\n",
      "Total number of events: 66236\n",
      "electron\n",
      "electron file 1 out of 30\n",
      "Total number of events: 2221\n",
      "electron file 2 out of 30\n",
      "Total number of events: 4515\n",
      "electron file 3 out of 30\n",
      "Total number of events: 6792\n",
      "electron file 4 out of 30\n",
      "Total number of events: 8889\n",
      "electron file 5 out of 30\n",
      "Total number of events: 11030\n",
      "electron file 6 out of 30\n",
      "Total number of events: 13215\n",
      "electron file 7 out of 30\n",
      "Total number of events: 15255\n",
      "electron file 8 out of 30\n",
      "Total number of events: 17511\n",
      "electron file 9 out of 30\n",
      "Total number of events: 19883\n",
      "electron file 10 out of 30\n",
      "Total number of events: 22069\n",
      "electron file 11 out of 30\n",
      "Total number of events: 24305\n",
      "electron file 12 out of 30\n",
      "Total number of events: 26411\n",
      "electron file 13 out of 30\n",
      "Total number of events: 28472\n",
      "electron file 14 out of 30\n",
      "Total number of events: 30672\n",
      "electron file 15 out of 30\n",
      "Total number of events: 32934\n",
      "electron file 16 out of 30\n",
      "Total number of events: 35105\n",
      "electron file 17 out of 30\n",
      "Total number of events: 37331\n",
      "electron file 18 out of 30\n",
      "Total number of events: 39537\n",
      "electron file 19 out of 30\n",
      "Total number of events: 41679\n",
      "electron file 20 out of 30\n",
      "Total number of events: 43793\n",
      "electron file 21 out of 30\n",
      "Total number of events: 45865\n",
      "electron file 22 out of 30\n",
      "Total number of events: 48060\n",
      "electron file 23 out of 30\n",
      "Total number of events: 50258\n",
      "electron file 24 out of 30\n",
      "Total number of events: 52496\n",
      "electron file 25 out of 30\n",
      "Total number of events: 54659\n",
      "electron file 26 out of 30\n",
      "Total number of events: 56917\n",
      "electron file 27 out of 30\n",
      "Total number of events: 59060\n",
      "electron file 28 out of 30\n",
      "Total number of events: 61277\n",
      "electron file 29 out of 30\n",
      "Total number of events: 63344\n",
      "electron file 30 out of 30\n",
      "Total number of events: 65415\n"
     ]
    }
   ],
   "source": [
    "# new way of loading images - keep only unmasked ones\n",
    "data_folder = cdict['folder_square']\n",
    "fns_dict = utils.get_images_fns(cdict, folder=data_folder, exists=True)\n",
    "if cdict['zeta_mask']:\n",
    "    name = cdict['zeta_mask']['name']\n",
    "    cdict_zeta_fn = '../config/cdict_%s.yaml' % name\n",
    "    cdict_zeta = dio3.loaddict(cdict_zeta_fn)\n",
    "    zeta_folder = cdict_zeta['folder_zeta']\n",
    "    zeta_fns_dict = utils.get_zeta_fns(cdict_zeta, folder=zeta_folder, exists=True)\n",
    "    print(zeta_folder)\n",
    "\n",
    "X_list = []\n",
    "Y_list = []\n",
    "x_data = None\n",
    "if x_data is None:\n",
    "    test = 0\n",
    "    nfls = 1\n",
    "    ntel0 = 1\n",
    "    for evtype in cdict['model_events'].keys():\n",
    "        print(evtype)\n",
    "        ndata_tot = 0\n",
    "        t0 = time.time()\n",
    "        if not test:\n",
    "            nfls = len(fns_dict[evtype])\n",
    "        for i, fn0 in enumerate(fns_dict[evtype][:nfls]):\n",
    "            fn = data_folder + fn0\n",
    "\n",
    "\n",
    "            # make mask\n",
    "            mask = True\n",
    "            for key in mask_dict.keys():\n",
    "                data = utils.load_metadata_from_file(fn, key, event_type=evtype)\n",
    "                if data.ndim == 1:\n",
    "                    data = np.outer(data, np.ones(ntel0))\n",
    "                data = utils.flatten_meta_data(data, ntel=ntel0)\n",
    "                vmin = mask_dict[key]['min']\n",
    "                vmax = mask_dict[key].get('max', np.inf)\n",
    "                mask &= (data >= vmin) & (data <= vmax)\n",
    "                if test:\n",
    "                    print(key, sum(mask), vmin, vmax)\n",
    "\n",
    "            # make zeta mask\n",
    "            if cdict['zeta_mask']:\n",
    "                zeta_fn = zeta_fns_dict[evtype][i]\n",
    "                #print(zeta_fn)\n",
    "                vmin = cdict['zeta_mask']['min']\n",
    "                vmax = cdict['zeta_mask'].get('max', 1.)\n",
    "                with h5py.File(zeta_folder + zeta_fn, 'r') as h5:\n",
    "                    zeta = h5['zeta'][:]\n",
    "                    zeta_mask = np.array(h5['mask'], dtype=bool)\n",
    "                    zeta_mask &= (zeta >= vmin) & (zeta <= vmax)\n",
    "                    mask &= utils.flatten_meta_data(zeta_mask, ntel=ntel0)\n",
    "                if test:\n",
    "                    print('zeta', sum(mask))\n",
    "\n",
    "            # load data\n",
    "            print('%s file %i out of %i' % (evtype, i+1, nfls))\n",
    "            key = cdict['data_key']\n",
    "            images = utils.load_images_from_file(fn, key)\n",
    "            if cdict['mode'] == 'stereo':\n",
    "                images = utils.flatten_tel_images(images)\n",
    "            if test:\n",
    "                print(len(images))\n",
    "\n",
    "            # add unmasked images and target values\n",
    "            x_data = images[mask]\n",
    "            ndata = len(x_data)\n",
    "            if ndata_tot + ndata > cdict['model_events'][evtype]:\n",
    "                ndata = cdict['model_events'][evtype] - ndata_tot\n",
    "            X_list.append(x_data[:ndata])\n",
    "            ndata_tot += ndata\n",
    "            if evtype == 'proton':\n",
    "                Y_list.append(np.zeros(ndata))\n",
    "            else:\n",
    "                Y_list.append(np.ones(ndata))\n",
    "            print('Total number of events: %i' % ndata_tot)\n",
    "            if ndata_tot == cdict['model_events'][evtype]:\n",
    "                # load 'n_events_tot' or all available data if not enough\n",
    "                break"
   ]
  },
  {
   "cell_type": "code",
   "execution_count": 110,
   "id": "a4ec3a62",
   "metadata": {},
   "outputs": [],
   "source": [
    "if cdict['mode'] == 'stereo':\n",
    "    nn, image_size, image_size, ntel = X_list[0].shape\n",
    "else:\n",
    "    nn, image_size, image_size = X_list[0].shape\n",
    "    ntel = 1\n",
    "ntot = np.sum([len(x) for x in X_list])\n",
    "x_data = np.zeros((ntot, image_size, image_size, ntel), dtype=np.float32)\n",
    "y_data = np.zeros(ntot)\n",
    "imin = 0\n",
    "for k, x in enumerate(X_list):\n",
    "    imax = imin + len(x)\n",
    "    if cdict['mode'] == 'stereo':\n",
    "        x_data[imin:imax] = x\n",
    "    else:\n",
    "        x_data[imin:imax,:,:,0] = x\n",
    "    y_data[imin:imax] = Y_list[k]\n",
    "    imin = imax\n",
    "    if imin == ntot:\n",
    "        break"
   ]
  },
  {
   "cell_type": "code",
   "execution_count": 111,
   "id": "e2eb3d41",
   "metadata": {},
   "outputs": [
    {
     "data": {
      "text/plain": [
       "(array([0., 0., 0., 0., 0., 0., 0., 0., 0., 0.]),\n",
       " array([1., 1., 1., 1., 1., 1., 1., 1., 1., 1.]))"
      ]
     },
     "execution_count": 111,
     "metadata": {},
     "output_type": "execute_result"
    }
   ],
   "source": [
    "# test the labels for CRp and CR gamma\n",
    "y_data[:10], y_data[-10:]"
   ]
  },
  {
   "cell_type": "code",
   "execution_count": 112,
   "id": "80ecca23",
   "metadata": {},
   "outputs": [],
   "source": [
    "del X_list\n",
    "del Y_list"
   ]
  },
  {
   "cell_type": "code",
   "execution_count": 113,
   "id": "19509d88",
   "metadata": {},
   "outputs": [],
   "source": [
    "if case == 1 and load_data_together:\n",
    "    # prepare data\n",
    "    if crop:\n",
    "        x_data = cropped_images[mask].astype('float32').reshape((ntot, image_size, image_size, ntel))\n",
    "        y_data = pars_dict['CR_type'][mask]\n",
    "    else:\n",
    "        x_data = images[mask].reshape((ntot, image_size, image_size, ntel))\n",
    "        y_data = pars_dict['CR_type'][mask]\n"
   ]
  },
  {
   "cell_type": "code",
   "execution_count": 114,
   "id": "dc51541c",
   "metadata": {},
   "outputs": [],
   "source": [
    "\n",
    "inds = np.arange(ntot)\n",
    "shuffle = True\n",
    "if shuffle:\n",
    "    np.random.seed(7)\n",
    "    np.random.shuffle(inds)\n",
    "split_ind = int(ntot * train_fraction)\n",
    "\n",
    "train_inds = inds[:split_ind]\n",
    "test_inds = inds[split_ind:ntot]\n",
    "x_train = x_data[train_inds]\n",
    "x_test = x_data[test_inds]\n",
    "y_train = y_data[train_inds]\n",
    "y_test = y_data[test_inds]\n",
    "\n",
    "\n",
    "\n",
    "batch_size = 32\n",
    "train_dataset = (tf.data.Dataset.from_tensor_slices(x_train).batch(batch_size))\n",
    "test_dataset = (tf.data.Dataset.from_tensor_slices(x_test).batch(batch_size))\n",
    "\n",
    "learning_rate = 1.e-4\n",
    "optimizer = tf.keras.optimizers.Adam(learning_rate=learning_rate)"
   ]
  },
  {
   "cell_type": "code",
   "execution_count": 115,
   "id": "0aca8c87",
   "metadata": {},
   "outputs": [
    {
     "data": {
      "text/plain": [
       "(131651, 72, 1)"
      ]
     },
     "execution_count": 115,
     "metadata": {},
     "output_type": "execute_result"
    }
   ],
   "source": [
    "ntot, image_size, ntel"
   ]
  },
  {
   "cell_type": "code",
   "execution_count": 116,
   "id": "f55d11c5",
   "metadata": {},
   "outputs": [],
   "source": [
    "model"
   ]
  },
  {
   "cell_type": "code",
   "execution_count": 117,
   "id": "39364e66",
   "metadata": {},
   "outputs": [],
   "source": [
    "#model = None\n",
    "if model is None:\n",
    "    # network definition\n",
    "    model = models.Sequential()\n",
    "    model.add(layers.InputLayer(input_shape=(image_size, image_size, ntel)))\n",
    "    if image_size > 100:    \n",
    "        model.add(layers.MaxPooling2D((2, 2)))\n",
    "    model.add(layers.Conv2D(32, (3, 3), activation='relu', padding='valid'))\n",
    "    \n",
    "    if dropout_rate > 0:\n",
    "        model.add(layers.Dropout(dropout_rate, noise_shape=None, seed=None))\n",
    "    model.add(layers.MaxPooling2D((2, 2)))\n",
    "    model.add(layers.Conv2D(32, (3, 3), activation='relu'))\n",
    "    if dropout_rate > 0:\n",
    "        model.add(layers.Dropout(dropout_rate, noise_shape=None, seed=None))\n",
    "    model.add(layers.MaxPooling2D((2, 2)))\n",
    "    model.add(layers.Conv2D(32, (5, 5), activation='relu'))\n",
    "    if dropout_rate > 0:\n",
    "        model.add(layers.Dropout(dropout_rate, noise_shape=None, seed=None))\n",
    "    model.add(layers.Flatten())\n",
    "    model.add(layers.Dense(10, activation='relu'))\n",
    "    model.add(layers.Dense(1, activation='sigmoid'))\n",
    "\n",
    "    model.compile(optimizer=optimizer,\n",
    "                  loss=tf.keras.losses.BinaryCrossentropy(from_logits=False),\n",
    "                  #loss=tfa.losses.SigmoidFocalCrossEntropy(gamma=2., alpha=0.75),\n",
    "                  metrics=['accuracy'])\n",
    "\n",
    "    #model.summary()"
   ]
  },
  {
   "cell_type": "code",
   "execution_count": 118,
   "id": "b90b888a",
   "metadata": {},
   "outputs": [
    {
     "name": "stdout",
     "output_type": "stream",
     "text": [
      "Model: \"sequential_2\"\n",
      "_________________________________________________________________\n",
      "Layer (type)                 Output Shape              Param #   \n",
      "=================================================================\n",
      "conv2d_6 (Conv2D)            (None, 70, 70, 32)        320       \n",
      "_________________________________________________________________\n",
      "dropout_6 (Dropout)          (None, 70, 70, 32)        0         \n",
      "_________________________________________________________________\n",
      "max_pooling2d_4 (MaxPooling2 (None, 35, 35, 32)        0         \n",
      "_________________________________________________________________\n",
      "conv2d_7 (Conv2D)            (None, 33, 33, 32)        9248      \n",
      "_________________________________________________________________\n",
      "dropout_7 (Dropout)          (None, 33, 33, 32)        0         \n",
      "_________________________________________________________________\n",
      "max_pooling2d_5 (MaxPooling2 (None, 16, 16, 32)        0         \n",
      "_________________________________________________________________\n",
      "conv2d_8 (Conv2D)            (None, 12, 12, 32)        25632     \n",
      "_________________________________________________________________\n",
      "dropout_8 (Dropout)          (None, 12, 12, 32)        0         \n",
      "_________________________________________________________________\n",
      "flatten_2 (Flatten)          (None, 4608)              0         \n",
      "_________________________________________________________________\n",
      "dense_4 (Dense)              (None, 10)                46090     \n",
      "_________________________________________________________________\n",
      "dense_5 (Dense)              (None, 1)                 11        \n",
      "=================================================================\n",
      "Total params: 81,301\n",
      "Trainable params: 81,301\n",
      "Non-trainable params: 0\n",
      "_________________________________________________________________\n"
     ]
    }
   ],
   "source": [
    "model.summary()"
   ]
  },
  {
   "cell_type": "code",
   "execution_count": 119,
   "id": "8643023a",
   "metadata": {},
   "outputs": [],
   "source": [
    "#model = tf.keras.models.load_model(mdl_in_fn)"
   ]
  },
  {
   "cell_type": "code",
   "execution_count": 120,
   "id": "a27b4148",
   "metadata": {},
   "outputs": [
    {
     "name": "stdout",
     "output_type": "stream",
     "text": [
      "Epoch 1/20\n",
      "2469/2469 [==============================] - 92s 37ms/step - loss: 0.6477 - accuracy: 0.6085 - val_loss: 0.5989 - val_accuracy: 0.6811\n",
      "Epoch 2/20\n",
      "2469/2469 [==============================] - 86s 35ms/step - loss: 0.5249 - accuracy: 0.7367 - val_loss: 0.4620 - val_accuracy: 0.8055\n",
      "Epoch 3/20\n",
      "2469/2469 [==============================] - 87s 35ms/step - loss: 0.4387 - accuracy: 0.8005 - val_loss: 0.4142 - val_accuracy: 0.8337\n",
      "Epoch 4/20\n",
      "2469/2469 [==============================] - 81s 33ms/step - loss: 0.4017 - accuracy: 0.8213 - val_loss: 0.3870 - val_accuracy: 0.8420\n",
      "Epoch 5/20\n",
      "2469/2469 [==============================] - 87s 35ms/step - loss: 0.3839 - accuracy: 0.8322 - val_loss: 0.4110 - val_accuracy: 0.8164\n",
      "Epoch 6/20\n",
      "2469/2469 [==============================] - 84s 34ms/step - loss: 0.3669 - accuracy: 0.8395 - val_loss: 0.3585 - val_accuracy: 0.8486\n",
      "Epoch 7/20\n",
      "2469/2469 [==============================] - 90s 36ms/step - loss: 0.3451 - accuracy: 0.8491 - val_loss: 0.3389 - val_accuracy: 0.8651\n",
      "Epoch 8/20\n",
      "2469/2469 [==============================] - 82s 33ms/step - loss: 0.3316 - accuracy: 0.8549 - val_loss: 0.3207 - val_accuracy: 0.8723\n",
      "Epoch 9/20\n",
      "2469/2469 [==============================] - 89s 36ms/step - loss: 0.3214 - accuracy: 0.8612 - val_loss: 0.3217 - val_accuracy: 0.8714\n",
      "Epoch 10/20\n",
      "2469/2469 [==============================] - 83s 34ms/step - loss: 0.3118 - accuracy: 0.8648 - val_loss: 0.3332 - val_accuracy: 0.8526\n",
      "Epoch 11/20\n",
      "2469/2469 [==============================] - 88s 36ms/step - loss: 0.3047 - accuracy: 0.8674 - val_loss: 0.3024 - val_accuracy: 0.8781\n",
      "Epoch 12/20\n",
      "2469/2469 [==============================] - 83s 34ms/step - loss: 0.2941 - accuracy: 0.8726 - val_loss: 0.3084 - val_accuracy: 0.8691\n",
      "Epoch 13/20\n",
      "2469/2469 [==============================] - 89s 36ms/step - loss: 0.2910 - accuracy: 0.8736 - val_loss: 0.3107 - val_accuracy: 0.8594\n",
      "Epoch 14/20\n",
      "2469/2469 [==============================] - 83s 34ms/step - loss: 0.2868 - accuracy: 0.8756 - val_loss: 0.3187 - val_accuracy: 0.8603\n",
      "Epoch 15/20\n",
      "2469/2469 [==============================] - 90s 36ms/step - loss: 0.2816 - accuracy: 0.8779 - val_loss: 0.3201 - val_accuracy: 0.8550\n",
      "Epoch 16/20\n",
      "2469/2469 [==============================] - 87s 35ms/step - loss: 0.2773 - accuracy: 0.8800 - val_loss: 0.2839 - val_accuracy: 0.8840\n",
      "Epoch 17/20\n",
      "2469/2469 [==============================] - 90s 36ms/step - loss: 0.2730 - accuracy: 0.8826 - val_loss: 0.2832 - val_accuracy: 0.8844\n",
      "Epoch 18/20\n",
      "2469/2469 [==============================] - 87s 35ms/step - loss: 0.2663 - accuracy: 0.8845 - val_loss: 0.2772 - val_accuracy: 0.8882\n",
      "Epoch 19/20\n",
      "2469/2469 [==============================] - 92s 37ms/step - loss: 0.2644 - accuracy: 0.8856 - val_loss: 0.2795 - val_accuracy: 0.8831\n",
      "Epoch 20/20\n",
      "2469/2469 [==============================] - 85s 35ms/step - loss: 0.2615 - accuracy: 0.8868 - val_loss: 0.2801 - val_accuracy: 0.8817\n"
     ]
    }
   ],
   "source": [
    "# fit the model\n",
    "if cdict['load_model'] is None:\n",
    "    history = model.fit(x=x_train, \n",
    "                        y=y_train, \n",
    "                        #epochs=epochs, \n",
    "                        epochs=epochs, \n",
    "                        validation_data=(x_test, y_test),\n",
    "                        callbacks=[tensorboard_callback]\n",
    "                       )"
   ]
  },
  {
   "cell_type": "code",
   "execution_count": 121,
   "id": "06c81fb5",
   "metadata": {},
   "outputs": [
    {
     "name": "stdout",
     "output_type": "stream",
     "text": [
      "save model\n",
      "../models/model_case22_part1.h5\n"
     ]
    }
   ],
   "source": [
    "if save_model and cdict['load_model'] is None:\n",
    "    print('save model')\n",
    "    mdl_fn_part1 = mdl_fn.replace('.h5', '_part1.h5')\n",
    "    print(mdl_fn_part1)\n",
    "    model.save(mdl_fn_part1)\n"
   ]
  },
  {
   "cell_type": "code",
   "execution_count": 122,
   "id": "6a694bd9",
   "metadata": {},
   "outputs": [
    {
     "name": "stdout",
     "output_type": "stream",
     "text": [
      "electron\n"
     ]
    },
    {
     "data": {
      "image/png": "[encoded data removed]",
      "text/plain": [
       "<Figure size 576x432 with 1 Axes>"
      ]
     },
     "metadata": {
      "needs_background": "light"
     },
     "output_type": "display_data"
    },
    {
     "data": {
      "image/png": "[encoded data removed]",
      "text/plain": [
       "<Figure size 576x432 with 1 Axes>"
      ]
     },
     "metadata": {
      "needs_background": "light"
     },
     "output_type": "display_data"
    }
   ],
   "source": [
    "for evtype in cdict['model_events']:\n",
    "    if evtype != 'proton': break\n",
    "print(evtype)\n",
    "if test_train:\n",
    "    train_labels = y_train.astype(bool)\n",
    "    y_pred_train = model.predict(x_train)\n",
    "    plt.figure()\n",
    "    ghist = plt.hist(y_pred_train[train_labels], alpha=1, bins=100, density=True, log=True, histtype='step', \n",
    "                     label=evtype)\n",
    "    phist = plt.hist(y_pred_train[~train_labels], alpha=1, bins=100, density=True, log=True, histtype='step', \n",
    "                     label='proton')\n",
    "    plt.xlabel('Zeta')\n",
    "    plt.ylabel('pdf')\n",
    "    plt.legend(loc='upper center')\n",
    "    plt.grid()\n",
    "    plt.ylim(0.01, 100)\n",
    "    plt.title('Training dataset')\n",
    "    if save_plots:\n",
    "        plt.savefig(plots_folder + '%s-hadron_zeta_%s_train_step1.pdf' % (evtype, model_descr_str))\n",
    "\n",
    "\n",
    "test_labels = y_test.astype(bool)\n",
    "y_pred = model.predict(x_test)\n",
    "\n",
    "plt.figure()\n",
    "ghist = plt.hist(y_pred[test_labels], alpha=1, bins=100, density=True, log=True, histtype='step', label=evtype)\n",
    "phist = plt.hist(y_pred[~test_labels], alpha=1, bins=100, density=True, log=True, histtype='step', label='proton')\n",
    "plt.xlabel('Zeta')\n",
    "plt.ylabel('pdf')\n",
    "plt.legend(loc='upper center')\n",
    "plt.grid()\n",
    "plt.ylim(0.01, 100)\n",
    "if save_plots:\n",
    "    plt.savefig(plots_folder + '%s-hadron_zeta_%s_test_step1.pdf' % (evtype, model_descr_str))"
   ]
  },
  {
   "cell_type": "code",
   "execution_count": 123,
   "id": "5660c0f7",
   "metadata": {},
   "outputs": [
    {
     "data": {
      "image/png": "[encoded data removed]",
      "text/plain": [
       "<Figure size 576x432 with 1 Axes>"
      ]
     },
     "metadata": {
      "needs_background": "light"
     },
     "output_type": "display_data"
    },
    {
     "data": {
      "image/png": "[encoded data removed]",
      "text/plain": [
       "<Figure size 576x432 with 1 Axes>"
      ]
     },
     "metadata": {
      "needs_background": "light"
     },
     "output_type": "display_data"
    }
   ],
   "source": [
    "if test_train:\n",
    "    fpr_train, tpr_train, thresholds_train = roc_curve(y_train, y_pred_train)\n",
    "    roc_auc_train = auc(fpr_train, tpr_train)\n",
    "fpr, tpr, thresholds = roc_curve(y_test, y_pred)\n",
    "roc_auc = auc(fpr, tpr)\n",
    "\n",
    "if test_train:\n",
    "    plt.figure()\n",
    "    plt.loglog(fpr_train, tpr_train, label=\"ROC curve (area = %0.2f)\" % roc_auc_train)\n",
    "    plt.loglog([0.001, 1], [0.001, 1], color=\"navy\", linestyle=\"--\")\n",
    "    plt.xlim([1.e-4, 1.0])\n",
    "    #plt.ylim([0.0, 1.05])\n",
    "    plt.xlabel(\"False Positive Rate\")\n",
    "    plt.ylabel(\"True Positive Rate\")\n",
    "    plt.legend(loc=\"lower right\")\n",
    "    plt.title('Training dataset')\n",
    "    #plt.show()\n",
    "    if save_plots:\n",
    "        plt.savefig(plots_folder + 'ROC_%s_train_step1.pdf' % model_descr_str)\n",
    "    \n",
    "plt.figure()\n",
    "plt.loglog(fpr, tpr, label=\"ROC curve (area = %0.2f)\" % roc_auc)\n",
    "plt.loglog([0.001, 1], [0.001, 1], color=\"navy\", linestyle=\"--\")\n",
    "plt.xlim([1.e-4, 1.0])\n",
    "#plt.ylim([0.0, 1.05])\n",
    "plt.xlabel(\"False Positive Rate\")\n",
    "plt.ylabel(\"True Positive Rate\")\n",
    "plt.legend(loc=\"lower right\")\n",
    "#plt.show()\n",
    "if save_plots:\n",
    "    plt.savefig(plots_folder + 'ROC_%s_test_step1.pdf' % model_descr_str)"
   ]
  },
  {
   "cell_type": "code",
   "execution_count": 124,
   "id": "150f00bc",
   "metadata": {},
   "outputs": [],
   "source": [
    "# alpha = 0.6 # part 3 in case 4\n",
    "if cdict['two_step'] and (cdict['load_model'] is None or cdict['load_model'].endswith('part1')):\n",
    "    #model.loss = tf.keras.losses.BinaryCrossentropy(from_logits=False)\n",
    "    model.loss = tfa.losses.SigmoidFocalCrossEntropy(gamma=gamma, alpha=alpha)\n",
    "    # fit the model\n",
    "    history = model.fit(x=x_train, \n",
    "                        y=y_train, \n",
    "                        #epochs=epochs, \n",
    "                        epochs=epochs, \n",
    "                        validation_data=(x_test, y_test),\n",
    "                        #callbacks=[tensorboard_callback]\n",
    "                       )"
   ]
  },
  {
   "cell_type": "code",
   "execution_count": 125,
   "id": "c66432ac",
   "metadata": {},
   "outputs": [
    {
     "data": {
      "text/plain": [
       "array(['model_20220114-103214_10_epochs.h5',\n",
       "       'model_20220114-145355_20_epochs.h5',\n",
       "       'model_20220120-135551_20_epochs.h5',\n",
       "       'model_20220122-141603_10_epochs.h5', 'model_case1.h5',\n",
       "       'model_case2.h5', 'model_case21_part1.h5', 'model_case22_part1.h5',\n",
       "       'model_case2_part1.h5', 'model_case3.h5', 'model_case3_part1.h5',\n",
       "       'model_case4_part1.h5', 'model_case4_part2.h5',\n",
       "       'model_case4_part3.h5'], dtype='<U34')"
      ]
     },
     "execution_count": 125,
     "metadata": {},
     "output_type": "execute_result"
    }
   ],
   "source": [
    "np.sort(os.listdir('../models/'))"
   ]
  },
  {
   "cell_type": "code",
   "execution_count": 126,
   "id": "df609188",
   "metadata": {},
   "outputs": [],
   "source": [
    "#save_model = True\n",
    "if cdict['two_step'] and save_model and (cdict['load_model'] is None or cdict['load_model'].find('part1') > -1):\n",
    "    print('save model')\n",
    "    mdl_fn_part2 = mdl_fn.replace('.h5', '_part2.h5')\n",
    "    print(mdl_fn_part2)\n",
    "    model.save(mdl_fn_part2)\n"
   ]
  },
  {
   "cell_type": "code",
   "execution_count": 127,
   "id": "38b25650",
   "metadata": {},
   "outputs": [],
   "source": [
    "Emin = cdict['mask_dict']['true_energy']['min']\n",
    "Emax = cdict['mask_dict']['true_energy']['max']\n",
    "\n",
    "if test_train:\n",
    "    train_labels = y_train.astype(bool)\n",
    "    y_pred_train = model.predict(x_train)\n",
    "    \n",
    "test_labels = y_test.astype(bool)\n",
    "y_pred = model.predict(x_test)\n"
   ]
  },
  {
   "cell_type": "code",
   "execution_count": 142,
   "id": "d3f031b6",
   "metadata": {},
   "outputs": [],
   "source": [
    "\n",
    "if test_train:\n",
    "    fpr_train, tpr_train, thresholds_train = roc_curve(y_train, y_pred_train)\n",
    "    roc_auc_train = auc(fpr_train, tpr_train)\n",
    "fpr, tpr, thresholds = roc_curve(y_test, y_pred)\n",
    "roc_auc = auc(fpr, tpr)\n",
    "\n",
    "imax, tpr_max, fpr_max, Qmax = get_max_Q(fpr, tpr)\n",
    "thres_max = thresholds[imax]\n",
    "\n",
    "show_max_fpr = True\n",
    "if show_max_fpr:\n",
    "    fpr_show = fpr_max\n",
    "    tpr_show = tpr_max\n",
    "    Q_show = Qmax\n",
    "    thres_show = thres_max\n",
    "else:\n",
    "    fpr_show = 1.e-3\n",
    "    ind = np.argmin(np.abs(fpr - fpr_show))\n",
    "    tpr_show = tpr[ind]\n",
    "    thres_show = thresholds[ind]\n",
    "    Q_show = tpr_show / np.sqrt(fpr_show)\n"
   ]
  },
  {
   "cell_type": "code",
   "execution_count": 143,
   "id": "3dc57f39",
   "metadata": {},
   "outputs": [
    {
     "name": "stdout",
     "output_type": "stream",
     "text": [
      "984 0.21253291607831165 0.0016252173255726055 5.271940247716908 0.9800355\n"
     ]
    }
   ],
   "source": [
    "print(imax, tpr_show, fpr_show, Q_show, thres_show)"
   ]
  },
  {
   "cell_type": "code",
   "execution_count": 146,
   "id": "d04aa687",
   "metadata": {},
   "outputs": [
    {
     "name": "stdout",
     "output_type": "stream",
     "text": [
      "Save plot to file:\n",
      "../plots/electron-hadron_zeta_case22_test_step2.pdf\n"
     ]
    },
    {
     "data": {
      "image/png": "[encoded data removed]",
      "text/plain": [
       "<Figure size 576x432 with 1 Axes>"
      ]
     },
     "metadata": {
      "needs_background": "light"
     },
     "output_type": "display_data"
    },
    {
     "data": {
      "image/png": "[encoded data removed]",
      "text/plain": [
       "<Figure size 576x432 with 1 Axes>"
      ]
     },
     "metadata": {
      "needs_background": "light"
     },
     "output_type": "display_data"
    }
   ],
   "source": [
    "\n",
    "if test_train:\n",
    "    plt.figure()\n",
    "    ghist = plt.hist(y_pred_train[train_labels], alpha=1, bins=100, density=True, log=True, \n",
    "                     histtype='step', label=evtype)\n",
    "    phist = plt.hist(y_pred_train[~train_labels], alpha=1, bins=100, density=True, log=True, \n",
    "                     histtype='step', label='proton')\n",
    "    plt.xlabel('Zeta')\n",
    "    plt.ylabel('pdf')\n",
    "    plt.legend(loc='upper center')\n",
    "    plt.grid()\n",
    "    plt.ylim(0.01, 100)\n",
    "    plt.title('Training dataset')\n",
    "    if save_plots:\n",
    "        plt.savefig(plots_folder + 'gamma-hadron_zeta_%s_train_step2.pdf' % model_descr_str)\n",
    "\n",
    "\n",
    "\n",
    "\n",
    "plt.figure()\n",
    "ghist = plt.hist(y_pred[test_labels], alpha=1, bins=100, density=True, log=True, histtype='step', label=evtype)\n",
    "phist = plt.hist(y_pred[~test_labels], alpha=1, bins=100, density=True, log=True, histtype='step', label='proton')\n",
    "plt.semilogy([thres_show, thres_show], [0.01, 10.], color=\"red\", linestyle=\"--\", label='Example threshold')\n",
    "plt.xlabel(r'$\\zeta$')\n",
    "plt.ylabel('pdf')\n",
    "plt.legend(loc='upper center')\n",
    "plt.grid()\n",
    "plt.ylim(0.01, 100)\n",
    "if save_plots:\n",
    "    if publish_version:\n",
    "        fn = plots_folder + '%s-hadron_zeta_%i-%iTeV.pdf' % (evtype, Emin, Emax)\n",
    "    else:\n",
    "        fn = plots_folder + '%s-hadron_zeta_%s_test_step2.pdf' % (evtype, model_descr_str)\n",
    "    print('Save plot to file:')\n",
    "    print(fn)\n",
    "    plt.savefig(fn)"
   ]
  },
  {
   "cell_type": "code",
   "execution_count": 145,
   "id": "936ea172",
   "metadata": {},
   "outputs": [
    {
     "name": "stdout",
     "output_type": "stream",
     "text": [
      "Save plot to file:\n",
      "../plots/ROC_case22_train_step2.pdf\n",
      "Save plot to file:\n",
      "../plots/ROC_case22_test_step2.pdf\n"
     ]
    },
    {
     "data": {
      "image/png": "[encoded data removed]",
      "text/plain": [
       "<Figure size 576x432 with 1 Axes>"
      ]
     },
     "metadata": {
      "needs_background": "light"
     },
     "output_type": "display_data"
    },
    {
     "data": {
      "image/png": "[encoded data removed]",
      "text/plain": [
       "<Figure size 576x432 with 1 Axes>"
      ]
     },
     "metadata": {
      "needs_background": "light"
     },
     "output_type": "display_data"
    }
   ],
   "source": [
    "\n",
    "\n",
    "if test_train:\n",
    "    plt.figure()\n",
    "    plt.loglog(fpr_train, tpr_train, label=\"ROC curve (area = %0.2f)\" % roc_auc_train)\n",
    "    plt.loglog([0.001, 1], [0.001, 1], color=\"navy\", linestyle=\"--\")\n",
    "    plt.xlim([1.e-4, 1.0])\n",
    "    #plt.ylim([0.0, 1.05])\n",
    "    plt.xlabel(\"False Positive Rate\")\n",
    "    plt.ylabel(\"True Positive Rate\")\n",
    "    plt.legend(loc=\"lower right\")\n",
    "    plt.title('Training dataset')\n",
    "    plt.grid()\n",
    "    if save_plots:\n",
    "        fn = plots_folder + 'ROC_%s_train_step2.pdf' % model_descr_str\n",
    "        print('Save plot to file:')\n",
    "        print(fn)\n",
    "        plt.savefig(fn)\n",
    "\n",
    "\n",
    "vmin = 0.001\n",
    "xmin = 1.e-4\n",
    "plt.figure()\n",
    "if publish_version:\n",
    "    label = 'HESS-I mono, E = %i - %i TeV' % (Emin, Emax)\n",
    "else:\n",
    "    label = \"ROC curve (area = %0.2f)\" % roc_auc\n",
    "plt.loglog(fpr, tpr, label=label)\n",
    "plt.loglog([vmin, 1], [vmin, 1], color=\"navy\", linestyle=\"--\", label='Random guess')\n",
    "label = r'Example threshold $\\zeta = %.2f$' % thres_show\n",
    "plt.loglog([fpr_show, fpr_show], [vmin, tpr_show], color=\"green\", linestyle=\":\", label=label)\n",
    "plt.loglog([xmin, fpr_show], [tpr_show, tpr_show], color=\"green\", linestyle=\":\")\n",
    "plt.xlim([xmin, 1.0])\n",
    "#plt.ylim([0.0, 1.05])\n",
    "if publish_version:\n",
    "    plt.xlabel(r\"$\\epsilon_p$\")\n",
    "    if evtype == 'electron':\n",
    "        plt.ylabel(r\"$\\epsilon_e$\")\n",
    "    else:\n",
    "        plt.ylabel(r\"$\\epsilon_\\gamma$\")\n",
    "else:\n",
    "    plt.xlabel(\"False Positive Rate\")\n",
    "    plt.ylabel(\"True Positive Rate\")\n",
    "plt.legend(loc=\"lower right\")\n",
    "plt.grid()\n",
    "#plt.title()\n",
    "if save_plots:\n",
    "    if publish_version:\n",
    "        fn = plots_folder + 'ROC_%i-%iTeV.pdf' % (Emin, Emax)\n",
    "    else:\n",
    "        fn = plots_folder + 'ROC_%s_test_step2.pdf' % model_descr_str\n",
    "    print('Save plot to file:')\n",
    "    print(fn)\n",
    "    plt.savefig(fn)"
   ]
  },
  {
   "cell_type": "code",
   "execution_count": 132,
   "id": "b21f8ece",
   "metadata": {},
   "outputs": [
    {
     "data": {
      "text/plain": [
       "(0.001, 1)"
      ]
     },
     "execution_count": 132,
     "metadata": {},
     "output_type": "execute_result"
    },
    {
     "data": {
      "image/png": "[encoded data removed]",
      "text/plain": [
       "<Figure size 576x432 with 1 Axes>"
      ]
     },
     "metadata": {
      "needs_background": "light"
     },
     "output_type": "display_data"
    }
   ],
   "source": [
    "plt.semilogy(thresholds, tpr)\n",
    "plt.semilogy(thresholds, fpr)\n",
    "plt.grid()\n",
    "plt.xlim(0.5, 1)\n",
    "plt.ylim(0.001, 1)"
   ]
  },
  {
   "cell_type": "code",
   "execution_count": 133,
   "id": "a9f79760",
   "metadata": {},
   "outputs": [
    {
     "name": "stderr",
     "output_type": "stream",
     "text": [
      "/home/woody/caph/mpp228/apps/anaconda3/envs/ml/lib/python3.6/site-packages/ipykernel_launcher.py:1: RuntimeWarning: invalid value encountered in true_divide\n",
      "  \"\"\"Entry point for launching an IPython kernel.\n"
     ]
    },
    {
     "data": {
      "text/plain": [
       "[<matplotlib.lines.Line2D at 0x7fe3fc8f9e80>]"
      ]
     },
     "execution_count": 133,
     "metadata": {},
     "output_type": "execute_result"
    },
    {
     "data": {
      "image/png": "[encoded data removed]",
      "text/plain": [
       "<Figure size 576x432 with 1 Axes>"
      ]
     },
     "metadata": {
      "needs_background": "light"
     },
     "output_type": "display_data"
    }
   ],
   "source": [
    "plt.plot(thresholds, tpr/np.sqrt(fpr))"
   ]
  },
  {
   "cell_type": "code",
   "execution_count": 134,
   "id": "30c83954",
   "metadata": {},
   "outputs": [
    {
     "name": "stdout",
     "output_type": "stream",
     "text": [
      "std BDT: 3.577708763999664\n",
      "KE RF1: 11.31370849898476\n",
      "KE RF2: 16.0\n",
      "KE RF3: 18.973665961010276\n"
     ]
    }
   ],
   "source": [
    "Rg = 0.8\n",
    "Rp = 0.05\n",
    "print('std BDT:', Rg/np.sqrt(Rp))\n",
    "Rg = 0.96\n",
    "Rp = 0.0072\n",
    "print('KE RF1:', Rg/np.sqrt(Rp))\n",
    "Rg = 0.8\n",
    "Rp = 0.0025\n",
    "print('KE RF2:', Rg/np.sqrt(Rp))\n",
    "Rg = 0.6\n",
    "Rp = 0.001\n",
    "print('KE RF3:', Rg/np.sqrt(Rp))"
   ]
  },
  {
   "cell_type": "code",
   "execution_count": 135,
   "id": "7d94d5e0",
   "metadata": {},
   "outputs": [
    {
     "data": {
      "text/plain": [
       "(5.477225575051661, 17.320508075688775)"
      ]
     },
     "execution_count": 135,
     "metadata": {},
     "output_type": "execute_result"
    }
   ],
   "source": [
    "np.sqrt(30), np.sqrt(300)"
   ]
  },
  {
   "cell_type": "code",
   "execution_count": 136,
   "id": "f4559df1",
   "metadata": {},
   "outputs": [],
   "source": [
    "if 0:\n",
    "    train_labels = y_train.astype(bool)\n",
    "    y_pred = model.predict(x_train)\n",
    "    plt.figure()\n",
    "    ghist = plt.hist(y_pred[train_labels], alpha=1, bins=100, density=True, log=True, histtype='step', label=evtype)\n",
    "    phist = plt.hist(y_pred[~train_labels], alpha=1, bins=100, density=True, log=True, histtype='step', label='proton')\n",
    "    plt.xlabel('Zeta')\n",
    "    plt.ylabel('pdf')\n",
    "    plt.legend(loc='upper center')\n",
    "    plt.grid()"
   ]
  },
  {
   "cell_type": "code",
   "execution_count": 137,
   "id": "bd92f1fd",
   "metadata": {},
   "outputs": [
    {
     "data": {
      "text/plain": [
       "(array([ 1.91961791,  1.97687476,  2.21348912,  2.34324537,  2.4958998 ,\n",
       "         2.83555589,  3.20572375,  3.90032048,  4.89639058, 16.3760031 ]),\n",
       " array([0.07559113, 0.10204863, 0.10582821, 0.11338736, 0.13984441,\n",
       "        0.06803242, 0.11338669, 0.10960778, 0.03401621, 0.13228526]))"
      ]
     },
     "execution_count": 137,
     "metadata": {},
     "output_type": "execute_result"
    }
   ],
   "source": [
    "ghist[0][-10:], phist[0][-10:]"
   ]
  },
  {
   "cell_type": "code",
   "execution_count": 138,
   "id": "90590bff",
   "metadata": {},
   "outputs": [],
   "source": [
    "def e2c(bins):\n",
    "    return (bins[1:] + bins[:-1])/2."
   ]
  },
  {
   "cell_type": "code",
   "execution_count": 139,
   "id": "129aabef",
   "metadata": {},
   "outputs": [
    {
     "data": {
      "text/plain": [
       "<matplotlib.legend.Legend at 0x7fe3fc86f4e0>"
      ]
     },
     "execution_count": 139,
     "metadata": {},
     "output_type": "execute_result"
    },
    {
     "data": {
      "image/png": "[encoded data removed]",
      "text/plain": [
       "<Figure size 576x432 with 1 Axes>"
      ]
     },
     "metadata": {
      "needs_background": "light"
     },
     "output_type": "display_data"
    }
   ],
   "source": [
    "\n",
    "plt.figure()\n",
    "plt.semilogy(e2c(ghist[1]), ghist[0]/np.sum(ghist[0]), label=evtype)\n",
    "plt.semilogy(e2c(phist[1]), phist[0]/np.sum(phist[0]), label='proton')\n",
    "plt.grid()\n",
    "plt.legend()"
   ]
  },
  {
   "cell_type": "code",
   "execution_count": 140,
   "id": "1980a207",
   "metadata": {},
   "outputs": [
    {
     "data": {
      "text/plain": [
       "0.72487617"
      ]
     },
     "execution_count": 140,
     "metadata": {},
     "output_type": "execute_result"
    }
   ],
   "source": [
    "y_pred[test_labels][3][0]"
   ]
  },
  {
   "cell_type": "code",
   "execution_count": 141,
   "id": "9e6a9978",
   "metadata": {},
   "outputs": [
    {
     "ename": "OSError",
     "evalue": "SavedModel file does not exist at: ../models/model_case22.h5/{saved_model.pbtxt|saved_model.pb}",
     "output_type": "error",
     "traceback": [
      "\u001b[0;31m---------------------------------------------------------------------------\u001b[0m",
      "\u001b[0;31mOSError\u001b[0m                                   Traceback (most recent call last)",
      "\u001b[0;32m<ipython-input-141-08327cf03945>\u001b[0m in \u001b[0;36m<module>\u001b[0;34m\u001b[0m\n\u001b[1;32m      1\u001b[0m \u001b[0;32mif\u001b[0m \u001b[0msave_model\u001b[0m\u001b[0;34m:\u001b[0m\u001b[0;34m\u001b[0m\u001b[0;34m\u001b[0m\u001b[0m\n\u001b[0;32m----> 2\u001b[0;31m     \u001b[0mmodel_test\u001b[0m \u001b[0;34m=\u001b[0m \u001b[0mtf\u001b[0m\u001b[0;34m.\u001b[0m\u001b[0mkeras\u001b[0m\u001b[0;34m.\u001b[0m\u001b[0mmodels\u001b[0m\u001b[0;34m.\u001b[0m\u001b[0mload_model\u001b[0m\u001b[0;34m(\u001b[0m\u001b[0mmdl_fn\u001b[0m\u001b[0;34m)\u001b[0m\u001b[0;34m\u001b[0m\u001b[0;34m\u001b[0m\u001b[0m\n\u001b[0m\u001b[1;32m      3\u001b[0m     \u001b[0my_pred\u001b[0m \u001b[0;34m=\u001b[0m \u001b[0mmodel_test\u001b[0m\u001b[0;34m.\u001b[0m\u001b[0mpredict\u001b[0m\u001b[0;34m(\u001b[0m\u001b[0mx_test\u001b[0m\u001b[0;34m)\u001b[0m\u001b[0;34m\u001b[0m\u001b[0;34m\u001b[0m\u001b[0m\n\u001b[1;32m      4\u001b[0m     \u001b[0mplt\u001b[0m\u001b[0;34m.\u001b[0m\u001b[0mfigure\u001b[0m\u001b[0;34m(\u001b[0m\u001b[0;34m)\u001b[0m\u001b[0;34m\u001b[0m\u001b[0;34m\u001b[0m\u001b[0m\n\u001b[1;32m      5\u001b[0m     \u001b[0mplt\u001b[0m\u001b[0;34m.\u001b[0m\u001b[0mhist\u001b[0m\u001b[0;34m(\u001b[0m\u001b[0my_pred\u001b[0m\u001b[0;34m[\u001b[0m\u001b[0mtest_labels\u001b[0m\u001b[0;34m]\u001b[0m\u001b[0;34m,\u001b[0m \u001b[0malpha\u001b[0m\u001b[0;34m=\u001b[0m\u001b[0;36m0.5\u001b[0m\u001b[0;34m,\u001b[0m \u001b[0mbins\u001b[0m\u001b[0;34m=\u001b[0m\u001b[0;36m100\u001b[0m\u001b[0;34m,\u001b[0m \u001b[0mlabel\u001b[0m\u001b[0;34m=\u001b[0m\u001b[0;34m'gamma'\u001b[0m\u001b[0;34m)\u001b[0m\u001b[0;34m;\u001b[0m\u001b[0;34m\u001b[0m\u001b[0;34m\u001b[0m\u001b[0m\n",
      "\u001b[0;32m/home/woody/caph/mpp228/apps/anaconda3/envs/ml/lib/python3.6/site-packages/tensorflow/python/keras/saving/save.py\u001b[0m in \u001b[0;36mload_model\u001b[0;34m(filepath, custom_objects, compile, options)\u001b[0m\n\u001b[1;32m    204\u001b[0m         \u001b[0mfilepath\u001b[0m \u001b[0;34m=\u001b[0m \u001b[0mpath_to_string\u001b[0m\u001b[0;34m(\u001b[0m\u001b[0mfilepath\u001b[0m\u001b[0;34m)\u001b[0m\u001b[0;34m\u001b[0m\u001b[0;34m\u001b[0m\u001b[0m\n\u001b[1;32m    205\u001b[0m         \u001b[0;32mif\u001b[0m \u001b[0misinstance\u001b[0m\u001b[0;34m(\u001b[0m\u001b[0mfilepath\u001b[0m\u001b[0;34m,\u001b[0m \u001b[0mstr\u001b[0m\u001b[0;34m)\u001b[0m\u001b[0;34m:\u001b[0m\u001b[0;34m\u001b[0m\u001b[0;34m\u001b[0m\u001b[0m\n\u001b[0;32m--> 206\u001b[0;31m           \u001b[0;32mreturn\u001b[0m \u001b[0msaved_model_load\u001b[0m\u001b[0;34m.\u001b[0m\u001b[0mload\u001b[0m\u001b[0;34m(\u001b[0m\u001b[0mfilepath\u001b[0m\u001b[0;34m,\u001b[0m \u001b[0mcompile\u001b[0m\u001b[0;34m,\u001b[0m \u001b[0moptions\u001b[0m\u001b[0;34m)\u001b[0m\u001b[0;34m\u001b[0m\u001b[0;34m\u001b[0m\u001b[0m\n\u001b[0m\u001b[1;32m    207\u001b[0m \u001b[0;34m\u001b[0m\u001b[0m\n\u001b[1;32m    208\u001b[0m   raise IOError(\n",
      "\u001b[0;32m/home/woody/caph/mpp228/apps/anaconda3/envs/ml/lib/python3.6/site-packages/tensorflow/python/keras/saving/saved_model/load.py\u001b[0m in \u001b[0;36mload\u001b[0;34m(path, compile, options)\u001b[0m\n\u001b[1;32m    119\u001b[0m   \u001b[0;31m# Look for metadata file or parse the SavedModel\u001b[0m\u001b[0;34m\u001b[0m\u001b[0;34m\u001b[0m\u001b[0;34m\u001b[0m\u001b[0m\n\u001b[1;32m    120\u001b[0m   \u001b[0mmetadata\u001b[0m \u001b[0;34m=\u001b[0m \u001b[0msaved_metadata_pb2\u001b[0m\u001b[0;34m.\u001b[0m\u001b[0mSavedMetadata\u001b[0m\u001b[0;34m(\u001b[0m\u001b[0;34m)\u001b[0m\u001b[0;34m\u001b[0m\u001b[0;34m\u001b[0m\u001b[0m\n\u001b[0;32m--> 121\u001b[0;31m   \u001b[0mmeta_graph_def\u001b[0m \u001b[0;34m=\u001b[0m \u001b[0mloader_impl\u001b[0m\u001b[0;34m.\u001b[0m\u001b[0mparse_saved_model\u001b[0m\u001b[0;34m(\u001b[0m\u001b[0mpath\u001b[0m\u001b[0;34m)\u001b[0m\u001b[0;34m.\u001b[0m\u001b[0mmeta_graphs\u001b[0m\u001b[0;34m[\u001b[0m\u001b[0;36m0\u001b[0m\u001b[0;34m]\u001b[0m\u001b[0;34m\u001b[0m\u001b[0;34m\u001b[0m\u001b[0m\n\u001b[0m\u001b[1;32m    122\u001b[0m   \u001b[0mobject_graph_def\u001b[0m \u001b[0;34m=\u001b[0m \u001b[0mmeta_graph_def\u001b[0m\u001b[0;34m.\u001b[0m\u001b[0mobject_graph_def\u001b[0m\u001b[0;34m\u001b[0m\u001b[0;34m\u001b[0m\u001b[0m\n\u001b[1;32m    123\u001b[0m   \u001b[0mpath_to_metadata_pb\u001b[0m \u001b[0;34m=\u001b[0m \u001b[0mos\u001b[0m\u001b[0;34m.\u001b[0m\u001b[0mpath\u001b[0m\u001b[0;34m.\u001b[0m\u001b[0mjoin\u001b[0m\u001b[0;34m(\u001b[0m\u001b[0mpath\u001b[0m\u001b[0;34m,\u001b[0m \u001b[0mconstants\u001b[0m\u001b[0;34m.\u001b[0m\u001b[0mSAVED_METADATA_PATH\u001b[0m\u001b[0;34m)\u001b[0m\u001b[0;34m\u001b[0m\u001b[0;34m\u001b[0m\u001b[0m\n",
      "\u001b[0;32m/home/woody/caph/mpp228/apps/anaconda3/envs/ml/lib/python3.6/site-packages/tensorflow/python/saved_model/loader_impl.py\u001b[0m in \u001b[0;36mparse_saved_model\u001b[0;34m(export_dir)\u001b[0m\n\u001b[1;32m    114\u001b[0m         \u001b[0;34m\"SavedModel file does not exist at: %s%s{%s|%s}\"\u001b[0m \u001b[0;34m%\u001b[0m\u001b[0;34m\u001b[0m\u001b[0;34m\u001b[0m\u001b[0m\n\u001b[1;32m    115\u001b[0m         (export_dir, os.path.sep, constants.SAVED_MODEL_FILENAME_PBTXT,\n\u001b[0;32m--> 116\u001b[0;31m          constants.SAVED_MODEL_FILENAME_PB))\n\u001b[0m\u001b[1;32m    117\u001b[0m \u001b[0;34m\u001b[0m\u001b[0m\n\u001b[1;32m    118\u001b[0m \u001b[0;34m\u001b[0m\u001b[0m\n",
      "\u001b[0;31mOSError\u001b[0m: SavedModel file does not exist at: ../models/model_case22.h5/{saved_model.pbtxt|saved_model.pb}"
     ]
    }
   ],
   "source": [
    "if save_model:\n",
    "    model_test = tf.keras.models.load_model(mdl_fn)\n",
    "    y_pred = model_test.predict(x_test)\n",
    "    plt.figure()\n",
    "    plt.hist(y_pred[test_labels], alpha=0.5, bins=100, label='gamma');\n",
    "    plt.hist(y_pred[~test_labels], alpha=0.5, bins=100, label='proton');\n",
    "    plt.legend()"
   ]
  },
  {
   "cell_type": "code",
   "execution_count": null,
   "id": "49d5b0cc",
   "metadata": {},
   "outputs": [],
   "source": [
    "# plot gamma-like protons\n",
    "thres = 0.99\n",
    "gp_mask = (y_test == 0.) & (y_pred.T[0] > thres)\n",
    "gp_images = x_test[gp_mask,:,:,0]\n",
    "gg_mask = (y_test == 1.) & (y_pred.T[0] > thres)\n",
    "gg_images = x_test[gg_mask,:,:,0]\n",
    "ngp = sum(gp_mask)\n",
    "ngg = sum(gg_mask)\n",
    "print(ngp / ngg)"
   ]
  },
  {
   "cell_type": "code",
   "execution_count": null,
   "id": "057c8871",
   "metadata": {},
   "outputs": [],
   "source": [
    "nraw = 5\n",
    "ncol = 4\n",
    "nplot = np.minimum(nraw * ncol, ngp)\n",
    "size = 3\n",
    "fig = plt.figure(figsize=(size*ncol, size*nraw))\n",
    "plot_inds = np.random.choice(ngp, size=nplot, replace=False)\n",
    "for i, ind in enumerate(plot_inds):\n",
    "    plt.subplot(nraw, ncol, i + 1)\n",
    "    plt.imshow(gp_images[ind], cmap='gray', vmin=0)\n",
    "    plt.axis('off')\n",
    "    if i == 0:\n",
    "        plt.title('Gamma-like protons');\n",
    "#plt.suptitle('Gamma-like protons');\n",
    "fn = plots_folder + 'gamma-like_protons_%s.pdf' % model_descr_str\n",
    "print(fn)\n",
    "plt.savefig(fn)"
   ]
  },
  {
   "cell_type": "code",
   "execution_count": null,
   "id": "3ec58a6b",
   "metadata": {},
   "outputs": [],
   "source": [
    "fig = plt.figure(figsize=(size*ncol, size*nraw))\n",
    "plot_inds = np.random.choice(ngg, size=nplot, replace=False)\n",
    "for i, ind in enumerate(plot_inds):\n",
    "    plt.subplot(nraw, ncol, i + 1)\n",
    "    plt.imshow(gg_images[ind], cmap='gray', vmin=0)\n",
    "    plt.axis('off')\n",
    "    if i == 0:\n",
    "        plt.title('Gamma showers');\n",
    "#plt.suptitle('Gamma showers');\n",
    "fn = plots_folder + 'gamma_showers_%s.pdf' % model_descr_str\n",
    "print(fn)\n",
    "plt.savefig(fn)"
   ]
  },
  {
   "cell_type": "code",
   "execution_count": null,
   "id": "e1890b9b",
   "metadata": {},
   "outputs": [],
   "source": [
    "thress = np.arange(0.9, 1., 0.002)\n",
    "sep = np.zeros_like(thress)\n",
    "Rgs = np.zeros_like(thress)\n",
    "Rps = np.zeros_like(thress)\n",
    "ngamma = np.sum(test_labels)\n",
    "nproton = np.sum(~test_labels)\n",
    "for i, thres in enumerate(thress):\n",
    "    sep[i] = np.sum(y_pred[~test_labels] > thres) / np.sum(y_pred[test_labels] > thres)\n",
    "    Rgs[i] = np.sum(y_pred[test_labels] > thres) / ngamma\n",
    "    Rps[i] = np.sum(y_pred[~test_labels] > thres) / nproton\n",
    "    keep = Rgs"
   ]
  },
  {
   "cell_type": "code",
   "execution_count": null,
   "id": "72ca9bed",
   "metadata": {},
   "outputs": [],
   "source": [
    "if 0:\n",
    "    import plot_utils\n",
    "    plot_utils.setup_figure_pars()"
   ]
  },
  {
   "cell_type": "code",
   "execution_count": null,
   "id": "e145da45",
   "metadata": {},
   "outputs": [],
   "source": [
    "if 0:\n",
    "    importlib.reload(plot_utils)\n",
    "    plot_utils.setup_figure_pars()"
   ]
  },
  {
   "cell_type": "code",
   "execution_count": null,
   "id": "269cc254",
   "metadata": {},
   "outputs": [],
   "source": [
    "plt.figure()\n",
    "plt.semilogy(thress, Rgs, label='$R_\\gamma = \\gamma_{out}\\ /\\ \\gamma_{in}$')\n",
    "plt.semilogy(thress, Rps, label='$R_p = p_{out}\\ /\\ p_{in}$')\n",
    "#plt.semilogy(thress, sep, ls='--', label='$R_p\\ /\\ R_\\gamma$')\n",
    "plt.xlabel('Zeta threshold')\n",
    "plt.ylabel('Fraction')\n",
    "plt.ylim(0, 1)\n",
    "plt.legend()\n",
    "plt.grid()"
   ]
  },
  {
   "cell_type": "code",
   "execution_count": null,
   "id": "e7d193d5",
   "metadata": {},
   "outputs": [],
   "source": [
    "print(thress)\n",
    "print(Rgs)\n",
    "print(Rps)"
   ]
  },
  {
   "cell_type": "code",
   "execution_count": null,
   "id": "ad8f8044",
   "metadata": {},
   "outputs": [],
   "source": [
    "#plt.hist(pars_dict['hillas_intensity'].flatten(), bins=np.arange(0, 1000, 50));"
   ]
  },
  {
   "cell_type": "code",
   "execution_count": null,
   "id": "1a5fff05",
   "metadata": {},
   "outputs": [],
   "source": [
    "#plt.hist(np.log10(pars_dict['true_energy'].flatten()), bins=np.linspace(-1, 3, 40));"
   ]
  },
  {
   "cell_type": "code",
   "execution_count": null,
   "id": "54c0bcf7",
   "metadata": {},
   "outputs": [],
   "source": [
    "npix_signal = np.sum(np.heaviside(images[mask], 0.), axis=(1,2))"
   ]
  },
  {
   "cell_type": "code",
   "execution_count": null,
   "id": "c72b430f",
   "metadata": {},
   "outputs": [],
   "source": [
    "#npix_signal_crop = np.sum(np.heaviside(cropped_images[mask], 0.), axis=(1,2))"
   ]
  },
  {
   "cell_type": "code",
   "execution_count": null,
   "id": "73307348",
   "metadata": {},
   "outputs": [],
   "source": [
    "plt.hist(npix_signal, bins=np.arange(0,1000, 10));"
   ]
  },
  {
   "cell_type": "code",
   "execution_count": null,
   "id": "840f7713",
   "metadata": {},
   "outputs": [],
   "source": [
    "#plt.hist(npix_signal_crop, bins=np.arange(0,1000, 5));"
   ]
  },
  {
   "cell_type": "code",
   "execution_count": null,
   "id": "3eb7e337",
   "metadata": {},
   "outputs": [],
   "source": [
    "# https://www.cta-observatory.org/wp-content/uploads/2019/12/CTA-Specifications_v08_formatted.pdf\n",
    "# signal / background\n",
    "F_e = 1.e-4 # EdN/dE (1/m^2 s sr) -> 100 GeV^2 / m^2 s sr (@1 TeV)\n",
    "F_p = 1.e-1 # 1/m^2 s sr\n",
    "#Om = np.deg2rad(1.5)**2 * np.pi # LST\n",
    "Om = np.deg2rad(3)**2 * np.pi # MST\n",
    "A = 1.e5 # m^2\n",
    "t = 1000 * 3600 # 1000 hours (at 1 TeV)\n",
    "nbins_per_dec = 6\n",
    "def dEoE(bins_per_dec):\n",
    "    f = 10**(1./(2. * bins_per_dec))\n",
    "    return (f - 1./f)\n",
    "\n",
    "zeta = 0.95\n",
    "ind = np.argmin((thress - zeta)**2)\n",
    "if 1:\n",
    "    # standard BDT rejection\n",
    "    rej_g = 0.8\n",
    "    rej_p = 0.05\n",
    "    sep0 = rej_p / rej_g\n",
    "elif 0:\n",
    "    rej_g = keep[ind]\n",
    "    #sep0 = sep[ind]\n",
    "    sep0 = 0.01\n",
    "    rej_p = keep[ind] * sep0\n",
    "\n",
    "N_e = rej_g * F_e * Om * A * t * dEoE(nbins_per_dec)\n",
    "N_p = rej_p * F_p * Om * A * t * dEoE(nbins_per_dec)\n",
    "print(N_e, N_p, np.sqrt(N_p), sep0)\n",
    "print(N_e / np.sqrt(N_p))"
   ]
  },
  {
   "cell_type": "code",
   "execution_count": null,
   "id": "4750de4d",
   "metadata": {},
   "outputs": [],
   "source": [
    "print(rej_g, rej_p,  dEoE(nbins_per_dec))\n",
    "print(N_e/rej_g, N_p/rej_p)"
   ]
  },
  {
   "cell_type": "code",
   "execution_count": null,
   "id": "ab674a09",
   "metadata": {},
   "outputs": [],
   "source": [
    "Es = np.logspace(-1, 3, nbins_per_dec * 4 + 1)"
   ]
  },
  {
   "cell_type": "code",
   "execution_count": null,
   "id": "4dfa27b6",
   "metadata": {},
   "outputs": [],
   "source": [
    "Nes = N_e * Es**(-2.3)\n",
    "Nps = N_p * Es**(-1.7)\n",
    "plt.rcParams['legend.fontsize'] = 12\n",
    "plt.figure()\n",
    "plt.loglog(Es, Nes / (np.sqrt(Nps) * np.sqrt(0.1)/np.sqrt(sep0)), label='p/gamma = 10%')\n",
    "plt.loglog(Es, Nes / np.sqrt(Nps), label='p/gamma = %i' % (sep0 * 100))\n",
    "plt.loglog(Es, Nes / (np.sqrt(Nps) * np.sqrt(0.001)/np.sqrt(sep0)), label='p/gamma = 0.1%')\n",
    "Nes3 = Nes * dEoE(3) / dEoE(nbins_per_dec)\n",
    "Nps3 = Nps * dEoE(3) / dEoE(nbins_per_dec)\n",
    "plt.loglog(Es, Nes3 / np.sqrt(Nps3), ls=':', label='p/g = 1%, 3 bins/dec')\n",
    "plt.grid()\n",
    "plt.xlabel('E (TeV)')\n",
    "plt.ylabel('significance')\n",
    "plt.legend(loc='upper right')\n",
    "#plt.ylim(1.e-4, 1.e6)"
   ]
  },
  {
   "cell_type": "code",
   "execution_count": null,
   "id": "a5ca6308",
   "metadata": {},
   "outputs": [],
   "source": []
  }
 ],
 "metadata": {
  "kernelspec": {
   "display_name": "Python 3",
   "language": "python",
   "name": "python3"
  },
  "language_info": {
   "codemirror_mode": {
    "name": "ipython",
    "version": 3
   },
   "file_extension": ".py",
   "mimetype": "text/x-python",
   "name": "python",
   "nbconvert_exporter": "python",
   "pygments_lexer": "ipython3",
   "version": "3.6.9"
  }
 },
 "nbformat": 4,
 "nbformat_minor": 5
}
