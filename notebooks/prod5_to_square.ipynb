{
 "cells": [
  {
   "cell_type": "code",
   "execution_count": 1,
   "id": "1ab313ca",
   "metadata": {},
   "outputs": [],
   "source": [
    "# conda activate dl1dh_s1\n",
    "import numpy as np\n",
    "import matplotlib.pyplot as plt\n",
    "import os\n",
    "import h5py\n",
    "import time\n",
    "\n",
    "from dl1_data_handler.reader import DL1DataReaderSTAGE1, DL1DataReaderDL1DH"
   ]
  },
  {
   "cell_type": "code",
   "execution_count": 69,
   "id": "0588d49c",
   "metadata": {},
   "outputs": [],
   "source": [
    "# example derived from /home/woody/caph/mpp228/ML/CTA/dl1-data-handler_stage1/notebooks/dl1reading_stage1.ipynb"
   ]
  },
  {
   "cell_type": "code",
   "execution_count": 108,
   "id": "c227a171",
   "metadata": {},
   "outputs": [
    {
     "name": "stdout",
     "output_type": "stream",
     "text": [
      "50000\n",
      "/home/saturn/caph/mpp228/CTA_data/Prod5_GRID/Prod5_square_images/proton_50000_images.h5\n",
      "True\n",
      "['image'] ['morphology_num_pixels', 'morphology_num_medium_islands', 'morphology_num_large_islands'] []\n"
     ]
    }
   ],
   "source": [
    "event_type = 'proton' # 'proton', 'gamma-diffuse'\n",
    "evt = event_type.split('-')[0]\n",
    "\n",
    "#n_events = 1000 #10**4\n",
    "n_events = 5*10**4 #10**4\n",
    "print(n_events)\n",
    "\n",
    "folder = '/home/saturn/caph/mpp228/CTA_data/Prod5_GRID/'\n",
    "folder_in = folder + 'Prod5_Paranal_AdvancedBaseline_NSB1x_%s_North_20deg_ctapipe_v0.10.5_DL1/' % event_type\n",
    "folder_out = folder + 'Prod5_square_images/'\n",
    "if not os.path.isdir(folder_out):\n",
    "    os.mkdir(folder_out)\n",
    "fn_out = folder_out + '%s_%i_images.h5' % (event_type, n_events)\n",
    "print(fn_out)\n",
    "\n",
    "update = True # if Ture, the file will be updated, otherwise it will be created or replaced\n",
    "channels_list_all = ['image', 'image_mask']\n",
    "pars_list_all = ['hillas_intensity', 'hillas_x', 'hillas_y', 'hillas_width', 'hillas_length',\n",
    "            'hillas_psi', 'hillas_skewness', 'hillas_kurtosis', 'hillas_r', 'hillas_phi',\n",
    "            'morphology_num_pixels', 'morphology_num_medium_islands', 'morphology_num_large_islands']\n",
    "mc_info_list_all = [\"true_energy\", \"true_alt\", \"true_az\"]\n",
    "\n",
    "if update and os.path.isfile(fn_out):\n",
    "    # the file will be updated\n",
    "    # fields to update\n",
    "    channels_list = ['image'] # there should be at least one entry here for the reader\n",
    "    pars_list = ['morphology_num_pixels', 'morphology_num_medium_islands', 'morphology_num_large_islands']\n",
    "    mc_info_list = []\n",
    "    # add fields which are not in the file\n",
    "    with h5py.File(fn_out, 'a') as h5_out:\n",
    "        for key in channels_list_all:\n",
    "            if key not in h5_out.keys() and key not in channels_list:\n",
    "                channels_list.append(key)\n",
    "        for key in pars_list_all:\n",
    "            if key not in h5_out.keys() and key not in pars_list:\n",
    "                pars_list.append(key)\n",
    "        for key in mc_info_list_all:\n",
    "            if key not in h5_out.keys() and key not in mc_info_list:\n",
    "                mc_info_list.append(key)\n",
    "else:\n",
    "    # the file will created or replaced\n",
    "    channels_list = channels_list_all\n",
    "    pars_list = pars_list_all\n",
    "    mc_info_list = mc_info_list_all\n",
    "\n",
    "print(os.path.isfile(fn_out))\n",
    "print(channels_list, pars_list, mc_info_list)\n",
    "\n",
    "def fn2reader(fn):\n",
    "    return DL1DataReaderSTAGE1([fn],\n",
    "                             mode='mono',\n",
    "                             #example_identifiers_file=\"./examples.h5\",\n",
    "                             selected_telescope_types=[\"LST_LST_LSTCam\"],\n",
    "                             selected_telescope_ids={\"LST_LST_LSTCam\": [1]},\n",
    "                             #image_channels = ['image', 'peak_time', 'image_mask'],\n",
    "                             image_channels=channels_list,\n",
    "                             parameter_list=pars_list,\n",
    "                             event_info=mc_info_list)"
   ]
  },
  {
   "cell_type": "code",
   "execution_count": 109,
   "id": "4755721c",
   "metadata": {},
   "outputs": [],
   "source": [
    "out_dict = {}\n",
    "for key in mc_info_list:\n",
    "    out_dict[key] = np.zeros(n_events)\n",
    "for key in pars_list:\n",
    "    out_dict[key] = np.zeros(n_events)"
   ]
  },
  {
   "cell_type": "code",
   "execution_count": 110,
   "id": "e9cb69ac",
   "metadata": {},
   "outputs": [
    {
     "name": "stdout",
     "output_type": "stream",
     "text": [
      "1 files, 193 events, 1.70 s to read, 1.99 s past\n",
      "2 files, 381 events, 3.38 s to read, 3.94 s past\n",
      "3 files, 561 events, 5.09 s to read, 5.93 s past\n",
      "4 files, 761 events, 6.92 s to read, 8.07 s past\n",
      "5 files, 955 events, 8.60 s to read, 10.07 s past\n",
      "6 files, 1153 events, 10.29 s to read, 12.18 s past\n",
      "7 files, 1342 events, 11.99 s to read, 14.18 s past\n",
      "8 files, 1518 events, 13.92 s to read, 16.37 s past\n",
      "9 files, 1729 events, 15.43 s to read, 18.22 s past\n",
      "10 files, 1947 events, 17.04 s to read, 20.17 s past\n",
      "11 files, 2120 events, 18.74 s to read, 22.13 s past\n",
      "12 files, 2323 events, 20.25 s to read, 23.95 s past\n",
      "13 files, 2526 events, 21.84 s to read, 25.85 s past\n",
      "14 files, 2735 events, 23.40 s to read, 27.72 s past\n",
      "15 files, 2928 events, 25.23 s to read, 29.90 s past\n",
      "16 files, 3137 events, 26.89 s to read, 31.89 s past\n",
      "17 files, 3340 events, 31.40 s to read, 36.75 s past\n",
      "18 files, 3563 events, 33.18 s to read, 38.85 s past\n",
      "19 files, 3743 events, 34.93 s to read, 40.88 s past\n",
      "20 files, 3916 events, 36.51 s to read, 42.73 s past\n",
      "21 files, 4124 events, 38.18 s to read, 44.72 s past\n",
      "22 files, 4305 events, 39.90 s to read, 46.79 s past\n",
      "23 files, 4518 events, 41.51 s to read, 48.73 s past\n",
      "24 files, 4724 events, 43.32 s to read, 50.94 s past\n",
      "25 files, 4895 events, 45.03 s to read, 52.96 s past\n",
      "26 files, 5113 events, 47.13 s to read, 55.45 s past\n",
      "27 files, 5278 events, 48.70 s to read, 57.29 s past\n",
      "28 files, 5461 events, 50.41 s to read, 59.27 s past\n",
      "29 files, 5642 events, 51.94 s to read, 61.07 s past\n",
      "30 files, 5839 events, 53.52 s to read, 62.96 s past\n",
      "31 files, 6020 events, 55.13 s to read, 64.86 s past\n",
      "32 files, 6202 events, 56.78 s to read, 66.91 s past\n",
      "33 files, 6417 events, 58.46 s to read, 69.04 s past\n",
      "34 files, 6587 events, 60.19 s to read, 71.02 s past\n",
      "35 files, 6764 events, 61.82 s to read, 72.96 s past\n",
      "36 files, 6949 events, 63.77 s to read, 75.21 s past\n",
      "37 files, 7155 events, 65.55 s to read, 77.39 s past\n",
      "38 files, 7365 events, 67.22 s to read, 79.41 s past\n",
      "39 files, 7540 events, 69.17 s to read, 81.63 s past\n",
      "40 files, 7726 events, 71.03 s to read, 83.75 s past\n",
      "41 files, 7931 events, 73.05 s to read, 86.21 s past\n",
      "42 files, 8123 events, 74.90 s to read, 88.42 s past\n",
      "43 files, 8312 events, 76.43 s to read, 90.24 s past\n",
      "44 files, 8506 events, 78.00 s to read, 92.10 s past\n",
      "45 files, 8678 events, 79.53 s to read, 93.89 s past\n",
      "46 files, 8865 events, 80.98 s to read, 95.74 s past\n",
      "47 files, 9073 events, 82.51 s to read, 97.56 s past\n",
      "48 files, 9287 events, 84.04 s to read, 99.52 s past\n",
      "49 files, 9485 events, 85.79 s to read, 101.65 s past\n",
      "50 files, 9690 events, 87.66 s to read, 103.81 s past\n",
      "51 files, 9896 events, 89.16 s to read, 105.63 s past\n",
      "52 files, 10041 events, 90.91 s to read, 107.65 s past\n",
      "53 files, 10226 events, 92.68 s to read, 109.71 s past\n",
      "54 files, 10422 events, 94.25 s to read, 111.58 s past\n",
      "55 files, 10625 events, 96.30 s to read, 113.93 s past\n",
      "56 files, 10842 events, 97.81 s to read, 115.75 s past\n",
      "57 files, 11021 events, 99.53 s to read, 117.84 s past\n",
      "58 files, 11211 events, 101.17 s to read, 119.77 s past\n",
      "59 files, 11431 events, 102.70 s to read, 121.63 s past\n",
      "60 files, 11634 events, 104.22 s to read, 123.44 s past\n",
      "61 files, 11822 events, 105.77 s to read, 125.28 s past\n",
      "62 files, 11961 events, 107.26 s to read, 126.97 s past\n",
      "63 files, 12162 events, 108.83 s to read, 128.85 s past\n",
      "64 files, 12346 events, 110.41 s to read, 130.71 s past\n",
      "65 files, 12541 events, 111.89 s to read, 132.48 s past\n",
      "66 files, 12765 events, 113.40 s to read, 134.34 s past\n",
      "67 files, 12974 events, 115.00 s to read, 136.27 s past\n",
      "68 files, 13169 events, 116.65 s to read, 138.26 s past\n",
      "69 files, 13346 events, 118.19 s to read, 140.07 s past\n",
      "70 files, 13511 events, 119.73 s to read, 141.87 s past\n",
      "71 files, 13693 events, 121.29 s to read, 143.70 s past\n",
      "72 files, 13899 events, 123.13 s to read, 145.85 s past\n",
      "73 files, 14103 events, 124.67 s to read, 147.70 s past\n",
      "74 files, 14278 events, 126.19 s to read, 149.48 s past\n",
      "75 files, 14464 events, 127.67 s to read, 151.24 s past\n",
      "76 files, 14666 events, 131.55 s to read, 155.42 s past\n",
      "77 files, 14835 events, 133.05 s to read, 157.19 s past\n",
      "78 files, 15014 events, 134.63 s to read, 159.04 s past\n",
      "79 files, 15205 events, 136.28 s to read, 160.99 s past\n",
      "80 files, 15418 events, 137.82 s to read, 162.84 s past\n",
      "81 files, 15629 events, 139.34 s to read, 164.69 s past\n",
      "82 files, 15830 events, 141.08 s to read, 166.74 s past\n",
      "83 files, 15998 events, 142.62 s to read, 168.53 s past\n",
      "84 files, 16191 events, 144.16 s to read, 170.36 s past\n",
      "85 files, 16381 events, 145.64 s to read, 172.13 s past\n",
      "86 files, 16575 events, 147.13 s to read, 173.90 s past\n",
      "87 files, 16790 events, 148.63 s to read, 175.71 s past\n",
      "88 files, 16979 events, 150.10 s to read, 177.47 s past\n",
      "89 files, 17174 events, 151.65 s to read, 179.30 s past\n",
      "90 files, 17365 events, 153.21 s to read, 181.16 s past\n",
      "91 files, 17564 events, 154.97 s to read, 183.30 s past\n",
      "92 files, 17769 events, 156.55 s to read, 185.20 s past\n",
      "93 files, 17925 events, 158.13 s to read, 187.01 s past\n",
      "94 files, 18135 events, 159.68 s to read, 188.89 s past\n",
      "95 files, 18354 events, 161.25 s to read, 190.81 s past\n",
      "96 files, 18541 events, 163.01 s to read, 192.85 s past\n",
      "97 files, 18730 events, 164.58 s to read, 194.72 s past\n",
      "98 files, 18918 events, 166.22 s to read, 196.65 s past\n",
      "99 files, 19100 events, 167.83 s to read, 198.54 s past\n",
      "100 files, 19293 events, 169.45 s to read, 200.46 s past\n",
      "101 files, 19476 events, 171.02 s to read, 202.30 s past\n",
      "102 files, 19662 events, 172.72 s to read, 204.27 s past\n",
      "103 files, 19843 events, 174.28 s to read, 206.12 s past\n",
      "104 files, 20048 events, 175.86 s to read, 208.01 s past\n",
      "105 files, 20244 events, 177.43 s to read, 209.89 s past\n",
      "106 files, 20454 events, 179.02 s to read, 211.81 s past\n",
      "107 files, 20639 events, 180.59 s to read, 213.66 s past\n",
      "108 files, 20856 events, 182.15 s to read, 215.56 s past\n",
      "109 files, 21051 events, 183.72 s to read, 217.43 s past\n",
      "110 files, 21279 events, 185.29 s to read, 219.34 s past\n",
      "111 files, 21508 events, 186.86 s to read, 221.27 s past\n",
      "112 files, 21693 events, 188.42 s to read, 223.12 s past\n",
      "113 files, 21886 events, 189.94 s to read, 224.92 s past\n",
      "114 files, 22078 events, 191.59 s to read, 226.85 s past\n",
      "115 files, 22262 events, 193.14 s to read, 228.67 s past\n",
      "116 files, 22465 events, 194.66 s to read, 230.48 s past\n",
      "117 files, 22652 events, 196.17 s to read, 232.26 s past\n",
      "118 files, 22822 events, 197.62 s to read, 233.95 s past\n",
      "119 files, 23017 events, 199.09 s to read, 235.71 s past\n",
      "120 files, 23223 events, 200.59 s to read, 237.53 s past\n",
      "121 files, 23428 events, 202.18 s to read, 239.41 s past\n",
      "122 files, 23653 events, 203.83 s to read, 241.41 s past\n",
      "123 files, 23867 events, 205.41 s to read, 243.32 s past\n",
      "124 files, 24072 events, 207.03 s to read, 245.25 s past\n",
      "125 files, 24273 events, 208.58 s to read, 247.18 s past\n",
      "126 files, 24459 events, 210.14 s to read, 249.02 s past\n",
      "127 files, 24635 events, 211.66 s to read, 250.80 s past\n",
      "128 files, 24819 events, 213.33 s to read, 252.76 s past\n",
      "129 files, 25003 events, 214.99 s to read, 254.75 s past\n",
      "130 files, 25224 events, 216.69 s to read, 256.77 s past\n",
      "131 files, 25424 events, 218.15 s to read, 258.53 s past\n",
      "132 files, 25630 events, 219.67 s to read, 260.36 s past\n",
      "133 files, 25812 events, 221.19 s to read, 262.15 s past\n",
      "134 files, 25986 events, 222.69 s to read, 263.91 s past\n",
      "135 files, 26166 events, 224.17 s to read, 265.65 s past\n",
      "136 files, 26347 events, 225.66 s to read, 267.42 s past\n",
      "137 files, 26531 events, 227.22 s to read, 269.26 s past\n",
      "138 files, 26724 events, 228.71 s to read, 271.03 s past\n",
      "139 files, 26922 events, 230.22 s to read, 272.83 s past\n",
      "140 files, 27127 events, 231.70 s to read, 274.61 s past\n",
      "141 files, 27300 events, 233.16 s to read, 276.33 s past\n",
      "142 files, 27483 events, 234.63 s to read, 278.06 s past\n",
      "143 files, 27680 events, 236.10 s to read, 279.83 s past\n",
      "144 files, 27878 events, 237.57 s to read, 281.59 s past\n",
      "145 files, 28095 events, 239.04 s to read, 283.38 s past\n",
      "146 files, 28282 events, 240.58 s to read, 285.19 s past\n",
      "147 files, 28467 events, 242.04 s to read, 286.93 s past\n",
      "148 files, 28653 events, 246.13 s to read, 291.36 s past\n",
      "149 files, 28846 events, 247.61 s to read, 293.13 s past\n"
     ]
    },
    {
     "name": "stdout",
     "output_type": "stream",
     "text": [
      "150 files, 29028 events, 249.09 s to read, 294.87 s past\n",
      "151 files, 29197 events, 250.55 s to read, 296.57 s past\n",
      "152 files, 29403 events, 252.01 s to read, 298.33 s past\n",
      "153 files, 29616 events, 253.47 s to read, 300.11 s past\n",
      "154 files, 29832 events, 254.94 s to read, 301.89 s past\n",
      "155 files, 30029 events, 256.39 s to read, 303.63 s past\n",
      "156 files, 30229 events, 257.86 s to read, 305.40 s past\n",
      "157 files, 30430 events, 259.35 s to read, 307.19 s past\n",
      "158 files, 30629 events, 260.81 s to read, 308.93 s past\n",
      "159 files, 30831 events, 262.27 s to read, 310.69 s past\n",
      "160 files, 31026 events, 263.74 s to read, 312.44 s past\n",
      "161 files, 31218 events, 265.21 s to read, 314.19 s past\n",
      "162 files, 31455 events, 266.66 s to read, 315.99 s past\n",
      "163 files, 31666 events, 268.12 s to read, 317.76 s past\n",
      "164 files, 31858 events, 269.59 s to read, 319.51 s past\n",
      "165 files, 32060 events, 271.06 s to read, 321.29 s past\n",
      "166 files, 32273 events, 272.52 s to read, 323.06 s past\n",
      "167 files, 32450 events, 273.98 s to read, 324.78 s past\n",
      "168 files, 32683 events, 275.48 s to read, 326.63 s past\n",
      "169 files, 32896 events, 276.93 s to read, 328.40 s past\n",
      "170 files, 33101 events, 278.39 s to read, 330.16 s past\n",
      "171 files, 33264 events, 279.86 s to read, 331.87 s past\n",
      "172 files, 33493 events, 281.31 s to read, 333.66 s past\n",
      "173 files, 33663 events, 282.78 s to read, 335.39 s past\n",
      "174 files, 33887 events, 284.33 s to read, 337.27 s past\n",
      "175 files, 34068 events, 285.84 s to read, 339.04 s past\n",
      "176 files, 34270 events, 287.33 s to read, 340.83 s past\n",
      "177 files, 34450 events, 288.80 s to read, 342.57 s past\n",
      "178 files, 34632 events, 290.27 s to read, 344.31 s past\n",
      "179 files, 34838 events, 291.75 s to read, 346.08 s past\n",
      "180 files, 35025 events, 293.22 s to read, 347.83 s past\n",
      "181 files, 35234 events, 294.69 s to read, 349.61 s past\n",
      "182 files, 35448 events, 296.16 s to read, 351.40 s past\n",
      "183 files, 35640 events, 297.66 s to read, 353.18 s past\n",
      "184 files, 35819 events, 299.17 s to read, 354.96 s past\n",
      "185 files, 36027 events, 300.68 s to read, 356.78 s past\n",
      "186 files, 36211 events, 302.18 s to read, 358.55 s past\n",
      "187 files, 36384 events, 303.68 s to read, 360.31 s past\n",
      "188 files, 36573 events, 305.16 s to read, 362.06 s past\n",
      "189 files, 36768 events, 306.67 s to read, 363.87 s past\n",
      "190 files, 36975 events, 308.18 s to read, 365.69 s past\n",
      "191 files, 37184 events, 309.75 s to read, 367.57 s past\n",
      "192 files, 37371 events, 311.25 s to read, 369.36 s past\n",
      "193 files, 37549 events, 312.77 s to read, 371.16 s past\n",
      "194 files, 37752 events, 314.29 s to read, 372.98 s past\n",
      "195 files, 37943 events, 315.78 s to read, 374.75 s past\n",
      "196 files, 38118 events, 317.30 s to read, 376.53 s past\n",
      "197 files, 38310 events, 318.81 s to read, 378.33 s past\n",
      "198 files, 38512 events, 320.30 s to read, 380.12 s past\n",
      "199 files, 38692 events, 321.83 s to read, 381.92 s past\n",
      "200 files, 38884 events, 323.35 s to read, 383.73 s past\n",
      "201 files, 39080 events, 324.85 s to read, 385.51 s past\n",
      "202 files, 39266 events, 326.34 s to read, 387.29 s past\n",
      "203 files, 39465 events, 327.87 s to read, 389.17 s past\n",
      "204 files, 39656 events, 329.36 s to read, 390.94 s past\n",
      "205 files, 39849 events, 330.84 s to read, 392.71 s past\n",
      "206 files, 40045 events, 332.36 s to read, 394.52 s past\n",
      "207 files, 40274 events, 333.86 s to read, 396.37 s past\n",
      "208 files, 40475 events, 335.39 s to read, 398.20 s past\n",
      "209 files, 40638 events, 336.89 s to read, 399.94 s past\n",
      "210 files, 40852 events, 338.39 s to read, 401.77 s past\n",
      "211 files, 41036 events, 339.90 s to read, 403.55 s past\n",
      "212 files, 41222 events, 341.44 s to read, 405.38 s past\n",
      "213 files, 41415 events, 342.95 s to read, 407.17 s past\n",
      "214 files, 41612 events, 344.44 s to read, 408.97 s past\n",
      "215 files, 41791 events, 345.94 s to read, 410.72 s past\n",
      "216 files, 41997 events, 347.52 s to read, 412.61 s past\n",
      "217 files, 42174 events, 349.02 s to read, 414.37 s past\n",
      "218 files, 42362 events, 350.53 s to read, 416.16 s past\n",
      "219 files, 42531 events, 352.01 s to read, 417.90 s past\n",
      "220 files, 42713 events, 353.51 s to read, 419.67 s past\n",
      "221 files, 42887 events, 355.02 s to read, 421.44 s past\n",
      "222 files, 43087 events, 356.51 s to read, 423.23 s past\n",
      "223 files, 43264 events, 358.02 s to read, 425.01 s past\n",
      "224 files, 43449 events, 359.55 s to read, 426.81 s past\n",
      "225 files, 43660 events, 361.06 s to read, 428.62 s past\n",
      "226 files, 43845 events, 362.54 s to read, 430.38 s past\n",
      "227 files, 44048 events, 364.03 s to read, 432.18 s past\n",
      "228 files, 44236 events, 365.54 s to read, 433.97 s past\n",
      "229 files, 44422 events, 369.94 s to read, 438.65 s past\n",
      "230 files, 44627 events, 371.48 s to read, 440.49 s past\n",
      "231 files, 44828 events, 372.96 s to read, 442.27 s past\n",
      "232 files, 45019 events, 374.46 s to read, 444.05 s past\n",
      "233 files, 45201 events, 375.96 s to read, 445.82 s past\n",
      "234 files, 45385 events, 377.43 s to read, 447.57 s past\n",
      "235 files, 45570 events, 378.95 s to read, 449.36 s past\n",
      "236 files, 45768 events, 380.45 s to read, 451.16 s past\n",
      "237 files, 45935 events, 381.95 s to read, 452.90 s past\n",
      "238 files, 46097 events, 383.43 s to read, 454.63 s past\n",
      "239 files, 46300 events, 384.93 s to read, 456.43 s past\n",
      "240 files, 46517 events, 386.42 s to read, 458.25 s past\n",
      "241 files, 46678 events, 387.90 s to read, 459.96 s past\n",
      "242 files, 46869 events, 389.40 s to read, 461.74 s past\n",
      "243 files, 47076 events, 390.89 s to read, 463.54 s past\n",
      "244 files, 47286 events, 392.39 s to read, 465.34 s past\n",
      "245 files, 47499 events, 393.87 s to read, 467.14 s past\n",
      "246 files, 47687 events, 395.35 s to read, 468.90 s past\n",
      "247 files, 47896 events, 396.84 s to read, 470.69 s past\n",
      "248 files, 48090 events, 398.30 s to read, 472.43 s past\n",
      "249 files, 48288 events, 399.76 s to read, 474.18 s past\n",
      "250 files, 48476 events, 401.21 s to read, 475.90 s past\n",
      "251 files, 48673 events, 402.67 s to read, 477.65 s past\n",
      "252 files, 48837 events, 404.12 s to read, 479.34 s past\n",
      "253 files, 49029 events, 405.60 s to read, 481.10 s past\n",
      "254 files, 49216 events, 407.09 s to read, 482.87 s past\n",
      "255 files, 49387 events, 408.56 s to read, 484.59 s past\n",
      "256 files, 49582 events, 410.05 s to read, 486.36 s past\n",
      "257 files, 49783 events, 411.61 s to read, 488.23 s past\n",
      "258 files, 49977 events, 413.08 s to read, 489.97 s past\n",
      "259 files, 50167 events, 414.57 s to read, 491.50 s past\n",
      "CPU times: user 7min 17s, sys: 53.9 s, total: 8min 11s\n",
      "Wall time: 8min 11s\n"
     ]
    }
   ],
   "source": [
    "%%time\n",
    "fns = os.listdir(folder_in)\n",
    "fns = [fn for fn in fns if fn.endswith('h5')]\n",
    "t0 = time.time()\n",
    "t_read = 0.\n",
    "\n",
    "i = 0\n",
    "nout = 0\n",
    "while nout < n_events:\n",
    "    fn = folder_in + fns[i]\n",
    "    t_read0 = time.time()\n",
    "    reader = fn2reader(fn)\n",
    "    t_read += time.time() - t_read0\n",
    "    if i == 0:\n",
    "        im_dims = reader[0][0].shape[:2]\n",
    "        for key in channels_list:\n",
    "            out_dict[key] = np.zeros((n_events, im_dims[0], im_dims[1]))\n",
    "    for k in range(len(reader)):\n",
    "        if nout + k == n_events:\n",
    "            break\n",
    "        #out_dict['images'][nout + k] = reader[k][0][:,:,0]\n",
    "        if channels_list:\n",
    "            images = reader[k][0][:]\n",
    "        if pars_list:\n",
    "            pars = reader[k][1][:]\n",
    "        if mc_info_list:\n",
    "            mc_pars = reader[k][2:2+len(mc_info_list)]\n",
    "        for m, key in enumerate(channels_list):\n",
    "            out_dict[key][nout + k] = images[:,:,m]\n",
    "        for m, key in enumerate(pars_list):\n",
    "            out_dict[key][nout + k] = pars[m]\n",
    "        for m, key in enumerate(mc_info_list):\n",
    "            out_dict[key][nout + k] = mc_pars[m]\n",
    "    i += 1\n",
    "    nout += len(reader)\n",
    "    print('%i files, %i events, %.2f s to read, %.2f s past' % (i, nout, t_read, time.time() - t0))"
   ]
  },
  {
   "cell_type": "code",
   "execution_count": 111,
   "id": "87575914",
   "metadata": {},
   "outputs": [
    {
     "data": {
      "image/png": "[encoded data removed]",
      "text/plain": [
       "<Figure size 432x288 with 1 Axes>"
      ]
     },
     "metadata": {
      "needs_background": "light"
     },
     "output_type": "display_data"
    }
   ],
   "source": [
    "if 'image' in out_dict:\n",
    "    plt.imshow(out_dict['image'][0])"
   ]
  },
  {
   "cell_type": "code",
   "execution_count": 112,
   "id": "0144ab10",
   "metadata": {},
   "outputs": [
    {
     "name": "stdout",
     "output_type": "stream",
     "text": [
      "CPU times: user 43.4 ms, sys: 3.8 s, total: 3.85 s\n",
      "Wall time: 3.79 s\n"
     ]
    }
   ],
   "source": [
    "%%time\n",
    "if update and os.path.isfile(fn_out):\n",
    "    h5_out = h5py.File(fn_out, 'a')\n",
    "else:\n",
    "    if os.path.isfile(fn_out):\n",
    "        os.remove(fn_out)\n",
    "    h5_out = h5py.File(fn_out, 'w')\n",
    "\n",
    "for key in out_dict.keys():\n",
    "    if key in h5_out.keys():\n",
    "        del h5_out[key]\n",
    "    h5_out[key] = out_dict[key]"
   ]
  },
  {
   "cell_type": "code",
   "execution_count": 113,
   "id": "9828bb3b",
   "metadata": {},
   "outputs": [
    {
     "data": {
      "text/plain": [
       "True"
      ]
     },
     "execution_count": 113,
     "metadata": {},
     "output_type": "execute_result"
    }
   ],
   "source": [
    "os.path.isfile(fn_out)"
   ]
  },
  {
   "cell_type": "code",
   "execution_count": 114,
   "id": "a9b79789",
   "metadata": {},
   "outputs": [],
   "source": [
    "h5_out.close()"
   ]
  },
  {
   "cell_type": "code",
   "execution_count": null,
   "id": "ccbd7b6b",
   "metadata": {},
   "outputs": [],
   "source": []
  },
  {
   "cell_type": "code",
   "execution_count": 123,
   "id": "16bd5883",
   "metadata": {},
   "outputs": [],
   "source": [
    "h5_test = h5py.File(fn_out, 'r')"
   ]
  },
  {
   "cell_type": "code",
   "execution_count": 124,
   "id": "ca62e267",
   "metadata": {},
   "outputs": [
    {
     "data": {
      "text/plain": [
       "<matplotlib.image.AxesImage at 0x7f072801daf0>"
      ]
     },
     "execution_count": 124,
     "metadata": {},
     "output_type": "execute_result"
    },
    {
     "data": {
      "image/png": "[encoded data removed]",
      "text/plain": [
       "<Figure size 432x288 with 1 Axes>"
      ]
     },
     "metadata": {
      "needs_background": "light"
     },
     "output_type": "display_data"
    }
   ],
   "source": [
    "plt.imshow(h5_test['image'][0])"
   ]
  },
  {
   "cell_type": "code",
   "execution_count": 125,
   "id": "9d216f79",
   "metadata": {},
   "outputs": [
    {
     "data": {
      "text/plain": [
       "<matplotlib.image.AxesImage at 0x7f0727f881f0>"
      ]
     },
     "execution_count": 125,
     "metadata": {},
     "output_type": "execute_result"
    },
    {
     "data": {
      "image/png": "[encoded data removed]",
      "text/plain": [
       "<Figure size 432x288 with 1 Axes>"
      ]
     },
     "metadata": {
      "needs_background": "light"
     },
     "output_type": "display_data"
    }
   ],
   "source": [
    "plt.imshow(h5_test['image_mask'][0])"
   ]
  },
  {
   "cell_type": "code",
   "execution_count": 126,
   "id": "18ff9956",
   "metadata": {},
   "outputs": [
    {
     "data": {
      "text/plain": [
       "array([ 0.98592114,  0.98592114,  0.96325725,  0.11349198,  0.23770268,\n",
       "        0.81697851, 13.74468613,  0.1327962 ,  1.69124889,  0.15824963])"
      ]
     },
     "execution_count": 126,
     "metadata": {},
     "output_type": "execute_result"
    }
   ],
   "source": [
    "h5_test['true_energy'][:10]"
   ]
  },
  {
   "cell_type": "code",
   "execution_count": 127,
   "id": "aae8879c",
   "metadata": {},
   "outputs": [
    {
     "name": "stdout",
     "output_type": "stream",
     "text": [
      "0, Energy 0.986, hillas intensity 660, hillas x 0.373\n",
      "1, Energy 0.986, hillas intensity 143, hillas x -0.508\n",
      "2, Energy 0.963, hillas intensity 124, hillas x 0.535\n",
      "3, Energy 0.113, hillas intensity 81, hillas x -0.739\n",
      "4, Energy 0.238, hillas intensity 105, hillas x 0.233\n",
      "5, Energy 0.817, hillas intensity 236, hillas x -0.312\n",
      "6, Energy 13.745, hillas intensity nan, hillas x nan\n",
      "7, Energy 0.133, hillas intensity 55, hillas x -0.343\n",
      "8, Energy 1.691, hillas intensity 375, hillas x 1.020\n",
      "9, Energy 0.158, hillas intensity 147, hillas x 0.156\n",
      "10, Energy 0.268, hillas intensity 86, hillas x -0.339\n",
      "11, Energy 3.083, hillas intensity 636, hillas x 0.821\n",
      "12, Energy 3.053, hillas intensity 381, hillas x -0.492\n",
      "13, Energy 0.080, hillas intensity 154, hillas x 0.012\n",
      "14, Energy 0.547, hillas intensity 1100, hillas x 0.008\n",
      "15, Energy 0.232, hillas intensity 81, hillas x -0.828\n",
      "16, Energy 0.163, hillas intensity 140, hillas x 0.223\n",
      "17, Energy 0.176, hillas intensity 124, hillas x 0.774\n",
      "18, Energy 0.294, hillas intensity 330, hillas x 0.581\n",
      "19, Energy 4.362, hillas intensity 85, hillas x 0.760\n",
      "20, Energy 0.299, hillas intensity 77, hillas x -0.900\n",
      "21, Energy 0.815, hillas intensity 87, hillas x 0.875\n",
      "22, Energy 0.657, hillas intensity nan, hillas x nan\n",
      "23, Energy 0.136, hillas intensity 52, hillas x 0.448\n",
      "24, Energy 0.155, hillas intensity nan, hillas x nan\n",
      "25, Energy 1.111, hillas intensity 1406, hillas x -0.160\n",
      "26, Energy 62.496, hillas intensity 2656, hillas x 0.801\n",
      "27, Energy 0.178, hillas intensity 113, hillas x 0.816\n",
      "28, Energy 0.295, hillas intensity 189, hillas x -0.647\n",
      "29, Energy 2.141, hillas intensity 301, hillas x 0.118\n"
     ]
    }
   ],
   "source": [
    "for i in range(30):\n",
    "    EE = h5_test['true_energy'][i]\n",
    "    hi = h5_test['hillas_intensity'][i]\n",
    "    hl = h5_test['hillas_x'][i]\n",
    "    if np.isnan(hi) and np.isnan(hl):\n",
    "        print('%i, Energy %.3f, hillas intensity nan, hillas x nan' % (i, EE))\n",
    "    else:\n",
    "        print('%i, Energy %.3f, hillas intensity %i, hillas x %.3f' % (i, EE, hi, hl))\n",
    "    \n"
   ]
  },
  {
   "cell_type": "code",
   "execution_count": 120,
   "id": "524a718e",
   "metadata": {},
   "outputs": [
    {
     "data": {
      "text/plain": [
       "<KeysViewHDF5 ['hillas_intensity', 'hillas_kurtosis', 'hillas_length', 'hillas_phi', 'hillas_psi', 'hillas_r', 'hillas_skewness', 'hillas_width', 'hillas_x', 'hillas_y', 'image', 'image_mask', 'morphology_num_large_islands', 'morphology_num_medium_islands', 'morphology_num_pixels', 'true_alt', 'true_az', 'true_energy']>"
      ]
     },
     "execution_count": 120,
     "metadata": {},
     "output_type": "execute_result"
    }
   ],
   "source": [
    "h5_test.keys()"
   ]
  },
  {
   "cell_type": "code",
   "execution_count": 151,
   "id": "79e2050f",
   "metadata": {},
   "outputs": [
    {
     "name": "stdout",
     "output_type": "stream",
     "text": [
      "hillas_intensity 147.90843200683594\n",
      "hillas_kurtosis 2.339791774749756\n",
      "hillas_length 0.0387289822101593\n",
      "hillas_phi 76.42643737792969\n",
      "hillas_psi -83.44672393798828\n",
      "hillas_r 0.6645195484161377\n",
      "hillas_skewness -0.28045395016670227\n",
      "hillas_width 0.02058294601738453\n",
      "hillas_x 0.15595845878124237\n",
      "hillas_y 0.6459591388702393\n",
      "morphology_num_large_islands 0.0\n",
      "morphology_num_medium_islands 1.0\n",
      "morphology_num_pixels 7.0\n",
      "true_alt 70.33662554444182\n",
      "true_az 7.211732074786125\n",
      "true_energy 0.158249631524086\n"
     ]
    },
    {
     "data": {
      "text/plain": [
       "[<matplotlib.lines.Line2D at 0x7f07277c1df0>]"
      ]
     },
     "execution_count": 151,
     "metadata": {},
     "output_type": "execute_result"
    },
    {
     "data": {
      "image/png": "[encoded data removed]",
      "text/plain": [
       "<Figure size 432x288 with 1 Axes>"
      ]
     },
     "metadata": {
      "needs_background": "light"
     },
     "output_type": "display_data"
    }
   ],
   "source": [
    "i = 9\n",
    "for key in h5_test.keys():\n",
    "    if not key.startswith('image'):\n",
    "        print(key, h5_test[key][i])\n",
    "plt.imshow(h5_test['image_mask'][i].T, origin='lower')\n",
    "xi = 110 * (1 + h5_test['hillas_x'][i]) / 2\n",
    "yi = 110 * (1 + h5_test['hillas_y'][i]) / 2\n",
    "plt.plot(xi, yi, marker='s')"
   ]
  },
  {
   "cell_type": "code",
   "execution_count": 132,
   "id": "294abe93",
   "metadata": {},
   "outputs": [],
   "source": [
    "plt.imshow?"
   ]
  },
  {
   "cell_type": "code",
   "execution_count": 129,
   "id": "826e9c08",
   "metadata": {},
   "outputs": [
    {
     "data": {
      "text/plain": [
       "658.7000000476837"
      ]
     },
     "execution_count": 129,
     "metadata": {},
     "output_type": "execute_result"
    }
   ],
   "source": [
    "np.sum(h5_test['image_mask'][0])"
   ]
  },
  {
   "cell_type": "code",
   "execution_count": 121,
   "id": "4d90bfba",
   "metadata": {},
   "outputs": [],
   "source": [
    "h5_test.close()"
   ]
  },
  {
   "cell_type": "code",
   "execution_count": null,
   "id": "d4ec3864",
   "metadata": {},
   "outputs": [],
   "source": []
  }
 ],
 "metadata": {
  "kernelspec": {
   "display_name": "Python 3",
   "language": "python",
   "name": "python3"
  },
  "language_info": {
   "codemirror_mode": {
    "name": "ipython",
    "version": 3
   },
   "file_extension": ".py",
   "mimetype": "text/x-python",
   "name": "python",
   "nbconvert_exporter": "python",
   "pygments_lexer": "ipython3",
   "version": "3.6.9"
  }
 },
 "nbformat": 4,
 "nbformat_minor": 5
}
