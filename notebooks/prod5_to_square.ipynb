{
 "cells": [
  {
   "cell_type": "code",
   "execution_count": 29,
   "id": "1ab313ca",
   "metadata": {},
   "outputs": [],
   "source": [
    "# conda activate dl1dh_s1\n",
    "import numpy as np\n",
    "import matplotlib.pyplot as plt\n",
    "import os\n",
    "import h5py\n",
    "import time\n",
    "\n",
    "from dl1_data_handler.reader import DL1DataReaderSTAGE1, DL1DataReaderDL1DH"
   ]
  },
  {
   "cell_type": "code",
   "execution_count": 30,
   "id": "0588d49c",
   "metadata": {},
   "outputs": [],
   "source": [
    "# example derived from /home/woody/caph/mpp228/ML/CTA/dl1-data-handler_stage1/notebooks/dl1reading_stage1.ipynb\n",
    "mc_info_list = [\"true_energy\", \"true_alt\", \"true_az\"]\n",
    "channels_list = ['image', 'image_mask']\n",
    "def fn2reader(fn):\n",
    "    return DL1DataReaderSTAGE1([fn],\n",
    "                             mode='mono',\n",
    "                             #example_identifiers_file=\"./examples.h5\",\n",
    "                             selected_telescope_types=[\"LST_LST_LSTCam\"],\n",
    "                             selected_telescope_ids = {\"LST_LST_LSTCam\": [1]},\n",
    "                             #image_channels = ['image', 'peak_time', 'image_mask'],\n",
    "                             image_channels = channels_list,\n",
    "                             parameter_list = ['hillas_intensity', 'hillas_x'],\n",
    "                             event_info = mc_info_list)"
   ]
  },
  {
   "cell_type": "code",
   "execution_count": 56,
   "id": "c227a171",
   "metadata": {},
   "outputs": [],
   "source": [
    "event_type = 'gamma-diffuse' # 'proton', 'gamma-diffuse'\n",
    "evt = event_type.split('-')[0]\n",
    "\n",
    "n_events = 10000 #10**4\n",
    "\n"
   ]
  },
  {
   "cell_type": "code",
   "execution_count": 57,
   "id": "4755721c",
   "metadata": {},
   "outputs": [],
   "source": [
    "folder = '/home/saturn/caph/mpp228/CTA_data/Prod5_GRID/'\n",
    "folder_in = folder + 'Prod5_Paranal_AdvancedBaseline_NSB1x_%s_North_20deg_ctapipe_v0.10.5_DL1/' % event_type\n",
    "folder_out = folder + 'Prod5_square_images/'\n",
    "if not os.path.isdir(folder_out):\n",
    "    os.mkdir(folder_out)\n",
    "fn_out = folder_out + '%s_images.h5' % event_type\n",
    "if os.path.isfile(fn_out):\n",
    "    os.remove(fn_out)\n",
    "h5_out = h5py.File(fn_out, 'w')\n",
    "\n",
    "out_dict = {}\n",
    "for key in mc_info_list:\n",
    "    out_dict[key] = np.zeros(n_events)"
   ]
  },
  {
   "cell_type": "code",
   "execution_count": 58,
   "id": "e67166f3",
   "metadata": {},
   "outputs": [],
   "source": [
    "if 0:\n",
    "    fn = folder_in + fns[0]\n",
    "    reader = fn2reader(fn)\n",
    "    reader[7][0].shape\n"
   ]
  },
  {
   "cell_type": "code",
   "execution_count": null,
   "id": "a36ab2b4",
   "metadata": {},
   "outputs": [],
   "source": []
  },
  {
   "cell_type": "code",
   "execution_count": 59,
   "id": "e9cb69ac",
   "metadata": {},
   "outputs": [
    {
     "name": "stdout",
     "output_type": "stream",
     "text": [
      "1 412\n",
      "1.70 s to read\n",
      "3.76 s past\n",
      "2 798\n",
      "3.42 s to read\n",
      "7.40 s past\n",
      "3 1236\n",
      "5.11 s to read\n",
      "11.59 s past\n",
      "4 1630\n",
      "6.62 s to read\n",
      "15.88 s past\n",
      "5 2025\n",
      "8.16 s to read\n",
      "19.48 s past\n",
      "6 2475\n",
      "10.19 s to read\n",
      "23.80 s past\n",
      "7 2879\n",
      "11.68 s to read\n",
      "27.53 s past\n",
      "8 3266\n",
      "13.16 s to read\n",
      "30.96 s past\n",
      "9 3706\n",
      "14.64 s to read\n",
      "34.80 s past\n",
      "10 4153\n",
      "16.12 s to read\n",
      "38.62 s past\n",
      "11 4555\n",
      "17.60 s to read\n",
      "42.17 s past\n",
      "12 4991\n",
      "19.07 s to read\n",
      "45.86 s past\n",
      "13 5407\n",
      "20.54 s to read\n",
      "49.70 s past\n",
      "14 5855\n",
      "22.01 s to read\n",
      "53.48 s past\n",
      "15 6326\n",
      "23.48 s to read\n",
      "57.36 s past\n",
      "16 6699\n",
      "24.97 s to read\n",
      "60.81 s past\n",
      "17 7139\n",
      "26.43 s to read\n",
      "64.59 s past\n",
      "18 7580\n",
      "27.88 s to read\n",
      "68.30 s past\n",
      "19 7981\n",
      "29.35 s to read\n",
      "71.81 s past\n",
      "20 8398\n",
      "30.81 s to read\n",
      "75.45 s past\n",
      "21 8838\n",
      "32.25 s to read\n",
      "79.19 s past\n",
      "22 9268\n",
      "33.69 s to read\n",
      "82.87 s past\n",
      "23 9706\n",
      "35.14 s to read\n",
      "86.58 s past\n",
      "24 10101\n",
      "37.23 s to read\n",
      "90.25 s past\n",
      "CPU times: user 1min 23s, sys: 5.78 s, total: 1min 28s\n",
      "Wall time: 1min 30s\n"
     ]
    }
   ],
   "source": [
    "%%time\n",
    "fns = os.listdir(folder_in)\n",
    "fns = [fn for fn in fns if fn.endswith('h5')]\n",
    "t0 = time.time()\n",
    "t_read = 0.\n",
    "\n",
    "i = 0\n",
    "nout = 0\n",
    "while nout < n_events:\n",
    "    fn = folder_in + fns[i]\n",
    "    t_read0 = time.time()\n",
    "    reader = fn2reader(fn)\n",
    "    t_read += time.time() - t_read0\n",
    "    if i == 0:\n",
    "        im_dims = reader[0][0].shape[:2]\n",
    "        for key in channels_list:\n",
    "            out_dict[key] = np.zeros((n_events, im_dims[0], im_dims[1]))\n",
    "    for k in range(len(reader)):\n",
    "        if nout + k == n_events:\n",
    "            break\n",
    "        #out_dict['images'][nout + k] = reader[k][0][:,:,0]\n",
    "        for m, key in enumerate(channels_list):\n",
    "            out_dict[key][nout + k] = reader[k][0][:,:,m]\n",
    "        for m, key in enumerate(mc_info_list):\n",
    "            out_dict[key][nout + k] = reader[k][m + 2]\n",
    "    i += 1\n",
    "    nout += len(reader)\n",
    "    print(i, nout)\n",
    "    print('%.2f s to read' % (t_read))\n",
    "    print('%.2f s past' % (time.time() - t0))"
   ]
  },
  {
   "cell_type": "code",
   "execution_count": 60,
   "id": "87575914",
   "metadata": {},
   "outputs": [
    {
     "data": {
      "text/plain": [
       "<matplotlib.image.AxesImage at 0x7f1615978d30>"
      ]
     },
     "execution_count": 60,
     "metadata": {},
     "output_type": "execute_result"
    },
    {
     "data": {
      "image/png": "[encoded data removed]",
      "text/plain": [
       "<Figure size 432x288 with 1 Axes>"
      ]
     },
     "metadata": {
      "needs_background": "light"
     },
     "output_type": "display_data"
    }
   ],
   "source": [
    "plt.imshow(out_dict['image_mask'][0])"
   ]
  },
  {
   "cell_type": "code",
   "execution_count": 61,
   "id": "0144ab10",
   "metadata": {},
   "outputs": [
    {
     "name": "stdout",
     "output_type": "stream",
     "text": [
      "CPU times: user 6.22 ms, sys: 1.43 s, total: 1.43 s\n",
      "Wall time: 1.42 s\n"
     ]
    }
   ],
   "source": [
    "%%time\n",
    "for key in out_dict.keys():\n",
    "    if key in h5_out.keys():\n",
    "        del h5_out[key]\n",
    "    h5_out[key] = out_dict[key]"
   ]
  },
  {
   "cell_type": "code",
   "execution_count": 62,
   "id": "8915a9cd",
   "metadata": {},
   "outputs": [
    {
     "data": {
      "text/plain": [
       "array([1.40757385e+02, 1.40757385e+02, 2.87870150e-02, 5.58162630e-01,\n",
       "       3.02335247e-02, 1.66013412e+01, 1.49463439e+00, 6.93911970e-01,\n",
       "       6.93911970e-01, 6.93911970e-01, 9.28349718e-02, 9.28349718e-02,\n",
       "       3.79442120e+00, 3.83764833e-01, 1.67161226e+00, 9.94962379e-02,\n",
       "       2.90383196e+00, 5.32133691e-02, 4.72784698e-01, 3.61163216e+01,\n",
       "       2.57008784e-02, 2.20144372e-02, 2.70452589e-01, 1.96689852e-02,\n",
       "       7.24231154e-02, 2.68539786e-01, 1.87846180e-02, 3.46398875e-02,\n",
       "       1.19818002e-02, 1.23785846e-02, 4.15950924e-01, 5.76941855e-02,\n",
       "       3.90592515e-02, 2.94412095e-02, 7.76321769e-01, 7.25964069e-01,\n",
       "       1.01674929e-01, 8.89213849e-03, 1.17940903e-01, 1.28260314e+00,\n",
       "       1.82232112e-01, 2.11401030e-01, 1.76248197e-02, 2.03840081e-02,\n",
       "       3.05291582e-02, 2.34272927e-01, 1.32695571e-01, 1.57490537e-01,\n",
       "       4.53020968e-02, 5.02029173e-02, 5.26831245e+01, 2.69371009e+00,\n",
       "       2.88503289e-01, 1.12906560e-01, 3.13664484e+00, 3.13664484e+00,\n",
       "       3.13664484e+00, 9.06171277e-02, 1.82086140e-01, 2.21077800e-02,\n",
       "       1.58813679e+00, 1.27796710e-01, 1.04975805e-01, 3.41823071e-01,\n",
       "       1.04601972e-01, 1.13475673e-01, 1.98218804e-02, 3.21848840e-02,\n",
       "       7.03524575e-02, 1.62407085e-02, 5.49692690e-01, 5.49692690e-01,\n",
       "       5.49692690e-01, 2.26230621e-02, 4.96369213e-01, 6.19111967e+00,\n",
       "       4.96143878e-01, 3.00597008e-02, 9.97639596e-01, 5.43621597e+01,\n",
       "       4.26145583e-01, 1.40955523e-01, 8.83618891e-01, 8.83618891e-01,\n",
       "       2.67920613e-01, 1.26617777e+00, 1.70285892e+00, 2.74352115e-02,\n",
       "       2.34681487e-01, 1.98230972e+01, 7.63266981e-01, 1.12637810e-01,\n",
       "       1.25767542e-02, 1.44067228e-01, 5.54494083e-01, 5.54494083e-01,\n",
       "       2.79133320e-01, 2.64342368e-01, 1.64791383e-02, 4.16154824e-02])"
      ]
     },
     "execution_count": 62,
     "metadata": {},
     "output_type": "execute_result"
    }
   ],
   "source": [
    "h5_out['true_energy'][()][:100]"
   ]
  },
  {
   "cell_type": "code",
   "execution_count": 63,
   "id": "9656cbf3",
   "metadata": {},
   "outputs": [],
   "source": [
    "h5_out.close()"
   ]
  },
  {
   "cell_type": "code",
   "execution_count": 64,
   "id": "16bd5883",
   "metadata": {},
   "outputs": [],
   "source": [
    "h5_test = h5py.File(fn_out, 'r')"
   ]
  },
  {
   "cell_type": "code",
   "execution_count": 65,
   "id": "ca62e267",
   "metadata": {},
   "outputs": [
    {
     "data": {
      "text/plain": [
       "<matplotlib.image.AxesImage at 0x7f1611f51430>"
      ]
     },
     "execution_count": 65,
     "metadata": {},
     "output_type": "execute_result"
    },
    {
     "data": {
      "image/png": "[encoded data removed]",
      "text/plain": [
       "<Figure size 432x288 with 1 Axes>"
      ]
     },
     "metadata": {
      "needs_background": "light"
     },
     "output_type": "display_data"
    }
   ],
   "source": [
    "plt.imshow(h5_test['image'][0])"
   ]
  },
  {
   "cell_type": "code",
   "execution_count": 66,
   "id": "9d216f79",
   "metadata": {},
   "outputs": [
    {
     "data": {
      "text/plain": [
       "<matplotlib.image.AxesImage at 0x7f1611a510d0>"
      ]
     },
     "execution_count": 66,
     "metadata": {},
     "output_type": "execute_result"
    },
    {
     "data": {
      "image/png": "[encoded data removed]",
      "text/plain": [
       "<Figure size 432x288 with 1 Axes>"
      ]
     },
     "metadata": {
      "needs_background": "light"
     },
     "output_type": "display_data"
    }
   ],
   "source": [
    "plt.imshow(h5_test['image_mask'][0])"
   ]
  },
  {
   "cell_type": "code",
   "execution_count": 67,
   "id": "18ff9956",
   "metadata": {},
   "outputs": [
    {
     "data": {
      "text/plain": [
       "array([1.40757385e+02, 1.40757385e+02, 2.87870150e-02, 5.58162630e-01,\n",
       "       3.02335247e-02, 1.66013412e+01, 1.49463439e+00, 6.93911970e-01,\n",
       "       6.93911970e-01, 6.93911970e-01])"
      ]
     },
     "execution_count": 67,
     "metadata": {},
     "output_type": "execute_result"
    }
   ],
   "source": [
    "h5_test['true_energy'][:10]"
   ]
  },
  {
   "cell_type": "code",
   "execution_count": 68,
   "id": "a58bf37c",
   "metadata": {},
   "outputs": [
    {
     "data": {
      "text/plain": [
       "'/home/saturn/caph/mpp228/CTA_data/Prod5_GRID/Prod5_square_images/gamma-diffuse_images.h5'"
      ]
     },
     "execution_count": 68,
     "metadata": {},
     "output_type": "execute_result"
    }
   ],
   "source": [
    "fn_out"
   ]
  },
  {
   "cell_type": "code",
   "execution_count": null,
   "id": "4d90bfba",
   "metadata": {},
   "outputs": [],
   "source": []
  }
 ],
 "metadata": {
  "kernelspec": {
   "display_name": "Python 3 (ipykernel)",
   "language": "python",
   "name": "python3"
  },
  "language_info": {
   "codemirror_mode": {
    "name": "ipython",
    "version": 3
   },
   "file_extension": ".py",
   "mimetype": "text/x-python",
   "name": "python",
   "nbconvert_exporter": "python",
   "pygments_lexer": "ipython3",
   "version": "3.8.12"
  }
 },
 "nbformat": 4,
 "nbformat_minor": 5
}
